{
 "cells": [
  {
   "cell_type": "code",
   "execution_count": 1,
   "metadata": {},
   "outputs": [
    {
     "ename": "ModuleNotFoundError",
     "evalue": "No module named 'keras'",
     "output_type": "error",
     "traceback": [
      "\u001b[0;31m---------------------------------------------------------------------------\u001b[0m",
      "\u001b[0;31mModuleNotFoundError\u001b[0m                       Traceback (most recent call last)",
      "\u001b[0;32m/tmp/ipykernel_7915/2687004567.py\u001b[0m in \u001b[0;36m<module>\u001b[0;34m\u001b[0m\n\u001b[1;32m      1\u001b[0m \u001b[0;32mfrom\u001b[0m \u001b[0mpydub\u001b[0m \u001b[0;32mimport\u001b[0m \u001b[0mAudioSegment\u001b[0m\u001b[0;34m\u001b[0m\u001b[0;34m\u001b[0m\u001b[0m\n\u001b[1;32m      2\u001b[0m \u001b[0;32mimport\u001b[0m \u001b[0mtensorflow\u001b[0m \u001b[0;32mas\u001b[0m \u001b[0mtf\u001b[0m\u001b[0;34m\u001b[0m\u001b[0;34m\u001b[0m\u001b[0m\n\u001b[0;32m----> 3\u001b[0;31m \u001b[0;32mimport\u001b[0m \u001b[0mtensorflow_hub\u001b[0m \u001b[0;32mas\u001b[0m \u001b[0mhub\u001b[0m\u001b[0;34m\u001b[0m\u001b[0;34m\u001b[0m\u001b[0m\n\u001b[0m\u001b[1;32m      4\u001b[0m \u001b[0;32mimport\u001b[0m \u001b[0mnumpy\u001b[0m \u001b[0;32mas\u001b[0m \u001b[0mnp\u001b[0m\u001b[0;34m\u001b[0m\u001b[0;34m\u001b[0m\u001b[0m\n\u001b[1;32m      5\u001b[0m \u001b[0;32mimport\u001b[0m \u001b[0mpandas\u001b[0m \u001b[0;32mas\u001b[0m \u001b[0mpd\u001b[0m\u001b[0;34m\u001b[0m\u001b[0;34m\u001b[0m\u001b[0m\n",
      "\u001b[0;32m~/miniconda3/envs/conda-tf/lib/python3.9/site-packages/tensorflow_hub/__init__.py\u001b[0m in \u001b[0;36m<module>\u001b[0;34m\u001b[0m\n\u001b[1;32m     86\u001b[0m \u001b[0;34m\u001b[0m\u001b[0m\n\u001b[1;32m     87\u001b[0m \u001b[0;34m\u001b[0m\u001b[0m\n\u001b[0;32m---> 88\u001b[0;31m \u001b[0;32mfrom\u001b[0m \u001b[0mtensorflow_hub\u001b[0m\u001b[0;34m.\u001b[0m\u001b[0mestimator\u001b[0m \u001b[0;32mimport\u001b[0m \u001b[0mLatestModuleExporter\u001b[0m\u001b[0;34m\u001b[0m\u001b[0;34m\u001b[0m\u001b[0m\n\u001b[0m\u001b[1;32m     89\u001b[0m \u001b[0;32mfrom\u001b[0m \u001b[0mtensorflow_hub\u001b[0m\u001b[0;34m.\u001b[0m\u001b[0mestimator\u001b[0m \u001b[0;32mimport\u001b[0m \u001b[0mregister_module_for_export\u001b[0m\u001b[0;34m\u001b[0m\u001b[0;34m\u001b[0m\u001b[0m\n\u001b[1;32m     90\u001b[0m \u001b[0;32mfrom\u001b[0m \u001b[0mtensorflow_hub\u001b[0m\u001b[0;34m.\u001b[0m\u001b[0mfeature_column\u001b[0m \u001b[0;32mimport\u001b[0m \u001b[0mimage_embedding_column\u001b[0m\u001b[0;34m\u001b[0m\u001b[0;34m\u001b[0m\u001b[0m\n",
      "\u001b[0;32m~/miniconda3/envs/conda-tf/lib/python3.9/site-packages/tensorflow_hub/estimator.py\u001b[0m in \u001b[0;36m<module>\u001b[0;34m\u001b[0m\n\u001b[1;32m     60\u001b[0m \u001b[0;34m\u001b[0m\u001b[0m\n\u001b[1;32m     61\u001b[0m \u001b[0;34m\u001b[0m\u001b[0m\n\u001b[0;32m---> 62\u001b[0;31m \u001b[0;32mclass\u001b[0m \u001b[0mLatestModuleExporter\u001b[0m\u001b[0;34m(\u001b[0m\u001b[0mtf\u001b[0m\u001b[0;34m.\u001b[0m\u001b[0mcompat\u001b[0m\u001b[0;34m.\u001b[0m\u001b[0mv1\u001b[0m\u001b[0;34m.\u001b[0m\u001b[0mestimator\u001b[0m\u001b[0;34m.\u001b[0m\u001b[0mExporter\u001b[0m\u001b[0;34m)\u001b[0m\u001b[0;34m:\u001b[0m\u001b[0;34m\u001b[0m\u001b[0;34m\u001b[0m\u001b[0m\n\u001b[0m\u001b[1;32m     63\u001b[0m   \"\"\"Regularly exports registered modules into timestamped directories.\n\u001b[1;32m     64\u001b[0m \u001b[0;34m\u001b[0m\u001b[0m\n",
      "\u001b[0;32m~/miniconda3/envs/conda-tf/lib/python3.9/site-packages/tensorflow/python/util/lazy_loader.py\u001b[0m in \u001b[0;36m__getattr__\u001b[0;34m(self, item)\u001b[0m\n\u001b[1;32m     60\u001b[0m \u001b[0;34m\u001b[0m\u001b[0m\n\u001b[1;32m     61\u001b[0m   \u001b[0;32mdef\u001b[0m \u001b[0m__getattr__\u001b[0m\u001b[0;34m(\u001b[0m\u001b[0mself\u001b[0m\u001b[0;34m,\u001b[0m \u001b[0mitem\u001b[0m\u001b[0;34m)\u001b[0m\u001b[0;34m:\u001b[0m\u001b[0;34m\u001b[0m\u001b[0;34m\u001b[0m\u001b[0m\n\u001b[0;32m---> 62\u001b[0;31m     \u001b[0mmodule\u001b[0m \u001b[0;34m=\u001b[0m \u001b[0mself\u001b[0m\u001b[0;34m.\u001b[0m\u001b[0m_load\u001b[0m\u001b[0;34m(\u001b[0m\u001b[0;34m)\u001b[0m\u001b[0;34m\u001b[0m\u001b[0;34m\u001b[0m\u001b[0m\n\u001b[0m\u001b[1;32m     63\u001b[0m     \u001b[0;32mreturn\u001b[0m \u001b[0mgetattr\u001b[0m\u001b[0;34m(\u001b[0m\u001b[0mmodule\u001b[0m\u001b[0;34m,\u001b[0m \u001b[0mitem\u001b[0m\u001b[0;34m)\u001b[0m\u001b[0;34m\u001b[0m\u001b[0;34m\u001b[0m\u001b[0m\n\u001b[1;32m     64\u001b[0m \u001b[0;34m\u001b[0m\u001b[0m\n",
      "\u001b[0;32m~/miniconda3/envs/conda-tf/lib/python3.9/site-packages/tensorflow/python/util/lazy_loader.py\u001b[0m in \u001b[0;36m_load\u001b[0;34m(self)\u001b[0m\n\u001b[1;32m     43\u001b[0m     \u001b[0;34m\"\"\"Load the module and insert it into the parent's globals.\"\"\"\u001b[0m\u001b[0;34m\u001b[0m\u001b[0;34m\u001b[0m\u001b[0m\n\u001b[1;32m     44\u001b[0m     \u001b[0;31m# Import the target module and insert it into the parent's namespace\u001b[0m\u001b[0;34m\u001b[0m\u001b[0;34m\u001b[0m\u001b[0m\n\u001b[0;32m---> 45\u001b[0;31m     \u001b[0mmodule\u001b[0m \u001b[0;34m=\u001b[0m \u001b[0mimportlib\u001b[0m\u001b[0;34m.\u001b[0m\u001b[0mimport_module\u001b[0m\u001b[0;34m(\u001b[0m\u001b[0mself\u001b[0m\u001b[0;34m.\u001b[0m\u001b[0m__name__\u001b[0m\u001b[0;34m)\u001b[0m\u001b[0;34m\u001b[0m\u001b[0;34m\u001b[0m\u001b[0m\n\u001b[0m\u001b[1;32m     46\u001b[0m     \u001b[0mself\u001b[0m\u001b[0;34m.\u001b[0m\u001b[0m_parent_module_globals\u001b[0m\u001b[0;34m[\u001b[0m\u001b[0mself\u001b[0m\u001b[0;34m.\u001b[0m\u001b[0m_local_name\u001b[0m\u001b[0;34m]\u001b[0m \u001b[0;34m=\u001b[0m \u001b[0mmodule\u001b[0m\u001b[0;34m\u001b[0m\u001b[0;34m\u001b[0m\u001b[0m\n\u001b[1;32m     47\u001b[0m \u001b[0;34m\u001b[0m\u001b[0m\n",
      "\u001b[0;32m~/miniconda3/envs/conda-tf/lib/python3.9/importlib/__init__.py\u001b[0m in \u001b[0;36mimport_module\u001b[0;34m(name, package)\u001b[0m\n\u001b[1;32m    125\u001b[0m                 \u001b[0;32mbreak\u001b[0m\u001b[0;34m\u001b[0m\u001b[0;34m\u001b[0m\u001b[0m\n\u001b[1;32m    126\u001b[0m             \u001b[0mlevel\u001b[0m \u001b[0;34m+=\u001b[0m \u001b[0;36m1\u001b[0m\u001b[0;34m\u001b[0m\u001b[0;34m\u001b[0m\u001b[0m\n\u001b[0;32m--> 127\u001b[0;31m     \u001b[0;32mreturn\u001b[0m \u001b[0m_bootstrap\u001b[0m\u001b[0;34m.\u001b[0m\u001b[0m_gcd_import\u001b[0m\u001b[0;34m(\u001b[0m\u001b[0mname\u001b[0m\u001b[0;34m[\u001b[0m\u001b[0mlevel\u001b[0m\u001b[0;34m:\u001b[0m\u001b[0;34m]\u001b[0m\u001b[0;34m,\u001b[0m \u001b[0mpackage\u001b[0m\u001b[0;34m,\u001b[0m \u001b[0mlevel\u001b[0m\u001b[0;34m)\u001b[0m\u001b[0;34m\u001b[0m\u001b[0;34m\u001b[0m\u001b[0m\n\u001b[0m\u001b[1;32m    128\u001b[0m \u001b[0;34m\u001b[0m\u001b[0m\n\u001b[1;32m    129\u001b[0m \u001b[0;34m\u001b[0m\u001b[0m\n",
      "\u001b[0;32m~/miniconda3/envs/conda-tf/lib/python3.9/site-packages/tensorflow_estimator/__init__.py\u001b[0m in \u001b[0;36m<module>\u001b[0;34m\u001b[0m\n\u001b[1;32m      8\u001b[0m \u001b[0;32mimport\u001b[0m \u001b[0msys\u001b[0m \u001b[0;32mas\u001b[0m \u001b[0m_sys\u001b[0m\u001b[0;34m\u001b[0m\u001b[0;34m\u001b[0m\u001b[0m\n\u001b[1;32m      9\u001b[0m \u001b[0;34m\u001b[0m\u001b[0m\n\u001b[0;32m---> 10\u001b[0;31m \u001b[0;32mfrom\u001b[0m \u001b[0mtensorflow_estimator\u001b[0m\u001b[0;34m.\u001b[0m\u001b[0m_api\u001b[0m\u001b[0;34m.\u001b[0m\u001b[0mv1\u001b[0m \u001b[0;32mimport\u001b[0m \u001b[0mestimator\u001b[0m\u001b[0;34m\u001b[0m\u001b[0;34m\u001b[0m\u001b[0m\n\u001b[0m\u001b[1;32m     11\u001b[0m \u001b[0;34m\u001b[0m\u001b[0m\n\u001b[1;32m     12\u001b[0m \u001b[0;32mdel\u001b[0m \u001b[0m_print_function\u001b[0m\u001b[0;34m\u001b[0m\u001b[0;34m\u001b[0m\u001b[0m\n",
      "\u001b[0;32m~/miniconda3/envs/conda-tf/lib/python3.9/site-packages/tensorflow_estimator/_api/v1/estimator/__init__.py\u001b[0m in \u001b[0;36m<module>\u001b[0;34m\u001b[0m\n\u001b[1;32m      8\u001b[0m \u001b[0;32mimport\u001b[0m \u001b[0msys\u001b[0m \u001b[0;32mas\u001b[0m \u001b[0m_sys\u001b[0m\u001b[0;34m\u001b[0m\u001b[0;34m\u001b[0m\u001b[0m\n\u001b[1;32m      9\u001b[0m \u001b[0;34m\u001b[0m\u001b[0m\n\u001b[0;32m---> 10\u001b[0;31m \u001b[0;32mfrom\u001b[0m \u001b[0mtensorflow_estimator\u001b[0m\u001b[0;34m.\u001b[0m\u001b[0m_api\u001b[0m\u001b[0;34m.\u001b[0m\u001b[0mv1\u001b[0m\u001b[0;34m.\u001b[0m\u001b[0mestimator\u001b[0m \u001b[0;32mimport\u001b[0m \u001b[0mexperimental\u001b[0m\u001b[0;34m\u001b[0m\u001b[0;34m\u001b[0m\u001b[0m\n\u001b[0m\u001b[1;32m     11\u001b[0m \u001b[0;32mfrom\u001b[0m \u001b[0mtensorflow_estimator\u001b[0m\u001b[0;34m.\u001b[0m\u001b[0m_api\u001b[0m\u001b[0;34m.\u001b[0m\u001b[0mv1\u001b[0m\u001b[0;34m.\u001b[0m\u001b[0mestimator\u001b[0m \u001b[0;32mimport\u001b[0m \u001b[0mexport\u001b[0m\u001b[0;34m\u001b[0m\u001b[0;34m\u001b[0m\u001b[0m\n\u001b[1;32m     12\u001b[0m \u001b[0;32mfrom\u001b[0m \u001b[0mtensorflow_estimator\u001b[0m\u001b[0;34m.\u001b[0m\u001b[0m_api\u001b[0m\u001b[0;34m.\u001b[0m\u001b[0mv1\u001b[0m\u001b[0;34m.\u001b[0m\u001b[0mestimator\u001b[0m \u001b[0;32mimport\u001b[0m \u001b[0minputs\u001b[0m\u001b[0;34m\u001b[0m\u001b[0;34m\u001b[0m\u001b[0m\n",
      "\u001b[0;32m~/miniconda3/envs/conda-tf/lib/python3.9/site-packages/tensorflow_estimator/_api/v1/estimator/experimental/__init__.py\u001b[0m in \u001b[0;36m<module>\u001b[0;34m\u001b[0m\n\u001b[1;32m      8\u001b[0m \u001b[0;32mimport\u001b[0m \u001b[0msys\u001b[0m \u001b[0;32mas\u001b[0m \u001b[0m_sys\u001b[0m\u001b[0;34m\u001b[0m\u001b[0;34m\u001b[0m\u001b[0m\n\u001b[1;32m      9\u001b[0m \u001b[0;34m\u001b[0m\u001b[0m\n\u001b[0;32m---> 10\u001b[0;31m \u001b[0;32mfrom\u001b[0m \u001b[0mtensorflow_estimator\u001b[0m\u001b[0;34m.\u001b[0m\u001b[0mpython\u001b[0m\u001b[0;34m.\u001b[0m\u001b[0mestimator\u001b[0m\u001b[0;34m.\u001b[0m\u001b[0mcanned\u001b[0m\u001b[0;34m.\u001b[0m\u001b[0mdnn\u001b[0m \u001b[0;32mimport\u001b[0m \u001b[0mdnn_logit_fn_builder\u001b[0m\u001b[0;34m\u001b[0m\u001b[0;34m\u001b[0m\u001b[0m\n\u001b[0m\u001b[1;32m     11\u001b[0m \u001b[0;32mfrom\u001b[0m \u001b[0mtensorflow_estimator\u001b[0m\u001b[0;34m.\u001b[0m\u001b[0mpython\u001b[0m\u001b[0;34m.\u001b[0m\u001b[0mestimator\u001b[0m\u001b[0;34m.\u001b[0m\u001b[0mcanned\u001b[0m\u001b[0;34m.\u001b[0m\u001b[0mkmeans\u001b[0m \u001b[0;32mimport\u001b[0m \u001b[0mKMeansClustering\u001b[0m \u001b[0;32mas\u001b[0m \u001b[0mKMeans\u001b[0m\u001b[0;34m\u001b[0m\u001b[0;34m\u001b[0m\u001b[0m\n\u001b[1;32m     12\u001b[0m \u001b[0;32mfrom\u001b[0m \u001b[0mtensorflow_estimator\u001b[0m\u001b[0;34m.\u001b[0m\u001b[0mpython\u001b[0m\u001b[0;34m.\u001b[0m\u001b[0mestimator\u001b[0m\u001b[0;34m.\u001b[0m\u001b[0mcanned\u001b[0m\u001b[0;34m.\u001b[0m\u001b[0mlinear\u001b[0m \u001b[0;32mimport\u001b[0m \u001b[0mLinearSDCA\u001b[0m\u001b[0;34m\u001b[0m\u001b[0;34m\u001b[0m\u001b[0m\n",
      "\u001b[0;32m~/miniconda3/envs/conda-tf/lib/python3.9/site-packages/tensorflow_estimator/python/estimator/canned/dnn.py\u001b[0m in \u001b[0;36m<module>\u001b[0;34m\u001b[0m\n\u001b[1;32m     27\u001b[0m \u001b[0;32mfrom\u001b[0m \u001b[0mtensorflow_estimator\u001b[0m\u001b[0;34m.\u001b[0m\u001b[0mpython\u001b[0m\u001b[0;34m.\u001b[0m\u001b[0mestimator\u001b[0m \u001b[0;32mimport\u001b[0m \u001b[0mestimator\u001b[0m\u001b[0;34m\u001b[0m\u001b[0;34m\u001b[0m\u001b[0m\n\u001b[1;32m     28\u001b[0m \u001b[0;32mfrom\u001b[0m \u001b[0mtensorflow_estimator\u001b[0m\u001b[0;34m.\u001b[0m\u001b[0mpython\u001b[0m\u001b[0;34m.\u001b[0m\u001b[0mestimator\u001b[0m\u001b[0;34m.\u001b[0m\u001b[0mcanned\u001b[0m \u001b[0;32mimport\u001b[0m \u001b[0mhead\u001b[0m \u001b[0;32mas\u001b[0m \u001b[0mhead_lib\u001b[0m\u001b[0;34m\u001b[0m\u001b[0;34m\u001b[0m\u001b[0m\n\u001b[0;32m---> 29\u001b[0;31m \u001b[0;32mfrom\u001b[0m \u001b[0mtensorflow_estimator\u001b[0m\u001b[0;34m.\u001b[0m\u001b[0mpython\u001b[0m\u001b[0;34m.\u001b[0m\u001b[0mestimator\u001b[0m\u001b[0;34m.\u001b[0m\u001b[0mcanned\u001b[0m \u001b[0;32mimport\u001b[0m \u001b[0moptimizers\u001b[0m\u001b[0;34m\u001b[0m\u001b[0;34m\u001b[0m\u001b[0m\n\u001b[0m\u001b[1;32m     30\u001b[0m \u001b[0;32mfrom\u001b[0m \u001b[0mtensorflow_estimator\u001b[0m\u001b[0;34m.\u001b[0m\u001b[0mpython\u001b[0m\u001b[0;34m.\u001b[0m\u001b[0mestimator\u001b[0m\u001b[0;34m.\u001b[0m\u001b[0mhead\u001b[0m \u001b[0;32mimport\u001b[0m \u001b[0mhead_utils\u001b[0m\u001b[0;34m\u001b[0m\u001b[0;34m\u001b[0m\u001b[0m\n\u001b[1;32m     31\u001b[0m \u001b[0;32mfrom\u001b[0m \u001b[0mtensorflow_estimator\u001b[0m\u001b[0;34m.\u001b[0m\u001b[0mpython\u001b[0m\u001b[0;34m.\u001b[0m\u001b[0mestimator\u001b[0m\u001b[0;34m.\u001b[0m\u001b[0mhead\u001b[0m \u001b[0;32mimport\u001b[0m \u001b[0mregression_head\u001b[0m\u001b[0;34m\u001b[0m\u001b[0;34m\u001b[0m\u001b[0m\n",
      "\u001b[0;32m~/miniconda3/envs/conda-tf/lib/python3.9/site-packages/tensorflow_estimator/python/estimator/canned/optimizers.py\u001b[0m in \u001b[0;36m<module>\u001b[0;34m\u001b[0m\n\u001b[1;32m     32\u001b[0m \u001b[0;34m\u001b[0m\u001b[0m\n\u001b[1;32m     33\u001b[0m _OPTIMIZER_CLS_NAMES_V2 = {\n\u001b[0;32m---> 34\u001b[0;31m     \u001b[0;34m'Adagrad'\u001b[0m\u001b[0;34m:\u001b[0m \u001b[0mtf\u001b[0m\u001b[0;34m.\u001b[0m\u001b[0mkeras\u001b[0m\u001b[0;34m.\u001b[0m\u001b[0moptimizers\u001b[0m\u001b[0;34m.\u001b[0m\u001b[0mAdagrad\u001b[0m\u001b[0;34m,\u001b[0m\u001b[0;34m\u001b[0m\u001b[0;34m\u001b[0m\u001b[0m\n\u001b[0m\u001b[1;32m     35\u001b[0m     \u001b[0;34m'Adam'\u001b[0m\u001b[0;34m:\u001b[0m \u001b[0mtf\u001b[0m\u001b[0;34m.\u001b[0m\u001b[0mkeras\u001b[0m\u001b[0;34m.\u001b[0m\u001b[0moptimizers\u001b[0m\u001b[0;34m.\u001b[0m\u001b[0mAdam\u001b[0m\u001b[0;34m,\u001b[0m\u001b[0;34m\u001b[0m\u001b[0;34m\u001b[0m\u001b[0m\n\u001b[1;32m     36\u001b[0m     \u001b[0;34m'Ftrl'\u001b[0m\u001b[0;34m:\u001b[0m \u001b[0mtf\u001b[0m\u001b[0;34m.\u001b[0m\u001b[0mkeras\u001b[0m\u001b[0;34m.\u001b[0m\u001b[0moptimizers\u001b[0m\u001b[0;34m.\u001b[0m\u001b[0mFtrl\u001b[0m\u001b[0;34m,\u001b[0m\u001b[0;34m\u001b[0m\u001b[0;34m\u001b[0m\u001b[0m\n",
      "\u001b[0;32m~/miniconda3/envs/conda-tf/lib/python3.9/site-packages/tensorflow/python/util/lazy_loader.py\u001b[0m in \u001b[0;36m__getattr__\u001b[0;34m(self, item)\u001b[0m\n\u001b[1;32m     60\u001b[0m \u001b[0;34m\u001b[0m\u001b[0m\n\u001b[1;32m     61\u001b[0m   \u001b[0;32mdef\u001b[0m \u001b[0m__getattr__\u001b[0m\u001b[0;34m(\u001b[0m\u001b[0mself\u001b[0m\u001b[0;34m,\u001b[0m \u001b[0mitem\u001b[0m\u001b[0;34m)\u001b[0m\u001b[0;34m:\u001b[0m\u001b[0;34m\u001b[0m\u001b[0;34m\u001b[0m\u001b[0m\n\u001b[0;32m---> 62\u001b[0;31m     \u001b[0mmodule\u001b[0m \u001b[0;34m=\u001b[0m \u001b[0mself\u001b[0m\u001b[0;34m.\u001b[0m\u001b[0m_load\u001b[0m\u001b[0;34m(\u001b[0m\u001b[0;34m)\u001b[0m\u001b[0;34m\u001b[0m\u001b[0;34m\u001b[0m\u001b[0m\n\u001b[0m\u001b[1;32m     63\u001b[0m     \u001b[0;32mreturn\u001b[0m \u001b[0mgetattr\u001b[0m\u001b[0;34m(\u001b[0m\u001b[0mmodule\u001b[0m\u001b[0;34m,\u001b[0m \u001b[0mitem\u001b[0m\u001b[0;34m)\u001b[0m\u001b[0;34m\u001b[0m\u001b[0;34m\u001b[0m\u001b[0m\n\u001b[1;32m     64\u001b[0m \u001b[0;34m\u001b[0m\u001b[0m\n",
      "\u001b[0;32m~/miniconda3/envs/conda-tf/lib/python3.9/site-packages/tensorflow/python/util/lazy_loader.py\u001b[0m in \u001b[0;36m_load\u001b[0;34m(self)\u001b[0m\n\u001b[1;32m     43\u001b[0m     \u001b[0;34m\"\"\"Load the module and insert it into the parent's globals.\"\"\"\u001b[0m\u001b[0;34m\u001b[0m\u001b[0;34m\u001b[0m\u001b[0m\n\u001b[1;32m     44\u001b[0m     \u001b[0;31m# Import the target module and insert it into the parent's namespace\u001b[0m\u001b[0;34m\u001b[0m\u001b[0;34m\u001b[0m\u001b[0m\n\u001b[0;32m---> 45\u001b[0;31m     \u001b[0mmodule\u001b[0m \u001b[0;34m=\u001b[0m \u001b[0mimportlib\u001b[0m\u001b[0;34m.\u001b[0m\u001b[0mimport_module\u001b[0m\u001b[0;34m(\u001b[0m\u001b[0mself\u001b[0m\u001b[0;34m.\u001b[0m\u001b[0m__name__\u001b[0m\u001b[0;34m)\u001b[0m\u001b[0;34m\u001b[0m\u001b[0;34m\u001b[0m\u001b[0m\n\u001b[0m\u001b[1;32m     46\u001b[0m     \u001b[0mself\u001b[0m\u001b[0;34m.\u001b[0m\u001b[0m_parent_module_globals\u001b[0m\u001b[0;34m[\u001b[0m\u001b[0mself\u001b[0m\u001b[0;34m.\u001b[0m\u001b[0m_local_name\u001b[0m\u001b[0;34m]\u001b[0m \u001b[0;34m=\u001b[0m \u001b[0mmodule\u001b[0m\u001b[0;34m\u001b[0m\u001b[0;34m\u001b[0m\u001b[0m\n\u001b[1;32m     47\u001b[0m \u001b[0;34m\u001b[0m\u001b[0m\n",
      "\u001b[0;32m~/miniconda3/envs/conda-tf/lib/python3.9/importlib/__init__.py\u001b[0m in \u001b[0;36mimport_module\u001b[0;34m(name, package)\u001b[0m\n\u001b[1;32m    125\u001b[0m                 \u001b[0;32mbreak\u001b[0m\u001b[0;34m\u001b[0m\u001b[0;34m\u001b[0m\u001b[0m\n\u001b[1;32m    126\u001b[0m             \u001b[0mlevel\u001b[0m \u001b[0;34m+=\u001b[0m \u001b[0;36m1\u001b[0m\u001b[0;34m\u001b[0m\u001b[0;34m\u001b[0m\u001b[0m\n\u001b[0;32m--> 127\u001b[0;31m     \u001b[0;32mreturn\u001b[0m \u001b[0m_bootstrap\u001b[0m\u001b[0;34m.\u001b[0m\u001b[0m_gcd_import\u001b[0m\u001b[0;34m(\u001b[0m\u001b[0mname\u001b[0m\u001b[0;34m[\u001b[0m\u001b[0mlevel\u001b[0m\u001b[0;34m:\u001b[0m\u001b[0;34m]\u001b[0m\u001b[0;34m,\u001b[0m \u001b[0mpackage\u001b[0m\u001b[0;34m,\u001b[0m \u001b[0mlevel\u001b[0m\u001b[0;34m)\u001b[0m\u001b[0;34m\u001b[0m\u001b[0;34m\u001b[0m\u001b[0m\n\u001b[0m\u001b[1;32m    128\u001b[0m \u001b[0;34m\u001b[0m\u001b[0m\n\u001b[1;32m    129\u001b[0m \u001b[0;34m\u001b[0m\u001b[0m\n",
      "\u001b[0;31mModuleNotFoundError\u001b[0m: No module named 'keras'"
     ]
    }
   ],
   "source": [
    "from pydub import AudioSegment\n",
    "import tensorflow as tf\n",
    "import tensorflow_hub as hub\n",
    "import numpy as np\n",
    "import pandas as pd\n",
    "from sklearn.model_selection import train_test_split, RandomizedSearchCV\n",
    "from sklearn.metrics import make_scorer, accuracy_score, precision_score, f1_score\n",
    "from sklearn.linear_model import SGDClassifier\n",
    "from sklearn.ensemble import RandomForestClassifier, ExtraTreesClassifier"
   ]
  },
  {
   "cell_type": "code",
   "execution_count": 1,
   "metadata": {},
   "outputs": [],
   "source": [
    "import pandas as pd\n",
    "from sklearn.ensemble import RandomForestClassifier\n",
    "import joblib"
   ]
  },
  {
   "cell_type": "code",
   "execution_count": 3,
   "metadata": {},
   "outputs": [],
   "source": [
    "data = AudioSegment.from_mp3(\"./alegrias.mp3\")\n",
    "data_np = np.array(data.get_array_of_samples())"
   ]
  },
  {
   "cell_type": "code",
   "execution_count": 4,
   "metadata": {},
   "outputs": [
    {
     "data": {
      "text/plain": [
       "(571392,)"
      ]
     },
     "execution_count": 4,
     "metadata": {},
     "output_type": "execute_result"
    }
   ],
   "source": [
    "data_np.shape"
   ]
  },
  {
   "cell_type": "code",
   "execution_count": 5,
   "metadata": {},
   "outputs": [],
   "source": [
    "data_resampled = data.set_frame_rate(16000)\n",
    "data_resampled_np = np.array(data_resampled.get_array_of_samples())"
   ]
  },
  {
   "cell_type": "code",
   "execution_count": 6,
   "metadata": {},
   "outputs": [
    {
     "data": {
      "text/plain": [
       "(207308,)"
      ]
     },
     "execution_count": 6,
     "metadata": {},
     "output_type": "execute_result"
    }
   ],
   "source": [
    "data_resampled_np.shape"
   ]
  },
  {
   "cell_type": "code",
   "execution_count": 7,
   "metadata": {},
   "outputs": [
    {
     "data": {
      "text/plain": [
       "12.95675"
      ]
     },
     "execution_count": 7,
     "metadata": {},
     "output_type": "execute_result"
    }
   ],
   "source": [
    "data_resampled_np.shape[0] / 16000"
   ]
  },
  {
   "cell_type": "code",
   "execution_count": 8,
   "metadata": {},
   "outputs": [
    {
     "name": "stderr",
     "output_type": "stream",
     "text": [
      "2021-10-16 09:06:42.469273: I tensorflow/core/platform/cpu_feature_guard.cc:142] This TensorFlow binary is optimized with oneAPI Deep Neural Network Library (oneDNN) to use the following CPU instructions in performance-critical operations:  SSE4.1 SSE4.2 AVX AVX2 FMA\n",
      "To enable them in other operations, rebuild TensorFlow with the appropriate compiler flags.\n"
     ]
    }
   ],
   "source": [
    "model = hub.load('https://tfhub.dev/google/vggish/1')"
   ]
  },
  {
   "cell_type": "code",
   "execution_count": 9,
   "metadata": {},
   "outputs": [
    {
     "name": "stderr",
     "output_type": "stream",
     "text": [
      "2021-10-16 09:06:43.638802: I tensorflow/compiler/mlir/mlir_graph_optimization_pass.cc:116] None of the MLIR optimization passes are enabled (registered 2)\n",
      "2021-10-16 09:06:43.664891: I tensorflow/core/platform/profile_utils/cpu_utils.cc:112] CPU Frequency: 3491910000 Hz\n"
     ]
    },
    {
     "data": {
      "text/plain": [
       "<tf.Tensor: shape=(13, 128), dtype=float32, numpy=\n",
       "array([[-0.9781215 , -0.23949593,  0.3278644 , ..., -0.70464456,\n",
       "         0.15656663,  0.22936888],\n",
       "       [-0.97239923, -0.26644686,  0.22860575, ..., -0.78322506,\n",
       "         0.28337187,  0.03754485],\n",
       "       [-1.1073772 , -0.25849837,  0.39797044, ..., -1.0069251 ,\n",
       "         0.21025334, -0.02065074],\n",
       "       ...,\n",
       "       [-1.0072911 , -0.38478103,  0.23967987, ..., -0.6641028 ,\n",
       "         0.14501332,  0.10112442],\n",
       "       [-1.0529892 , -0.29740486,  0.30597043, ..., -0.7344618 ,\n",
       "         0.1593184 ,  0.05672863],\n",
       "       [-1.2255527 , -0.30298266,  0.4057959 , ..., -0.88262177,\n",
       "         0.26835507, -0.03802034]], dtype=float32)>"
      ]
     },
     "execution_count": 9,
     "metadata": {},
     "output_type": "execute_result"
    }
   ],
   "source": [
    "model(data_resampled_np)"
   ]
  },
  {
   "cell_type": "code",
   "execution_count": 2,
   "metadata": {},
   "outputs": [
    {
     "data": {
      "text/html": [
       "<div>\n",
       "<style scoped>\n",
       "    .dataframe tbody tr th:only-of-type {\n",
       "        vertical-align: middle;\n",
       "    }\n",
       "\n",
       "    .dataframe tbody tr th {\n",
       "        vertical-align: top;\n",
       "    }\n",
       "\n",
       "    .dataframe thead th {\n",
       "        text-align: right;\n",
       "    }\n",
       "</style>\n",
       "<table border=\"1\" class=\"dataframe\">\n",
       "  <thead>\n",
       "    <tr style=\"text-align: right;\">\n",
       "      <th></th>\n",
       "      <th>0</th>\n",
       "      <th>1</th>\n",
       "      <th>2</th>\n",
       "      <th>3</th>\n",
       "      <th>4</th>\n",
       "      <th>5</th>\n",
       "      <th>6</th>\n",
       "      <th>7</th>\n",
       "      <th>8</th>\n",
       "      <th>9</th>\n",
       "      <th>...</th>\n",
       "      <th>119</th>\n",
       "      <th>120</th>\n",
       "      <th>121</th>\n",
       "      <th>122</th>\n",
       "      <th>123</th>\n",
       "      <th>124</th>\n",
       "      <th>125</th>\n",
       "      <th>126</th>\n",
       "      <th>127</th>\n",
       "      <th>label</th>\n",
       "    </tr>\n",
       "  </thead>\n",
       "  <tbody>\n",
       "    <tr>\n",
       "      <th>0</th>\n",
       "      <td>-0.269944</td>\n",
       "      <td>-0.054643</td>\n",
       "      <td>-0.137082</td>\n",
       "      <td>0.295747</td>\n",
       "      <td>-0.050220</td>\n",
       "      <td>-0.071286</td>\n",
       "      <td>-0.042822</td>\n",
       "      <td>-0.105079</td>\n",
       "      <td>-0.175809</td>\n",
       "      <td>-0.056513</td>\n",
       "      <td>...</td>\n",
       "      <td>-0.033017</td>\n",
       "      <td>-0.118352</td>\n",
       "      <td>-0.031682</td>\n",
       "      <td>-0.033670</td>\n",
       "      <td>-0.104144</td>\n",
       "      <td>0.205717</td>\n",
       "      <td>-0.162219</td>\n",
       "      <td>0.228777</td>\n",
       "      <td>0.177694</td>\n",
       "      <td>alegrias</td>\n",
       "    </tr>\n",
       "    <tr>\n",
       "      <th>1</th>\n",
       "      <td>-1.907480</td>\n",
       "      <td>-0.456176</td>\n",
       "      <td>0.862031</td>\n",
       "      <td>-0.410450</td>\n",
       "      <td>-0.904798</td>\n",
       "      <td>-1.543526</td>\n",
       "      <td>-0.814925</td>\n",
       "      <td>-0.409570</td>\n",
       "      <td>-3.509268</td>\n",
       "      <td>-1.167431</td>\n",
       "      <td>...</td>\n",
       "      <td>-0.421366</td>\n",
       "      <td>-0.711560</td>\n",
       "      <td>-0.850614</td>\n",
       "      <td>-1.387193</td>\n",
       "      <td>-0.268451</td>\n",
       "      <td>0.204029</td>\n",
       "      <td>-1.517510</td>\n",
       "      <td>-0.092862</td>\n",
       "      <td>-0.027284</td>\n",
       "      <td>alegrias</td>\n",
       "    </tr>\n",
       "    <tr>\n",
       "      <th>2</th>\n",
       "      <td>-0.845307</td>\n",
       "      <td>-0.194419</td>\n",
       "      <td>0.541575</td>\n",
       "      <td>-0.583690</td>\n",
       "      <td>-0.457475</td>\n",
       "      <td>-1.116324</td>\n",
       "      <td>0.407395</td>\n",
       "      <td>0.185402</td>\n",
       "      <td>-2.120158</td>\n",
       "      <td>-0.435578</td>\n",
       "      <td>...</td>\n",
       "      <td>-0.353207</td>\n",
       "      <td>-0.035378</td>\n",
       "      <td>-0.216617</td>\n",
       "      <td>-0.963617</td>\n",
       "      <td>-0.108042</td>\n",
       "      <td>0.036861</td>\n",
       "      <td>-0.529865</td>\n",
       "      <td>0.221667</td>\n",
       "      <td>0.301169</td>\n",
       "      <td>alegrias</td>\n",
       "    </tr>\n",
       "    <tr>\n",
       "      <th>3</th>\n",
       "      <td>-0.877723</td>\n",
       "      <td>-0.226133</td>\n",
       "      <td>0.661279</td>\n",
       "      <td>-0.495370</td>\n",
       "      <td>-0.389753</td>\n",
       "      <td>-1.189388</td>\n",
       "      <td>0.272059</td>\n",
       "      <td>0.287067</td>\n",
       "      <td>-2.324146</td>\n",
       "      <td>-0.359669</td>\n",
       "      <td>...</td>\n",
       "      <td>-0.327581</td>\n",
       "      <td>-0.083167</td>\n",
       "      <td>-0.299293</td>\n",
       "      <td>-0.866714</td>\n",
       "      <td>-0.252097</td>\n",
       "      <td>0.010195</td>\n",
       "      <td>-0.532761</td>\n",
       "      <td>0.142866</td>\n",
       "      <td>0.341006</td>\n",
       "      <td>alegrias</td>\n",
       "    </tr>\n",
       "    <tr>\n",
       "      <th>4</th>\n",
       "      <td>-1.427469</td>\n",
       "      <td>-0.349206</td>\n",
       "      <td>0.490714</td>\n",
       "      <td>-0.783012</td>\n",
       "      <td>-0.795806</td>\n",
       "      <td>-1.423361</td>\n",
       "      <td>0.075089</td>\n",
       "      <td>-0.029320</td>\n",
       "      <td>-2.920721</td>\n",
       "      <td>-0.679675</td>\n",
       "      <td>...</td>\n",
       "      <td>-0.328377</td>\n",
       "      <td>-0.171545</td>\n",
       "      <td>-0.302092</td>\n",
       "      <td>-1.034035</td>\n",
       "      <td>-0.440447</td>\n",
       "      <td>0.018078</td>\n",
       "      <td>-0.943624</td>\n",
       "      <td>0.134962</td>\n",
       "      <td>0.233029</td>\n",
       "      <td>alegrias</td>\n",
       "    </tr>\n",
       "  </tbody>\n",
       "</table>\n",
       "<p>5 rows × 129 columns</p>\n",
       "</div>"
      ],
      "text/plain": [
       "          0         1         2         3         4         5         6  \\\n",
       "0 -0.269944 -0.054643 -0.137082  0.295747 -0.050220 -0.071286 -0.042822   \n",
       "1 -1.907480 -0.456176  0.862031 -0.410450 -0.904798 -1.543526 -0.814925   \n",
       "2 -0.845307 -0.194419  0.541575 -0.583690 -0.457475 -1.116324  0.407395   \n",
       "3 -0.877723 -0.226133  0.661279 -0.495370 -0.389753 -1.189388  0.272059   \n",
       "4 -1.427469 -0.349206  0.490714 -0.783012 -0.795806 -1.423361  0.075089   \n",
       "\n",
       "          7         8         9  ...       119       120       121       122  \\\n",
       "0 -0.105079 -0.175809 -0.056513  ... -0.033017 -0.118352 -0.031682 -0.033670   \n",
       "1 -0.409570 -3.509268 -1.167431  ... -0.421366 -0.711560 -0.850614 -1.387193   \n",
       "2  0.185402 -2.120158 -0.435578  ... -0.353207 -0.035378 -0.216617 -0.963617   \n",
       "3  0.287067 -2.324146 -0.359669  ... -0.327581 -0.083167 -0.299293 -0.866714   \n",
       "4 -0.029320 -2.920721 -0.679675  ... -0.328377 -0.171545 -0.302092 -1.034035   \n",
       "\n",
       "        123       124       125       126       127     label  \n",
       "0 -0.104144  0.205717 -0.162219  0.228777  0.177694  alegrias  \n",
       "1 -0.268451  0.204029 -1.517510 -0.092862 -0.027284  alegrias  \n",
       "2 -0.108042  0.036861 -0.529865  0.221667  0.301169  alegrias  \n",
       "3 -0.252097  0.010195 -0.532761  0.142866  0.341006  alegrias  \n",
       "4 -0.440447  0.018078 -0.943624  0.134962  0.233029  alegrias  \n",
       "\n",
       "[5 rows x 129 columns]"
      ]
     },
     "execution_count": 2,
     "metadata": {},
     "output_type": "execute_result"
    }
   ],
   "source": [
    "df = pd.read_csv(\"../../assets/dataset/encoded_audio.csv\", index_col=0)\n",
    "df.head()"
   ]
  },
  {
   "cell_type": "code",
   "execution_count": 3,
   "metadata": {},
   "outputs": [],
   "source": [
    "y = df[\"label\"]\n",
    "X = df.drop(columns=[\"label\"])"
   ]
  },
  {
   "cell_type": "code",
   "execution_count": 4,
   "metadata": {},
   "outputs": [],
   "source": [
    "X_train, X_test, y_train, y_test = train_test_split(X, y)"
   ]
  },
  {
   "cell_type": "code",
   "execution_count": 20,
   "metadata": {},
   "outputs": [
    {
     "name": "stdout",
     "output_type": "stream",
     "text": [
      "Fitting 5 folds for each of 50 candidates, totalling 250 fits\n",
      "[CV] END alpha=0.018448979591836733, l1_ratio=0.4789473684210527, learning_rate=constant, loss=log, penalty=l2; total time=   3.0s\n",
      "[CV] END alpha=0.018448979591836733, l1_ratio=0.4789473684210527, learning_rate=constant, loss=log, penalty=l2; total time=   4.7s\n",
      "[CV] END alpha=0.018448979591836733, l1_ratio=0.4789473684210527, learning_rate=constant, loss=log, penalty=l2; total time=   1.5s\n",
      "[CV] END alpha=0.018448979591836733, l1_ratio=0.4789473684210527, learning_rate=constant, loss=log, penalty=l2; total time=   2.5s\n",
      "[CV] END alpha=0.018448979591836733, l1_ratio=0.4789473684210527, learning_rate=constant, loss=log, penalty=l2; total time=   1.2s\n",
      "[CV] END alpha=0.0001, l1_ratio=0.5736842105263158, learning_rate=constant, loss=epsilon_insensitive, penalty=elasticnet; total time=   3.8s\n",
      "[CV] END alpha=0.0001, l1_ratio=0.5736842105263158, learning_rate=constant, loss=epsilon_insensitive, penalty=elasticnet; total time=   3.8s\n",
      "[CV] END alpha=0.0001, l1_ratio=0.5736842105263158, learning_rate=constant, loss=epsilon_insensitive, penalty=elasticnet; total time=   4.8s\n",
      "[CV] END alpha=0.0001, l1_ratio=0.5736842105263158, learning_rate=constant, loss=epsilon_insensitive, penalty=elasticnet; total time=   4.8s\n",
      "[CV] END alpha=0.09184489795918369, l1_ratio=0.7631578947368421, learning_rate=invscaling, loss=hinge, penalty=elasticnet; total time=   2.4s\n",
      "[CV] END alpha=0.0001, l1_ratio=0.5736842105263158, learning_rate=constant, loss=epsilon_insensitive, penalty=elasticnet; total time=   3.4s\n",
      "[CV] END alpha=0.09184489795918369, l1_ratio=0.7631578947368421, learning_rate=invscaling, loss=hinge, penalty=elasticnet; total time=   3.1s\n",
      "[CV] END alpha=0.09184489795918369, l1_ratio=0.7631578947368421, learning_rate=invscaling, loss=hinge, penalty=elasticnet; total time=   2.3s\n",
      "[CV] END alpha=0.09184489795918369, l1_ratio=0.7631578947368421, learning_rate=invscaling, loss=hinge, penalty=elasticnet; total time=   2.7s\n",
      "[CV] END alpha=0.06534081632653062, l1_ratio=0.7157894736842105, learning_rate=optimal, loss=perceptron, penalty=l1; total time=   1.3s\n",
      "[CV] END alpha=0.06534081632653062, l1_ratio=0.7157894736842105, learning_rate=optimal, loss=perceptron, penalty=l1; total time=   1.0s\n",
      "[CV] END alpha=0.09184489795918369, l1_ratio=0.7631578947368421, learning_rate=invscaling, loss=hinge, penalty=elasticnet; total time=   2.7s\n",
      "[CV] END alpha=0.06534081632653062, l1_ratio=0.7157894736842105, learning_rate=optimal, loss=perceptron, penalty=l1; total time=   1.3s\n",
      "[CV] END alpha=0.06534081632653062, l1_ratio=0.7157894736842105, learning_rate=optimal, loss=perceptron, penalty=l1; total time=   1.5s\n",
      "[CV] END alpha=0.06534081632653062, l1_ratio=0.7157894736842105, learning_rate=optimal, loss=perceptron, penalty=l1; total time=   1.2s\n",
      "[CV] END alpha=0.006216326530612245, l1_ratio=0.7631578947368421, learning_rate=invscaling, loss=modified_huber, penalty=l1; total time=   3.0s\n",
      "[CV] END alpha=0.006216326530612245, l1_ratio=0.7631578947368421, learning_rate=invscaling, loss=modified_huber, penalty=l1; total time=   2.7s\n",
      "[CV] END alpha=0.006216326530612245, l1_ratio=0.7631578947368421, learning_rate=invscaling, loss=modified_huber, penalty=l1; total time=   2.7s\n",
      "[CV] END alpha=0.006216326530612245, l1_ratio=0.7631578947368421, learning_rate=invscaling, loss=modified_huber, penalty=l1; total time=   2.7s\n",
      "[CV] END alpha=0.006216326530612245, l1_ratio=0.7631578947368421, learning_rate=invscaling, loss=modified_huber, penalty=l1; total time=   3.0s\n",
      "[CV] END alpha=0.1, l1_ratio=0.1, learning_rate=adaptive, loss=log, penalty=l2; total time=   3.1s\n",
      "[CV] END alpha=0.1, l1_ratio=0.1, learning_rate=adaptive, loss=log, penalty=l2; total time=   3.3s\n",
      "[CV] END alpha=0.1, l1_ratio=0.1, learning_rate=adaptive, loss=log, penalty=l2; total time=   3.2s\n",
      "[CV] END alpha=0.1, l1_ratio=0.1, learning_rate=adaptive, loss=log, penalty=l2; total time=   3.5s\n",
      "[CV] END alpha=0.1, l1_ratio=0.1, learning_rate=adaptive, loss=log, penalty=l2; total time=   3.4s\n",
      "[CV] END alpha=0.044953061224489804, l1_ratio=0.19473684210526315, learning_rate=adaptive, loss=log, penalty=l2; total time=   3.5s\n",
      "[CV] END alpha=0.044953061224489804, l1_ratio=0.19473684210526315, learning_rate=adaptive, loss=log, penalty=l2; total time=   3.4s\n",
      "[CV] END alpha=0.044953061224489804, l1_ratio=0.19473684210526315, learning_rate=adaptive, loss=log, penalty=l2; total time=   3.3s\n",
      "[CV] END alpha=0.044953061224489804, l1_ratio=0.19473684210526315, learning_rate=adaptive, loss=log, penalty=l2; total time=   3.2s\n",
      "[CV] END alpha=0.044953061224489804, l1_ratio=0.19473684210526315, learning_rate=adaptive, loss=log, penalty=l2; total time=   3.4s\n"
     ]
    },
    {
     "name": "stderr",
     "output_type": "stream",
     "text": [
      "/home/ale/miniconda3/envs/conda-tf/lib/python3.9/site-packages/sklearn/linear_model/_stochastic_gradient.py:574: ConvergenceWarning: Maximum number of iteration reached before convergence. Consider increasing max_iter to improve the fit.\n",
      "  warnings.warn(\"Maximum number of iteration reached before \"\n"
     ]
    },
    {
     "name": "stdout",
     "output_type": "stream",
     "text": [
      "[CV] END alpha=0.053108163265306124, l1_ratio=0.33684210526315794, learning_rate=optimal, loss=squared_hinge, penalty=l1; total time= 1.9min\n"
     ]
    },
    {
     "name": "stderr",
     "output_type": "stream",
     "text": [
      "/home/ale/miniconda3/envs/conda-tf/lib/python3.9/site-packages/sklearn/linear_model/_stochastic_gradient.py:574: ConvergenceWarning: Maximum number of iteration reached before convergence. Consider increasing max_iter to improve the fit.\n",
      "  warnings.warn(\"Maximum number of iteration reached before \"\n"
     ]
    },
    {
     "name": "stdout",
     "output_type": "stream",
     "text": [
      "[CV] END alpha=0.053108163265306124, l1_ratio=0.33684210526315794, learning_rate=optimal, loss=squared_hinge, penalty=l1; total time= 1.9min\n"
     ]
    },
    {
     "name": "stderr",
     "output_type": "stream",
     "text": [
      "/home/ale/miniconda3/envs/conda-tf/lib/python3.9/site-packages/sklearn/linear_model/_stochastic_gradient.py:574: ConvergenceWarning: Maximum number of iteration reached before convergence. Consider increasing max_iter to improve the fit.\n",
      "  warnings.warn(\"Maximum number of iteration reached before \"\n"
     ]
    },
    {
     "name": "stdout",
     "output_type": "stream",
     "text": [
      "[CV] END alpha=0.053108163265306124, l1_ratio=0.33684210526315794, learning_rate=optimal, loss=squared_hinge, penalty=l1; total time= 1.9min\n",
      "[CV] END alpha=0.07145714285714286, l1_ratio=0.9052631578947369, learning_rate=optimal, loss=perceptron, penalty=elasticnet; total time=   1.5s\n",
      "[CV] END alpha=0.07145714285714286, l1_ratio=0.9052631578947369, learning_rate=optimal, loss=perceptron, penalty=elasticnet; total time=   1.4s\n"
     ]
    },
    {
     "name": "stderr",
     "output_type": "stream",
     "text": [
      "/home/ale/miniconda3/envs/conda-tf/lib/python3.9/site-packages/sklearn/linear_model/_stochastic_gradient.py:574: ConvergenceWarning: Maximum number of iteration reached before convergence. Consider increasing max_iter to improve the fit.\n",
      "  warnings.warn(\"Maximum number of iteration reached before \"\n"
     ]
    },
    {
     "name": "stdout",
     "output_type": "stream",
     "text": [
      "[CV] END alpha=0.07145714285714286, l1_ratio=0.9052631578947369, learning_rate=optimal, loss=perceptron, penalty=elasticnet; total time=   1.3s\n",
      "[CV] END alpha=0.07145714285714286, l1_ratio=0.9052631578947369, learning_rate=optimal, loss=perceptron, penalty=elasticnet; total time=   1.2s\n",
      "[CV] END alpha=0.053108163265306124, l1_ratio=0.33684210526315794, learning_rate=optimal, loss=squared_hinge, penalty=l1; total time= 1.9min\n",
      "[CV] END alpha=0.07145714285714286, l1_ratio=0.9052631578947369, learning_rate=optimal, loss=perceptron, penalty=elasticnet; total time=   1.7s\n",
      "[CV] END alpha=0.018448979591836733, l1_ratio=0.5736842105263158, learning_rate=adaptive, loss=hinge, penalty=l2; total time=   4.2s\n",
      "[CV] END alpha=0.018448979591836733, l1_ratio=0.5736842105263158, learning_rate=adaptive, loss=hinge, penalty=l2; total time=   4.5s\n",
      "[CV] END alpha=0.018448979591836733, l1_ratio=0.5736842105263158, learning_rate=adaptive, loss=hinge, penalty=l2; total time=   4.5s\n",
      "[CV] END alpha=0.049030612244897964, l1_ratio=0.5263157894736842, learning_rate=constant, loss=perceptron, penalty=elasticnet; total time=   1.6s\n",
      "[CV] END alpha=0.018448979591836733, l1_ratio=0.5736842105263158, learning_rate=adaptive, loss=hinge, penalty=l2; total time=   4.0s\n",
      "[CV] END alpha=0.018448979591836733, l1_ratio=0.5736842105263158, learning_rate=adaptive, loss=hinge, penalty=l2; total time=   4.2s\n",
      "[CV] END alpha=0.049030612244897964, l1_ratio=0.5263157894736842, learning_rate=constant, loss=perceptron, penalty=elasticnet; total time=   1.4s\n",
      "[CV] END alpha=0.049030612244897964, l1_ratio=0.5263157894736842, learning_rate=constant, loss=perceptron, penalty=elasticnet; total time=   1.1s\n",
      "[CV] END alpha=0.049030612244897964, l1_ratio=0.5263157894736842, learning_rate=constant, loss=perceptron, penalty=elasticnet; total time=   1.5s\n",
      "[CV] END alpha=0.08165102040816327, l1_ratio=0.1, learning_rate=optimal, loss=hinge, penalty=l2; total time=   1.1s\n",
      "[CV] END alpha=0.049030612244897964, l1_ratio=0.5263157894736842, learning_rate=constant, loss=perceptron, penalty=elasticnet; total time=   1.3s\n",
      "[CV] END alpha=0.08165102040816327, l1_ratio=0.1, learning_rate=optimal, loss=hinge, penalty=l2; total time=   1.0s\n",
      "[CV] END alpha=0.08165102040816327, l1_ratio=0.1, learning_rate=optimal, loss=hinge, penalty=l2; total time=   1.0s\n",
      "[CV] END alpha=0.08165102040816327, l1_ratio=0.1, learning_rate=optimal, loss=hinge, penalty=l2; total time=   1.1s\n",
      "[CV] END alpha=0.08165102040816327, l1_ratio=0.1, learning_rate=optimal, loss=hinge, penalty=l2; total time=   1.2s\n",
      "[CV] END alpha=0.07757346938775511, l1_ratio=0.6210526315789474, learning_rate=invscaling, loss=perceptron, penalty=elasticnet; total time=   1.3s\n",
      "[CV] END alpha=0.07757346938775511, l1_ratio=0.6210526315789474, learning_rate=invscaling, loss=perceptron, penalty=elasticnet; total time=   1.2s\n",
      "[CV] END alpha=0.07757346938775511, l1_ratio=0.6210526315789474, learning_rate=invscaling, loss=perceptron, penalty=elasticnet; total time=   1.4s\n",
      "[CV] END alpha=0.07757346938775511, l1_ratio=0.6210526315789474, learning_rate=invscaling, loss=perceptron, penalty=elasticnet; total time=   1.4s\n",
      "[CV] END alpha=0.07757346938775511, l1_ratio=0.6210526315789474, learning_rate=invscaling, loss=perceptron, penalty=elasticnet; total time=   1.3s\n",
      "[CV] END alpha=0.0001, l1_ratio=0.5263157894736842, learning_rate=constant, loss=perceptron, penalty=l1; total time=   2.9s\n",
      "[CV] END alpha=0.0001, l1_ratio=0.5263157894736842, learning_rate=constant, loss=perceptron, penalty=l1; total time=   2.8s\n",
      "[CV] END alpha=0.0001, l1_ratio=0.5263157894736842, learning_rate=constant, loss=perceptron, penalty=l1; total time=   3.1s\n",
      "[CV] END alpha=0.0001, l1_ratio=0.5263157894736842, learning_rate=constant, loss=perceptron, penalty=l1; total time=   3.0s\n",
      "[CV] END alpha=0.07145714285714286, l1_ratio=0.6210526315789474, learning_rate=constant, loss=squared_hinge, penalty=elasticnet; total time=   2.5s\n",
      "[CV] END alpha=0.0001, l1_ratio=0.5263157894736842, learning_rate=constant, loss=perceptron, penalty=l1; total time=   3.7s\n",
      "[CV] END alpha=0.07145714285714286, l1_ratio=0.6210526315789474, learning_rate=constant, loss=squared_hinge, penalty=elasticnet; total time=   1.7s\n",
      "[CV] END alpha=0.07145714285714286, l1_ratio=0.6210526315789474, learning_rate=constant, loss=squared_hinge, penalty=elasticnet; total time=   1.9s\n",
      "[CV] END alpha=0.07145714285714286, l1_ratio=0.6210526315789474, learning_rate=constant, loss=squared_hinge, penalty=elasticnet; total time=   1.4s\n",
      "[CV] END alpha=0.07553469387755103, l1_ratio=0.5263157894736842, learning_rate=optimal, loss=epsilon_insensitive, penalty=l2; total time=   1.0s\n",
      "[CV] END alpha=0.07145714285714286, l1_ratio=0.6210526315789474, learning_rate=constant, loss=squared_hinge, penalty=elasticnet; total time=   1.6s\n",
      "[CV] END alpha=0.07553469387755103, l1_ratio=0.5263157894736842, learning_rate=optimal, loss=epsilon_insensitive, penalty=l2; total time=   1.2s\n",
      "[CV] END alpha=0.07553469387755103, l1_ratio=0.5263157894736842, learning_rate=optimal, loss=epsilon_insensitive, penalty=l2; total time=   1.1s\n",
      "[CV] END alpha=0.07553469387755103, l1_ratio=0.5263157894736842, learning_rate=optimal, loss=epsilon_insensitive, penalty=l2; total time=   1.0s\n",
      "[CV] END alpha=0.07553469387755103, l1_ratio=0.5263157894736842, learning_rate=optimal, loss=epsilon_insensitive, penalty=l2; total time=   1.2s\n",
      "[CV] END alpha=0.07757346938775511, l1_ratio=0.6684210526315789, learning_rate=adaptive, loss=perceptron, penalty=elasticnet; total time=   5.7s\n",
      "[CV] END alpha=0.07757346938775511, l1_ratio=0.6684210526315789, learning_rate=adaptive, loss=perceptron, penalty=elasticnet; total time=   5.5s\n",
      "[CV] END alpha=0.07757346938775511, l1_ratio=0.6684210526315789, learning_rate=adaptive, loss=perceptron, penalty=elasticnet; total time=   5.7s\n",
      "[CV] END alpha=0.08165102040816327, l1_ratio=0.5263157894736842, learning_rate=constant, loss=perceptron, penalty=l1; total time=   1.4s\n",
      "[CV] END alpha=0.08165102040816327, l1_ratio=0.5263157894736842, learning_rate=constant, loss=perceptron, penalty=l1; total time=   1.5s\n",
      "[CV] END alpha=0.08165102040816327, l1_ratio=0.5263157894736842, learning_rate=constant, loss=perceptron, penalty=l1; total time=   1.5s\n",
      "[CV] END alpha=0.07757346938775511, l1_ratio=0.6684210526315789, learning_rate=adaptive, loss=perceptron, penalty=elasticnet; total time=   5.4s\n",
      "[CV] END alpha=0.07757346938775511, l1_ratio=0.6684210526315789, learning_rate=adaptive, loss=perceptron, penalty=elasticnet; total time=   5.2s\n",
      "[CV] END alpha=0.08165102040816327, l1_ratio=0.5263157894736842, learning_rate=constant, loss=perceptron, penalty=l1; total time=   1.4s\n",
      "[CV] END alpha=0.08165102040816327, l1_ratio=0.5263157894736842, learning_rate=constant, loss=perceptron, penalty=l1; total time=   1.3s\n",
      "[CV] END alpha=0.006216326530612245, l1_ratio=0.24210526315789474, learning_rate=constant, loss=epsilon_insensitive, penalty=l1; total time=   2.2s\n",
      "[CV] END alpha=0.006216326530612245, l1_ratio=0.24210526315789474, learning_rate=constant, loss=epsilon_insensitive, penalty=l1; total time=   1.8s\n",
      "[CV] END alpha=0.006216326530612245, l1_ratio=0.24210526315789474, learning_rate=constant, loss=epsilon_insensitive, penalty=l1; total time=   2.4s\n",
      "[CV] END alpha=0.006216326530612245, l1_ratio=0.24210526315789474, learning_rate=constant, loss=epsilon_insensitive, penalty=l1; total time=   1.8s\n",
      "[CV] END alpha=0.006216326530612245, l1_ratio=0.24210526315789474, learning_rate=constant, loss=epsilon_insensitive, penalty=l1; total time=   2.0s\n",
      "[CV] END alpha=0.1, l1_ratio=0.5263157894736842, learning_rate=optimal, loss=modified_huber, penalty=l1; total time=   2.0s\n",
      "[CV] END alpha=0.1, l1_ratio=0.5263157894736842, learning_rate=optimal, loss=modified_huber, penalty=l1; total time=   1.8s\n",
      "[CV] END alpha=0.1, l1_ratio=0.5263157894736842, learning_rate=optimal, loss=modified_huber, penalty=l1; total time=   1.5s\n",
      "[CV] END alpha=0.1, l1_ratio=0.5263157894736842, learning_rate=optimal, loss=modified_huber, penalty=l1; total time=   1.6s\n",
      "[CV] END alpha=0.1, l1_ratio=0.5263157894736842, learning_rate=optimal, loss=modified_huber, penalty=l1; total time=   1.7s\n"
     ]
    },
    {
     "name": "stderr",
     "output_type": "stream",
     "text": [
      "/home/ale/miniconda3/envs/conda-tf/lib/python3.9/site-packages/sklearn/linear_model/_stochastic_gradient.py:574: ConvergenceWarning: Maximum number of iteration reached before convergence. Consider increasing max_iter to improve the fit.\n",
      "  warnings.warn(\"Maximum number of iteration reached before \"\n"
     ]
    },
    {
     "name": "stdout",
     "output_type": "stream",
     "text": [
      "[CV] END alpha=0.053108163265306124, l1_ratio=0.33684210526315794, learning_rate=optimal, loss=squared_hinge, penalty=l1; total time= 1.9min\n"
     ]
    },
    {
     "name": "stderr",
     "output_type": "stream",
     "text": [
      "/home/ale/miniconda3/envs/conda-tf/lib/python3.9/site-packages/sklearn/linear_model/_stochastic_gradient.py:574: ConvergenceWarning: Maximum number of iteration reached before convergence. Consider increasing max_iter to improve the fit.\n",
      "  warnings.warn(\"Maximum number of iteration reached before \"\n"
     ]
    },
    {
     "name": "stdout",
     "output_type": "stream",
     "text": [
      "[CV] END alpha=0.06330204081632654, l1_ratio=1.0, learning_rate=optimal, loss=squared_hinge, penalty=l1; total time= 2.0min\n"
     ]
    },
    {
     "name": "stderr",
     "output_type": "stream",
     "text": [
      "/home/ale/miniconda3/envs/conda-tf/lib/python3.9/site-packages/sklearn/linear_model/_stochastic_gradient.py:574: ConvergenceWarning: Maximum number of iteration reached before convergence. Consider increasing max_iter to improve the fit.\n",
      "  warnings.warn(\"Maximum number of iteration reached before \"\n"
     ]
    },
    {
     "name": "stdout",
     "output_type": "stream",
     "text": [
      "[CV] END alpha=0.06330204081632654, l1_ratio=1.0, learning_rate=optimal, loss=squared_hinge, penalty=l1; total time= 2.0min\n"
     ]
    },
    {
     "name": "stderr",
     "output_type": "stream",
     "text": [
      "/home/ale/miniconda3/envs/conda-tf/lib/python3.9/site-packages/sklearn/linear_model/_stochastic_gradient.py:574: ConvergenceWarning: Maximum number of iteration reached before convergence. Consider increasing max_iter to improve the fit.\n",
      "  warnings.warn(\"Maximum number of iteration reached before \"\n"
     ]
    },
    {
     "name": "stdout",
     "output_type": "stream",
     "text": [
      "[CV] END alpha=0.06330204081632654, l1_ratio=1.0, learning_rate=optimal, loss=squared_hinge, penalty=l1; total time= 2.0min\n",
      "[CV] END alpha=0.03475918367346939, l1_ratio=0.1473684210526316, learning_rate=invscaling, loss=modified_huber, penalty=l1; total time=   2.4s\n",
      "[CV] END alpha=0.03475918367346939, l1_ratio=0.1473684210526316, learning_rate=invscaling, loss=modified_huber, penalty=l1; total time=   2.3s\n",
      "[CV] END alpha=0.03475918367346939, l1_ratio=0.1473684210526316, learning_rate=invscaling, loss=modified_huber, penalty=l1; total time=   2.2s\n",
      "[CV] END alpha=0.03475918367346939, l1_ratio=0.1473684210526316, learning_rate=invscaling, loss=modified_huber, penalty=l1; total time=   2.4s\n",
      "[CV] END alpha=0.08572857142857143, l1_ratio=0.8578947368421053, learning_rate=optimal, loss=modified_huber, penalty=l1; total time=   1.6s\n",
      "[CV] END alpha=0.03475918367346939, l1_ratio=0.1473684210526316, learning_rate=invscaling, loss=modified_huber, penalty=l1; total time=   2.4s\n",
      "[CV] END alpha=0.08572857142857143, l1_ratio=0.8578947368421053, learning_rate=optimal, loss=modified_huber, penalty=l1; total time=   1.4s\n",
      "[CV] END alpha=0.08572857142857143, l1_ratio=0.8578947368421053, learning_rate=optimal, loss=modified_huber, penalty=l1; total time=   2.0s\n",
      "[CV] END alpha=0.08572857142857143, l1_ratio=0.8578947368421053, learning_rate=optimal, loss=modified_huber, penalty=l1; total time=   1.8s\n",
      "[CV] END alpha=0.08572857142857143, l1_ratio=0.8578947368421053, learning_rate=optimal, loss=modified_huber, penalty=l1; total time=   1.5s\n",
      "[CV] END alpha=0.030681632653061227, l1_ratio=0.33684210526315794, learning_rate=optimal, loss=huber, penalty=elasticnet; total time=   1.5s\n",
      "[CV] END alpha=0.030681632653061227, l1_ratio=0.33684210526315794, learning_rate=optimal, loss=huber, penalty=elasticnet; total time=   1.4s\n",
      "[CV] END alpha=0.030681632653061227, l1_ratio=0.33684210526315794, learning_rate=optimal, loss=huber, penalty=elasticnet; total time=   1.2s\n",
      "[CV] END alpha=0.030681632653061227, l1_ratio=0.33684210526315794, learning_rate=optimal, loss=huber, penalty=elasticnet; total time=   1.6s\n",
      "[CV] END alpha=0.030681632653061227, l1_ratio=0.33684210526315794, learning_rate=optimal, loss=huber, penalty=elasticnet; total time=   1.4s\n",
      "[CV] END alpha=0.020487755102040817, l1_ratio=1.0, learning_rate=optimal, loss=perceptron, penalty=elasticnet; total time=   1.4s\n",
      "[CV] END alpha=0.020487755102040817, l1_ratio=1.0, learning_rate=optimal, loss=perceptron, penalty=elasticnet; total time=   1.2s\n",
      "[CV] END alpha=0.020487755102040817, l1_ratio=1.0, learning_rate=optimal, loss=perceptron, penalty=elasticnet; total time=   1.3s\n",
      "[CV] END alpha=0.020487755102040817, l1_ratio=1.0, learning_rate=optimal, loss=perceptron, penalty=elasticnet; total time=   1.4s\n",
      "[CV] END alpha=0.020487755102040817, l1_ratio=1.0, learning_rate=optimal, loss=perceptron, penalty=elasticnet; total time=   1.4s\n",
      "[CV] END alpha=0.0021387755102040816, l1_ratio=0.6684210526315789, learning_rate=invscaling, loss=huber, penalty=elasticnet; total time=   1.6s\n",
      "[CV] END alpha=0.0021387755102040816, l1_ratio=0.6684210526315789, learning_rate=invscaling, loss=huber, penalty=elasticnet; total time=   1.5s\n",
      "[CV] END alpha=0.0021387755102040816, l1_ratio=0.6684210526315789, learning_rate=invscaling, loss=huber, penalty=elasticnet; total time=   1.6s\n",
      "[CV] END alpha=0.0021387755102040816, l1_ratio=0.6684210526315789, learning_rate=invscaling, loss=huber, penalty=elasticnet; total time=   1.5s\n",
      "[CV] END alpha=0.0021387755102040816, l1_ratio=0.6684210526315789, learning_rate=invscaling, loss=huber, penalty=elasticnet; total time=   1.5s\n",
      "[CV] END alpha=0.07145714285714286, l1_ratio=0.2894736842105263, learning_rate=constant, loss=perceptron, penalty=elasticnet; total time=   1.1s\n",
      "[CV] END alpha=0.07145714285714286, l1_ratio=0.2894736842105263, learning_rate=constant, loss=perceptron, penalty=elasticnet; total time=   1.3s\n",
      "[CV] END alpha=0.07145714285714286, l1_ratio=0.2894736842105263, learning_rate=constant, loss=perceptron, penalty=elasticnet; total time=   1.2s\n",
      "[CV] END alpha=0.07145714285714286, l1_ratio=0.2894736842105263, learning_rate=constant, loss=perceptron, penalty=elasticnet; total time=   1.4s\n",
      "[CV] END alpha=0.07145714285714286, l1_ratio=0.2894736842105263, learning_rate=constant, loss=perceptron, penalty=elasticnet; total time=   1.2s\n",
      "[CV] END alpha=0.07961224489795919, l1_ratio=0.19473684210526315, learning_rate=optimal, loss=huber, penalty=l1; total time=   1.3s\n",
      "[CV] END alpha=0.07961224489795919, l1_ratio=0.19473684210526315, learning_rate=optimal, loss=huber, penalty=l1; total time=   1.4s\n",
      "[CV] END alpha=0.07961224489795919, l1_ratio=0.19473684210526315, learning_rate=optimal, loss=huber, penalty=l1; total time=   1.3s\n",
      "[CV] END alpha=0.07961224489795919, l1_ratio=0.19473684210526315, learning_rate=optimal, loss=huber, penalty=l1; total time=   1.4s\n",
      "[CV] END alpha=0.07961224489795919, l1_ratio=0.19473684210526315, learning_rate=optimal, loss=huber, penalty=l1; total time=   1.3s\n",
      "[CV] END alpha=0.04291428571428572, l1_ratio=0.33684210526315794, learning_rate=adaptive, loss=squared_hinge, penalty=l1; total time=   6.5s\n",
      "[CV] END alpha=0.04291428571428572, l1_ratio=0.33684210526315794, learning_rate=adaptive, loss=squared_hinge, penalty=l1; total time=   6.7s\n",
      "[CV] END alpha=0.04291428571428572, l1_ratio=0.33684210526315794, learning_rate=adaptive, loss=squared_hinge, penalty=l1; total time=   6.4s\n",
      "[CV] END alpha=0.04291428571428572, l1_ratio=0.33684210526315794, learning_rate=adaptive, loss=squared_hinge, penalty=l1; total time=   6.3s\n",
      "[CV] END alpha=0.04291428571428572, l1_ratio=0.33684210526315794, learning_rate=adaptive, loss=squared_hinge, penalty=l1; total time=   6.4s\n",
      "[CV] END alpha=0.08165102040816327, l1_ratio=0.19473684210526315, learning_rate=adaptive, loss=log, penalty=l1; total time=   5.9s\n",
      "[CV] END alpha=0.08165102040816327, l1_ratio=0.19473684210526315, learning_rate=adaptive, loss=log, penalty=l1; total time=   5.7s\n",
      "[CV] END alpha=0.08165102040816327, l1_ratio=0.19473684210526315, learning_rate=adaptive, loss=log, penalty=l1; total time=   5.7s\n"
     ]
    },
    {
     "name": "stderr",
     "output_type": "stream",
     "text": [
      "/home/ale/miniconda3/envs/conda-tf/lib/python3.9/site-packages/sklearn/linear_model/_stochastic_gradient.py:574: ConvergenceWarning: Maximum number of iteration reached before convergence. Consider increasing max_iter to improve the fit.\n",
      "  warnings.warn(\"Maximum number of iteration reached before \"\n"
     ]
    },
    {
     "name": "stdout",
     "output_type": "stream",
     "text": [
      "[CV] END alpha=0.06330204081632654, l1_ratio=1.0, learning_rate=optimal, loss=squared_hinge, penalty=l1; total time= 1.8min\n",
      "[CV] END alpha=0.0673795918367347, l1_ratio=0.9052631578947369, learning_rate=constant, loss=epsilon_insensitive, penalty=l2; total time=   1.3s\n",
      "[CV] END alpha=0.08165102040816327, l1_ratio=0.19473684210526315, learning_rate=adaptive, loss=log, penalty=l1; total time=   5.3s\n",
      "[CV] END alpha=0.0673795918367347, l1_ratio=0.9052631578947369, learning_rate=constant, loss=epsilon_insensitive, penalty=l2; total time=   1.0s\n",
      "[CV] END alpha=0.08165102040816327, l1_ratio=0.19473684210526315, learning_rate=adaptive, loss=log, penalty=l1; total time=   5.8s\n",
      "[CV] END alpha=0.0673795918367347, l1_ratio=0.9052631578947369, learning_rate=constant, loss=epsilon_insensitive, penalty=l2; total time=   0.9s\n",
      "[CV] END alpha=0.0673795918367347, l1_ratio=0.9052631578947369, learning_rate=constant, loss=epsilon_insensitive, penalty=l2; total time=   1.3s\n",
      "[CV] END alpha=0.0673795918367347, l1_ratio=0.9052631578947369, learning_rate=constant, loss=epsilon_insensitive, penalty=l2; total time=   1.0s\n",
      "[CV] END alpha=0.07961224489795919, l1_ratio=0.8105263157894737, learning_rate=optimal, loss=hinge, penalty=elasticnet; total time=   1.5s\n",
      "[CV] END alpha=0.07961224489795919, l1_ratio=0.8105263157894737, learning_rate=optimal, loss=hinge, penalty=elasticnet; total time=   1.3s\n",
      "[CV] END alpha=0.07961224489795919, l1_ratio=0.8105263157894737, learning_rate=optimal, loss=hinge, penalty=elasticnet; total time=   1.3s\n",
      "[CV] END alpha=0.07961224489795919, l1_ratio=0.8105263157894737, learning_rate=optimal, loss=hinge, penalty=elasticnet; total time=   1.3s\n",
      "[CV] END alpha=0.07961224489795919, l1_ratio=0.8105263157894737, learning_rate=optimal, loss=hinge, penalty=elasticnet; total time=   1.6s\n",
      "[CV] END alpha=0.03679795918367347, l1_ratio=0.8105263157894737, learning_rate=invscaling, loss=squared_hinge, penalty=l2; total time=   1.6s\n",
      "[CV] END alpha=0.03679795918367347, l1_ratio=0.8105263157894737, learning_rate=invscaling, loss=squared_hinge, penalty=l2; total time=   2.3s\n",
      "[CV] END alpha=0.03679795918367347, l1_ratio=0.8105263157894737, learning_rate=invscaling, loss=squared_hinge, penalty=l2; total time=   1.9s\n",
      "[CV] END alpha=0.03679795918367347, l1_ratio=0.8105263157894737, learning_rate=invscaling, loss=squared_hinge, penalty=l2; total time=   2.0s\n",
      "[CV] END alpha=0.01233265306122449, l1_ratio=0.8105263157894737, learning_rate=invscaling, loss=perceptron, penalty=l2; total time=   0.9s\n",
      "[CV] END alpha=0.01233265306122449, l1_ratio=0.8105263157894737, learning_rate=invscaling, loss=perceptron, penalty=l2; total time=   0.9s\n",
      "[CV] END alpha=0.03679795918367347, l1_ratio=0.8105263157894737, learning_rate=invscaling, loss=squared_hinge, penalty=l2; total time=   1.8s\n",
      "[CV] END alpha=0.01233265306122449, l1_ratio=0.8105263157894737, learning_rate=invscaling, loss=perceptron, penalty=l2; total time=   0.8s\n",
      "[CV] END alpha=0.01233265306122449, l1_ratio=0.8105263157894737, learning_rate=invscaling, loss=perceptron, penalty=l2; total time=   0.8s\n",
      "[CV] END alpha=0.01233265306122449, l1_ratio=0.8105263157894737, learning_rate=invscaling, loss=perceptron, penalty=l2; total time=   0.9s\n",
      "[CV] END alpha=0.08368979591836735, l1_ratio=0.19473684210526315, learning_rate=invscaling, loss=hinge, penalty=elasticnet; total time=   1.8s\n",
      "[CV] END alpha=0.08368979591836735, l1_ratio=0.19473684210526315, learning_rate=invscaling, loss=hinge, penalty=elasticnet; total time=   1.9s\n",
      "[CV] END alpha=0.08368979591836735, l1_ratio=0.19473684210526315, learning_rate=invscaling, loss=hinge, penalty=elasticnet; total time=   1.7s\n",
      "[CV] END alpha=0.08368979591836735, l1_ratio=0.19473684210526315, learning_rate=invscaling, loss=hinge, penalty=elasticnet; total time=   1.6s\n",
      "[CV] END alpha=0.08368979591836735, l1_ratio=0.19473684210526315, learning_rate=invscaling, loss=hinge, penalty=elasticnet; total time=   1.7s\n",
      "[CV] END alpha=0.004177551020408164, l1_ratio=0.38421052631578945, learning_rate=optimal, loss=log, penalty=elasticnet; total time=   1.7s\n",
      "[CV] END alpha=0.004177551020408164, l1_ratio=0.38421052631578945, learning_rate=optimal, loss=log, penalty=elasticnet; total time=   1.8s\n",
      "[CV] END alpha=0.004177551020408164, l1_ratio=0.38421052631578945, learning_rate=optimal, loss=log, penalty=elasticnet; total time=   1.7s\n",
      "[CV] END alpha=0.004177551020408164, l1_ratio=0.38421052631578945, learning_rate=optimal, loss=log, penalty=elasticnet; total time=   1.9s\n",
      "[CV] END alpha=0.004177551020408164, l1_ratio=0.38421052631578945, learning_rate=optimal, loss=log, penalty=elasticnet; total time=   1.7s\n",
      "[CV] END alpha=0.049030612244897964, l1_ratio=0.8105263157894737, learning_rate=optimal, loss=log, penalty=elasticnet; total time=   1.5s\n",
      "[CV] END alpha=0.049030612244897964, l1_ratio=0.8105263157894737, learning_rate=optimal, loss=log, penalty=elasticnet; total time=   1.3s\n",
      "[CV] END alpha=0.049030612244897964, l1_ratio=0.8105263157894737, learning_rate=optimal, loss=log, penalty=elasticnet; total time=   1.6s\n",
      "[CV] END alpha=0.049030612244897964, l1_ratio=0.8105263157894737, learning_rate=optimal, loss=log, penalty=elasticnet; total time=   1.6s\n",
      "[CV] END alpha=0.049030612244897964, l1_ratio=0.8105263157894737, learning_rate=optimal, loss=log, penalty=elasticnet; total time=   1.4s\n",
      "[CV] END alpha=0.09592244897959185, l1_ratio=0.6684210526315789, learning_rate=adaptive, loss=modified_huber, penalty=l1; total time=   6.5s\n",
      "[CV] END alpha=0.09592244897959185, l1_ratio=0.6684210526315789, learning_rate=adaptive, loss=modified_huber, penalty=l1; total time=   6.5s\n",
      "[CV] END alpha=0.09592244897959185, l1_ratio=0.6684210526315789, learning_rate=adaptive, loss=modified_huber, penalty=l1; total time=   6.3s\n",
      "[CV] END alpha=0.01233265306122449, l1_ratio=0.38421052631578945, learning_rate=invscaling, loss=hinge, penalty=l1; total time=   1.8s\n",
      "[CV] END alpha=0.01233265306122449, l1_ratio=0.38421052631578945, learning_rate=invscaling, loss=hinge, penalty=l1; total time=   2.0s\n",
      "[CV] END alpha=0.09592244897959185, l1_ratio=0.6684210526315789, learning_rate=adaptive, loss=modified_huber, penalty=l1; total time=   5.8s\n",
      "[CV] END alpha=0.01233265306122449, l1_ratio=0.38421052631578945, learning_rate=invscaling, loss=hinge, penalty=l1; total time=   1.9s\n",
      "[CV] END alpha=0.09592244897959185, l1_ratio=0.6684210526315789, learning_rate=adaptive, loss=modified_huber, penalty=l1; total time=   6.0s\n",
      "[CV] END alpha=0.010293877551020408, l1_ratio=0.2894736842105263, learning_rate=invscaling, loss=perceptron, penalty=elasticnet; total time=   1.4s\n",
      "[CV] END alpha=0.01233265306122449, l1_ratio=0.38421052631578945, learning_rate=invscaling, loss=hinge, penalty=l1; total time=   1.7s\n",
      "[CV] END alpha=0.01233265306122449, l1_ratio=0.38421052631578945, learning_rate=invscaling, loss=hinge, penalty=l1; total time=   1.6s\n",
      "[CV] END alpha=0.010293877551020408, l1_ratio=0.2894736842105263, learning_rate=invscaling, loss=perceptron, penalty=elasticnet; total time=   1.1s\n",
      "[CV] END alpha=0.010293877551020408, l1_ratio=0.2894736842105263, learning_rate=invscaling, loss=perceptron, penalty=elasticnet; total time=   1.1s\n",
      "[CV] END alpha=0.010293877551020408, l1_ratio=0.2894736842105263, learning_rate=invscaling, loss=perceptron, penalty=elasticnet; total time=   1.1s\n",
      "[CV] END alpha=0.010293877551020408, l1_ratio=0.2894736842105263, learning_rate=invscaling, loss=perceptron, penalty=elasticnet; total time=   0.9s\n",
      "[CV] END alpha=0.0898061224489796, l1_ratio=0.1, learning_rate=invscaling, loss=modified_huber, penalty=l1; total time=   1.2s\n",
      "[CV] END alpha=0.0898061224489796, l1_ratio=0.1, learning_rate=invscaling, loss=modified_huber, penalty=l1; total time=   1.4s\n",
      "[CV] END alpha=0.0898061224489796, l1_ratio=0.1, learning_rate=invscaling, loss=modified_huber, penalty=l1; total time=   1.4s\n",
      "[CV] END alpha=0.0898061224489796, l1_ratio=0.1, learning_rate=invscaling, loss=modified_huber, penalty=l1; total time=   1.1s\n",
      "[CV] END alpha=0.0898061224489796, l1_ratio=0.1, learning_rate=invscaling, loss=modified_huber, penalty=l1; total time=   1.1s\n"
     ]
    },
    {
     "name": "stderr",
     "output_type": "stream",
     "text": [
      "/home/ale/miniconda3/envs/conda-tf/lib/python3.9/site-packages/sklearn/linear_model/_stochastic_gradient.py:574: ConvergenceWarning: Maximum number of iteration reached before convergence. Consider increasing max_iter to improve the fit.\n",
      "  warnings.warn(\"Maximum number of iteration reached before \"\n"
     ]
    },
    {
     "name": "stdout",
     "output_type": "stream",
     "text": [
      "[CV] END alpha=0.06330204081632654, l1_ratio=1.0, learning_rate=optimal, loss=squared_hinge, penalty=l1; total time= 1.6min\n",
      "[CV] END alpha=0.051069387755102044, l1_ratio=0.6210526315789474, learning_rate=adaptive, loss=perceptron, penalty=elasticnet; total time=   4.9s\n",
      "[CV] END alpha=0.051069387755102044, l1_ratio=0.6210526315789474, learning_rate=adaptive, loss=perceptron, penalty=elasticnet; total time=   5.1s\n",
      "[CV] END alpha=0.051069387755102044, l1_ratio=0.6210526315789474, learning_rate=adaptive, loss=perceptron, penalty=elasticnet; total time=   4.9s\n",
      "[CV] END alpha=0.051069387755102044, l1_ratio=0.6210526315789474, learning_rate=adaptive, loss=perceptron, penalty=elasticnet; total time=   4.8s\n",
      "[CV] END alpha=0.09184489795918369, l1_ratio=0.6210526315789474, learning_rate=optimal, loss=modified_huber, penalty=l1; total time=   1.5s\n",
      "[CV] END alpha=0.09184489795918369, l1_ratio=0.6210526315789474, learning_rate=optimal, loss=modified_huber, penalty=l1; total time=   1.5s\n",
      "[CV] END alpha=0.09184489795918369, l1_ratio=0.6210526315789474, learning_rate=optimal, loss=modified_huber, penalty=l1; total time=   1.5s\n",
      "[CV] END alpha=0.09184489795918369, l1_ratio=0.6210526315789474, learning_rate=optimal, loss=modified_huber, penalty=l1; total time=   1.5s\n",
      "[CV] END alpha=0.028642857142857144, l1_ratio=0.2894736842105263, learning_rate=optimal, loss=epsilon_insensitive, penalty=elasticnet; total time=   1.3s\n",
      "[CV] END alpha=0.09184489795918369, l1_ratio=0.6210526315789474, learning_rate=optimal, loss=modified_huber, penalty=l1; total time=   1.6s\n",
      "[CV] END alpha=0.051069387755102044, l1_ratio=0.6210526315789474, learning_rate=adaptive, loss=perceptron, penalty=elasticnet; total time=   3.8s\n",
      "[CV] END alpha=0.028642857142857144, l1_ratio=0.2894736842105263, learning_rate=optimal, loss=epsilon_insensitive, penalty=elasticnet; total time=   1.3s\n",
      "[CV] END alpha=0.028642857142857144, l1_ratio=0.2894736842105263, learning_rate=optimal, loss=epsilon_insensitive, penalty=elasticnet; total time=   1.3s\n",
      "[CV] END alpha=0.028642857142857144, l1_ratio=0.2894736842105263, learning_rate=optimal, loss=epsilon_insensitive, penalty=elasticnet; total time=   1.1s\n",
      "[CV] END alpha=0.028642857142857144, l1_ratio=0.2894736842105263, learning_rate=optimal, loss=epsilon_insensitive, penalty=elasticnet; total time=   1.2s\n",
      "[CV] END alpha=0.08165102040816327, l1_ratio=0.6210526315789474, learning_rate=optimal, loss=log, penalty=l2; total time=   0.8s\n",
      "[CV] END alpha=0.08165102040816327, l1_ratio=0.6210526315789474, learning_rate=optimal, loss=log, penalty=l2; total time=   0.9s\n",
      "[CV] END alpha=0.08165102040816327, l1_ratio=0.6210526315789474, learning_rate=optimal, loss=log, penalty=l2; total time=   1.0s\n",
      "[CV] END alpha=0.08165102040816327, l1_ratio=0.6210526315789474, learning_rate=optimal, loss=log, penalty=l2; total time=   1.0s\n",
      "[CV] END alpha=0.08165102040816327, l1_ratio=0.6210526315789474, learning_rate=optimal, loss=log, penalty=l2; total time=   0.9s\n",
      "[CV] END alpha=0.02660408163265306, l1_ratio=1.0, learning_rate=invscaling, loss=log, penalty=elasticnet; total time=   1.3s[CV] END alpha=0.02660408163265306, l1_ratio=1.0, learning_rate=invscaling, loss=log, penalty=elasticnet; total time=   1.4s\n",
      "\n",
      "[CV] END alpha=0.02660408163265306, l1_ratio=1.0, learning_rate=invscaling, loss=log, penalty=elasticnet; total time=   1.5s\n",
      "[CV] END alpha=0.02660408163265306, l1_ratio=1.0, learning_rate=invscaling, loss=log, penalty=elasticnet; total time=   1.4s\n",
      "[CV] END alpha=0.05718571428571429, l1_ratio=0.9526315789473684, learning_rate=constant, loss=log, penalty=l2; total time=   0.8s\n",
      "[CV] END alpha=0.02660408163265306, l1_ratio=1.0, learning_rate=invscaling, loss=log, penalty=elasticnet; total time=   1.2s\n",
      "[CV] END alpha=0.05718571428571429, l1_ratio=0.9526315789473684, learning_rate=constant, loss=log, penalty=l2; total time=   1.0s\n",
      "[CV] END alpha=0.05718571428571429, l1_ratio=0.9526315789473684, learning_rate=constant, loss=log, penalty=l2; total time=   0.7s\n",
      "[CV] END alpha=0.05718571428571429, l1_ratio=0.9526315789473684, learning_rate=constant, loss=log, penalty=l2; total time=   0.8s\n",
      "[CV] END alpha=0.05718571428571429, l1_ratio=0.9526315789473684, learning_rate=constant, loss=log, penalty=l2; total time=   0.7s\n",
      "[CV] END alpha=0.020487755102040817, l1_ratio=0.2894736842105263, learning_rate=optimal, loss=hinge, penalty=elasticnet; total time=   1.2s\n",
      "[CV] END alpha=0.020487755102040817, l1_ratio=0.2894736842105263, learning_rate=optimal, loss=hinge, penalty=elasticnet; total time=   1.2s\n",
      "[CV] END alpha=0.020487755102040817, l1_ratio=0.2894736842105263, learning_rate=optimal, loss=hinge, penalty=elasticnet; total time=   1.3s\n",
      "[CV] END alpha=0.020487755102040817, l1_ratio=0.2894736842105263, learning_rate=optimal, loss=hinge, penalty=elasticnet; total time=   1.3s\n",
      "[CV] END alpha=0.020487755102040817, l1_ratio=0.2894736842105263, learning_rate=optimal, loss=hinge, penalty=elasticnet; total time=   1.0s\n",
      "[CV] END alpha=0.09592244897959185, l1_ratio=0.7157894736842105, learning_rate=optimal, loss=log, penalty=l1; total time=   1.4s\n",
      "[CV] END alpha=0.09592244897959185, l1_ratio=0.7157894736842105, learning_rate=optimal, loss=log, penalty=l1; total time=   1.4s\n",
      "[CV] END alpha=0.09592244897959185, l1_ratio=0.7157894736842105, learning_rate=optimal, loss=log, penalty=l1; total time=   1.3s\n",
      "[CV] END alpha=0.09592244897959185, l1_ratio=0.7157894736842105, learning_rate=optimal, loss=log, penalty=l1; total time=   1.4s\n",
      "[CV] END alpha=0.09592244897959185, l1_ratio=0.7157894736842105, learning_rate=optimal, loss=log, penalty=l1; total time=   1.2s\n",
      "[CV] END alpha=0.04291428571428572, l1_ratio=0.43157894736842106, learning_rate=invscaling, loss=squared_hinge, penalty=l1; total time=   1.7s\n",
      "[CV] END alpha=0.04291428571428572, l1_ratio=0.43157894736842106, learning_rate=invscaling, loss=squared_hinge, penalty=l1; total time=   1.7s\n",
      "[CV] END alpha=0.04291428571428572, l1_ratio=0.43157894736842106, learning_rate=invscaling, loss=squared_hinge, penalty=l1; total time=   1.9s\n",
      "[CV] END alpha=0.04291428571428572, l1_ratio=0.43157894736842106, learning_rate=invscaling, loss=squared_hinge, penalty=l1; total time=   1.3s\n",
      "[CV] END alpha=0.04291428571428572, l1_ratio=0.43157894736842106, learning_rate=invscaling, loss=squared_hinge, penalty=l1; total time=   1.1s\n"
     ]
    },
    {
     "data": {
      "text/plain": [
       "RandomizedSearchCV(estimator=SGDClassifier(eta0=0.01, n_jobs=-1,\n",
       "                                           random_state=42),\n",
       "                   n_iter=50, n_jobs=-1,\n",
       "                   param_distributions={'alpha': array([0.0001    , 0.00213878, 0.00417755, 0.00621633, 0.0082551 ,\n",
       "       0.01029388, 0.01233265, 0.01437143, 0.0164102 , 0.01844898,\n",
       "       0.02048776, 0.02252653, 0.02456531, 0.02660408, 0.02864286,\n",
       "       0.03068163, 0.03272041, 0.03475918, 0.03679796, 0.03883673,...\n",
       "                                        'learning_rate': ['constant', 'optimal',\n",
       "                                                          'invscaling',\n",
       "                                                          'adaptive'],\n",
       "                                        'loss': ['hinge', 'log',\n",
       "                                                 'modified_huber',\n",
       "                                                 'squared_hinge', 'perceptron',\n",
       "                                                 'huber',\n",
       "                                                 'epsilon_insensitive'],\n",
       "                                        'penalty': ['l2', 'l1', 'elasticnet']},\n",
       "                   random_state=42, refit=False,\n",
       "                   scoring={'accuracy': make_scorer(accuracy_score),\n",
       "                            'f1': make_scorer(f1_score, average=micro),\n",
       "                            'precision': make_scorer(precision_score, average=micro)},\n",
       "                   verbose=2)"
      ]
     },
     "execution_count": 20,
     "metadata": {},
     "output_type": "execute_result"
    }
   ],
   "source": [
    "model = SGDClassifier(eta0=0.01, n_jobs=-1, random_state=42)\n",
    "\n",
    "params = {\n",
    "    \"loss\": [ \"hinge\", \"log\", \"modified_huber\", \"squared_hinge\", \"perceptron\", \"huber\", \"epsilon_insensitive\"],\n",
    "    \"penalty\": [\"l2\", \"l1\", \"elasticnet\"],\n",
    "    \"alpha\": np.linspace(0.0001, 0.1, 50),\n",
    "    \"l1_ratio\": np.linspace(0.1, 1, 20),\n",
    "    \"learning_rate\": [\"constant\", \"optimal\", \"invscaling\", \"adaptive\"]\n",
    "}\n",
    "\n",
    "scorers = {\n",
    "    \"accuracy\": make_scorer(accuracy_score),\n",
    "    \"precision\": make_scorer(precision_score, average=\"micro\"),\n",
    "    \"f1\": make_scorer(f1_score, average=\"micro\")\n",
    "}\n",
    "\n",
    "clf = RandomizedSearchCV(model, params, refit=False, random_state=42, n_jobs=-1, verbose=2, n_iter=50, scoring=scorers)\n",
    "clf.fit(X, y)\n"
   ]
  },
  {
   "cell_type": "code",
   "execution_count": 23,
   "metadata": {},
   "outputs": [],
   "source": [
    "pd.DataFrame(clf.cv_results_).to_csv(\"sgd_results.csv\")"
   ]
  },
  {
   "cell_type": "code",
   "execution_count": 30,
   "metadata": {},
   "outputs": [
    {
     "name": "stderr",
     "output_type": "stream",
     "text": [
      "[Parallel(n_jobs=-1)]: Using backend ThreadingBackend with 4 concurrent workers.\n"
     ]
    },
    {
     "name": "stdout",
     "output_type": "stream",
     "text": [
      "building tree 1 of 100\n",
      "building tree 2 of 100\n",
      "building tree 3 of 100\n",
      "building tree 4 of 100\n",
      "building tree 5 of 100\n",
      "building tree 6 of 100\n",
      "building tree 7 of 100\n",
      "building tree 8 of 100\n",
      "building tree 9 of 100\n",
      "building tree 10 of 100\n",
      "building tree 11 of 100\n",
      "building tree 12 of 100\n",
      "building tree 13 of 100\n",
      "building tree 14 of 100\n",
      "building tree 15 of 100\n",
      "building tree 16 of 100\n",
      "building tree 17 of 100\n",
      "building tree 18 of 100\n",
      "building tree 19 of 100\n",
      "building tree 20 of 100\n",
      "building tree 21 of 100\n",
      "building tree 22 of 100\n",
      "building tree 23 of 100\n",
      "building tree 24 of 100\n",
      "building tree 25 of 100\n",
      "building tree 26 of 100\n",
      "building tree 27 of 100\n",
      "building tree 28 of 100\n",
      "building tree 29 of 100\n",
      "building tree 30 of 100\n",
      "building tree 31 of 100\n",
      "building tree 32 of 100\n",
      "building tree 33 of 100\n",
      "building tree 34 of 100\n",
      "building tree 35 of 100\n",
      "building tree 36 of 100\n",
      "building tree 37 of 100\n"
     ]
    },
    {
     "name": "stderr",
     "output_type": "stream",
     "text": [
      "[Parallel(n_jobs=-1)]: Done  33 tasks      | elapsed:    3.8s\n"
     ]
    },
    {
     "name": "stdout",
     "output_type": "stream",
     "text": [
      "building tree 38 of 100\n",
      "building tree 39 of 100\n",
      "building tree 40 of 100\n",
      "building tree 41 of 100\n",
      "building tree 42 of 100\n",
      "building tree 43 of 100\n",
      "building tree 44 of 100\n",
      "building tree 45 of 100\n",
      "building tree 46 of 100\n",
      "building tree 47 of 100\n",
      "building tree 48 of 100\n",
      "building tree 49 of 100\n",
      "building tree 50 of 100\n",
      "building tree 51 of 100\n",
      "building tree 52 of 100\n",
      "building tree 53 of 100\n",
      "building tree 54 of 100\n",
      "building tree 55 of 100\n",
      "building tree 56 of 100\n",
      "building tree 57 of 100\n",
      "building tree 58 of 100\n",
      "building tree 59 of 100\n",
      "building tree 60 of 100\n",
      "building tree 61 of 100\n",
      "building tree 62 of 100\n",
      "building tree 63 of 100\n",
      "building tree 64 of 100\n",
      "building tree 65 of 100\n",
      "building tree 66 of 100\n",
      "building tree 67 of 100\n",
      "building tree 68 of 100\n",
      "building tree 69 of 100\n",
      "building tree 70 of 100\n",
      "building tree 71 of 100\n",
      "building tree 72 of 100\n",
      "building tree 73 of 100\n",
      "building tree 74 of 100\n",
      "building tree 75 of 100\n",
      "building tree 76 of 100\n",
      "building tree 77 of 100\n",
      "building tree 78 of 100\n",
      "building tree 79 of 100\n",
      "building tree 80 of 100\n",
      "building tree 81 of 100\n",
      "building tree 82 of 100\n",
      "building tree 83 of 100\n",
      "building tree 84 of 100\n",
      "building tree 85 of 100\n",
      "building tree 86 of 100\n",
      "building tree 87 of 100\n",
      "building tree 88 of 100\n",
      "building tree 89 of 100\n",
      "building tree 90 of 100\n",
      "building tree 91 of 100\n",
      "building tree 92 of 100\n",
      "building tree 93 of 100\n",
      "building tree 94 of 100\n",
      "building tree 95 of 100\n",
      "building tree 96 of 100\n",
      "building tree 97 of 100\n",
      "building tree 98 of 100\n",
      "building tree 99 of 100\n",
      "building tree 100 of 100\n"
     ]
    },
    {
     "name": "stderr",
     "output_type": "stream",
     "text": [
      "[Parallel(n_jobs=-1)]: Done 100 out of 100 | elapsed:   11.0s finished\n"
     ]
    },
    {
     "data": {
      "text/plain": [
       "RandomForestClassifier(n_jobs=-1, random_state=42, verbose=2)"
      ]
     },
     "execution_count": 30,
     "metadata": {},
     "output_type": "execute_result"
    }
   ],
   "source": [
    "model_forest = RandomForestClassifier(n_jobs=-1, random_state=42, verbose=2)\n",
    "\n",
    "model_forest.fit(X_train, y_train)"
   ]
  },
  {
   "cell_type": "code",
   "execution_count": 34,
   "metadata": {},
   "outputs": [
    {
     "name": "stderr",
     "output_type": "stream",
     "text": [
      "[Parallel(n_jobs=4)]: Using backend ThreadingBackend with 4 concurrent workers.\n",
      "[Parallel(n_jobs=4)]: Done  33 tasks      | elapsed:    0.1s\n"
     ]
    },
    {
     "name": "stdout",
     "output_type": "stream",
     "text": [
      "0.7017819222601791\n",
      "0.7017819222601791\n",
      "0.7017819222601791\n"
     ]
    },
    {
     "name": "stderr",
     "output_type": "stream",
     "text": [
      "[Parallel(n_jobs=4)]: Done 100 out of 100 | elapsed:    0.2s finished\n"
     ]
    }
   ],
   "source": [
    "y_pred = model_forest.predict(X_test)\n",
    "\n",
    "print(accuracy_score(y_test, y_pred))\n",
    "print(precision_score(y_test, y_pred, average=\"micro\"))\n",
    "print(precision_score(y_test, y_pred, average=\"micro\"))"
   ]
  },
  {
   "cell_type": "code",
   "execution_count": 36,
   "metadata": {},
   "outputs": [
    {
     "name": "stdout",
     "output_type": "stream",
     "text": [
      "Fitting 5 folds for each of 50 candidates, totalling 250 fits\n",
      "[CV] END criterion=gini, max_depth=92, max_features=sqrt, min_samples_leaf=11, min_samples_split=78, n_estimators=288; total time= 1.6min\n",
      "[CV] END criterion=gini, max_depth=92, max_features=sqrt, min_samples_leaf=11, min_samples_split=78, n_estimators=288; total time= 1.6min\n",
      "[CV] END criterion=gini, max_depth=92, max_features=sqrt, min_samples_leaf=11, min_samples_split=78, n_estimators=288; total time= 1.6min\n",
      "[CV] END criterion=gini, max_depth=92, max_features=sqrt, min_samples_leaf=11, min_samples_split=78, n_estimators=288; total time= 1.7min\n",
      "[CV] END criterion=gini, max_depth=92, max_features=sqrt, min_samples_leaf=11, min_samples_split=78, n_estimators=288; total time= 1.6min\n",
      "[CV] END criterion=entropy, max_depth=73, max_features=sqrt, min_samples_leaf=22, min_samples_split=56, n_estimators=450; total time= 4.2min\n",
      "[CV] END criterion=entropy, max_depth=73, max_features=sqrt, min_samples_leaf=22, min_samples_split=56, n_estimators=450; total time= 4.2min\n",
      "[CV] END criterion=entropy, max_depth=73, max_features=sqrt, min_samples_leaf=22, min_samples_split=56, n_estimators=450; total time= 4.2min\n",
      "[CV] END criterion=entropy, max_depth=73, max_features=sqrt, min_samples_leaf=22, min_samples_split=56, n_estimators=450; total time= 4.2min\n",
      "[CV] END criterion=entropy, max_depth=73, max_features=sqrt, min_samples_leaf=22, min_samples_split=56, n_estimators=450; total time= 4.0min\n",
      "[CV] END criterion=entropy, max_depth=101, max_features=auto, min_samples_leaf=33, min_samples_split=45, n_estimators=516; total time= 4.4min\n",
      "[CV] END criterion=entropy, max_depth=101, max_features=auto, min_samples_leaf=33, min_samples_split=45, n_estimators=516; total time= 4.4min\n",
      "[CV] END criterion=entropy, max_depth=101, max_features=auto, min_samples_leaf=33, min_samples_split=45, n_estimators=516; total time= 4.4min\n",
      "[CV] END criterion=gini, max_depth=115, max_features=sqrt, min_samples_leaf=22, min_samples_split=45, n_estimators=544; total time= 3.1min\n",
      "[CV] END criterion=entropy, max_depth=101, max_features=auto, min_samples_leaf=33, min_samples_split=45, n_estimators=516; total time= 4.4min\n",
      "[CV] END criterion=entropy, max_depth=101, max_features=auto, min_samples_leaf=33, min_samples_split=45, n_estimators=516; total time= 4.3min\n",
      "[CV] END criterion=gini, max_depth=115, max_features=sqrt, min_samples_leaf=22, min_samples_split=45, n_estimators=544; total time= 3.0min\n",
      "[CV] END criterion=gini, max_depth=86, max_features=sqrt, min_samples_leaf=1, min_samples_split=2, n_estimators=83; total time=  40.1s\n",
      "[CV] END criterion=gini, max_depth=86, max_features=sqrt, min_samples_leaf=1, min_samples_split=2, n_estimators=83; total time=  39.5s\n",
      "[CV] END criterion=gini, max_depth=115, max_features=sqrt, min_samples_leaf=22, min_samples_split=45, n_estimators=544; total time= 3.1min\n",
      "[CV] END criterion=gini, max_depth=86, max_features=sqrt, min_samples_leaf=1, min_samples_split=2, n_estimators=83; total time=  39.2s\n",
      "[CV] END criterion=gini, max_depth=86, max_features=sqrt, min_samples_leaf=1, min_samples_split=2, n_estimators=83; total time=  39.2s\n",
      "[CV] END criterion=gini, max_depth=115, max_features=sqrt, min_samples_leaf=22, min_samples_split=45, n_estimators=544; total time= 3.0min\n",
      "[CV] END criterion=gini, max_depth=115, max_features=sqrt, min_samples_leaf=22, min_samples_split=45, n_estimators=544; total time= 3.0min\n",
      "[CV] END criterion=gini, max_depth=86, max_features=sqrt, min_samples_leaf=1, min_samples_split=2, n_estimators=83; total time=  38.2s\n",
      "[CV] END criterion=gini, max_depth=67, max_features=log2, min_samples_leaf=33, min_samples_split=2, n_estimators=461; total time= 1.6min\n",
      "[CV] END criterion=gini, max_depth=67, max_features=log2, min_samples_leaf=33, min_samples_split=2, n_estimators=461; total time= 1.6min\n",
      "[CV] END criterion=gini, max_depth=67, max_features=log2, min_samples_leaf=33, min_samples_split=2, n_estimators=461; total time= 1.6min\n",
      "[CV] END criterion=gini, max_depth=67, max_features=log2, min_samples_leaf=33, min_samples_split=2, n_estimators=461; total time= 1.6min\n",
      "[CV] END criterion=gini, max_depth=67, max_features=log2, min_samples_leaf=33, min_samples_split=2, n_estimators=461; total time= 1.5min\n",
      "[CV] END criterion=entropy, max_depth=62, max_features=log2, min_samples_leaf=22, min_samples_split=89, n_estimators=533; total time= 3.0min\n",
      "[CV] END criterion=entropy, max_depth=62, max_features=log2, min_samples_leaf=22, min_samples_split=89, n_estimators=533; total time= 3.0min\n",
      "[CV] END criterion=entropy, max_depth=62, max_features=log2, min_samples_leaf=22, min_samples_split=89, n_estimators=533; total time= 3.0min\n",
      "[CV] END criterion=gini, max_depth=72, max_features=auto, min_samples_leaf=50, min_samples_split=100, n_estimators=111; total time=  33.8s\n",
      "[CV] END criterion=gini, max_depth=72, max_features=auto, min_samples_leaf=50, min_samples_split=100, n_estimators=111; total time=  33.2s\n",
      "[CV] END criterion=gini, max_depth=72, max_features=auto, min_samples_leaf=50, min_samples_split=100, n_estimators=111; total time=  33.9s\n",
      "[CV] END criterion=gini, max_depth=72, max_features=auto, min_samples_leaf=50, min_samples_split=100, n_estimators=111; total time=  33.5s\n",
      "[CV] END criterion=entropy, max_depth=62, max_features=log2, min_samples_leaf=22, min_samples_split=89, n_estimators=533; total time= 3.0min\n",
      "[CV] END criterion=gini, max_depth=72, max_features=auto, min_samples_leaf=50, min_samples_split=100, n_estimators=111; total time=  31.5s\n",
      "[CV] END criterion=entropy, max_depth=62, max_features=log2, min_samples_leaf=22, min_samples_split=89, n_estimators=533; total time= 2.9min\n",
      "[CV] END criterion=entropy, max_depth=81, max_features=auto, min_samples_leaf=11, min_samples_split=45, n_estimators=444; total time= 4.2min\n",
      "[CV] END criterion=entropy, max_depth=81, max_features=auto, min_samples_leaf=11, min_samples_split=45, n_estimators=444; total time= 4.2min\n",
      "[CV] END criterion=entropy, max_depth=81, max_features=auto, min_samples_leaf=11, min_samples_split=45, n_estimators=444; total time= 4.3min\n",
      "[CV] END criterion=gini, max_depth=111, max_features=auto, min_samples_leaf=44, min_samples_split=23, n_estimators=283; total time= 1.4min\n",
      "[CV] END criterion=entropy, max_depth=81, max_features=auto, min_samples_leaf=11, min_samples_split=45, n_estimators=444; total time= 4.2min\n",
      "[CV] END criterion=gini, max_depth=111, max_features=auto, min_samples_leaf=44, min_samples_split=23, n_estimators=283; total time= 1.3min\n",
      "[CV] END criterion=gini, max_depth=111, max_features=auto, min_samples_leaf=44, min_samples_split=23, n_estimators=283; total time= 1.4min\n",
      "[CV] END criterion=gini, max_depth=111, max_features=auto, min_samples_leaf=44, min_samples_split=23, n_estimators=283; total time= 1.3min\n",
      "[CV] END criterion=gini, max_depth=111, max_features=auto, min_samples_leaf=44, min_samples_split=23, n_estimators=283; total time= 1.3min\n",
      "[CV] END criterion=entropy, max_depth=81, max_features=auto, min_samples_leaf=11, min_samples_split=45, n_estimators=444; total time= 4.0min\n",
      "[CV] END criterion=entropy, max_depth=83, max_features=log2, min_samples_leaf=17, min_samples_split=67, n_estimators=433; total time= 2.4min\n",
      "[CV] END criterion=entropy, max_depth=83, max_features=log2, min_samples_leaf=17, min_samples_split=67, n_estimators=433; total time= 2.4min\n",
      "[CV] END criterion=entropy, max_depth=83, max_features=log2, min_samples_leaf=17, min_samples_split=67, n_estimators=433; total time= 2.5min\n",
      "[CV] END criterion=entropy, max_depth=104, max_features=auto, min_samples_leaf=6, min_samples_split=56, n_estimators=77; total time=  43.6s\n",
      "[CV] END criterion=entropy, max_depth=104, max_features=auto, min_samples_leaf=6, min_samples_split=56, n_estimators=77; total time=  44.3s\n",
      "[CV] END criterion=entropy, max_depth=83, max_features=log2, min_samples_leaf=17, min_samples_split=67, n_estimators=433; total time= 2.4min\n",
      "[CV] END criterion=entropy, max_depth=104, max_features=auto, min_samples_leaf=6, min_samples_split=56, n_estimators=77; total time=  45.3s\n",
      "[CV] END criterion=entropy, max_depth=104, max_features=auto, min_samples_leaf=6, min_samples_split=56, n_estimators=77; total time=  46.6s\n",
      "[CV] END criterion=entropy, max_depth=104, max_features=auto, min_samples_leaf=6, min_samples_split=56, n_estimators=77; total time=  45.7s\n",
      "[CV] END criterion=entropy, max_depth=83, max_features=log2, min_samples_leaf=17, min_samples_split=67, n_estimators=433; total time= 2.4min\n",
      "[CV] END criterion=entropy, max_depth=128, max_features=sqrt, min_samples_leaf=22, min_samples_split=78, n_estimators=377; total time= 3.2min\n",
      "[CV] END criterion=entropy, max_depth=128, max_features=sqrt, min_samples_leaf=22, min_samples_split=78, n_estimators=377; total time= 3.2min\n",
      "[CV] END criterion=entropy, max_depth=128, max_features=sqrt, min_samples_leaf=22, min_samples_split=78, n_estimators=377; total time= 3.3min\n",
      "[CV] END criterion=entropy, max_depth=128, max_features=sqrt, min_samples_leaf=22, min_samples_split=78, n_estimators=377; total time= 3.3min\n",
      "[CV] END criterion=gini, max_depth=94, max_features=log2, min_samples_leaf=33, min_samples_split=89, n_estimators=555; total time= 1.8min\n",
      "[CV] END criterion=gini, max_depth=94, max_features=log2, min_samples_leaf=33, min_samples_split=89, n_estimators=555; total time= 1.8min\n",
      "[CV] END criterion=gini, max_depth=94, max_features=log2, min_samples_leaf=33, min_samples_split=89, n_estimators=555; total time= 1.9min\n",
      "[CV] END criterion=entropy, max_depth=128, max_features=sqrt, min_samples_leaf=22, min_samples_split=78, n_estimators=377; total time= 3.2min\n",
      "[CV] END criterion=gini, max_depth=94, max_features=log2, min_samples_leaf=33, min_samples_split=89, n_estimators=555; total time= 1.8min\n",
      "[CV] END criterion=gini, max_depth=94, max_features=log2, min_samples_leaf=33, min_samples_split=89, n_estimators=555; total time= 1.8min\n",
      "[CV] END criterion=entropy, max_depth=83, max_features=log2, min_samples_leaf=6, min_samples_split=34, n_estimators=455; total time= 3.0min\n",
      "[CV] END criterion=entropy, max_depth=83, max_features=log2, min_samples_leaf=6, min_samples_split=34, n_estimators=455; total time= 3.0min\n",
      "[CV] END criterion=entropy, max_depth=83, max_features=log2, min_samples_leaf=6, min_samples_split=34, n_estimators=455; total time= 3.2min\n",
      "[CV] END criterion=entropy, max_depth=83, max_features=log2, min_samples_leaf=6, min_samples_split=34, n_estimators=455; total time= 3.2min\n",
      "[CV] END criterion=entropy, max_depth=83, max_features=log2, min_samples_leaf=6, min_samples_split=34, n_estimators=455; total time= 3.1min\n",
      "[CV] END criterion=entropy, max_depth=148, max_features=sqrt, min_samples_leaf=50, min_samples_split=89, n_estimators=477; total time= 3.7min\n",
      "[CV] END criterion=entropy, max_depth=148, max_features=sqrt, min_samples_leaf=50, min_samples_split=89, n_estimators=477; total time= 3.6min\n",
      "[CV] END criterion=entropy, max_depth=148, max_features=sqrt, min_samples_leaf=50, min_samples_split=89, n_estimators=477; total time= 3.6min\n",
      "[CV] END criterion=entropy, max_depth=148, max_features=sqrt, min_samples_leaf=50, min_samples_split=89, n_estimators=477; total time= 3.6min\n",
      "[CV] END criterion=entropy, max_depth=148, max_features=sqrt, min_samples_leaf=50, min_samples_split=89, n_estimators=477; total time= 3.5min\n",
      "[CV] END criterion=entropy, max_depth=31, max_features=sqrt, min_samples_leaf=22, min_samples_split=78, n_estimators=433; total time= 3.6min\n",
      "[CV] END criterion=entropy, max_depth=31, max_features=sqrt, min_samples_leaf=22, min_samples_split=78, n_estimators=433; total time= 3.6min\n",
      "[CV] END criterion=entropy, max_depth=31, max_features=sqrt, min_samples_leaf=22, min_samples_split=78, n_estimators=433; total time= 3.7min\n",
      "[CV] END criterion=gini, max_depth=52, max_features=sqrt, min_samples_leaf=6, min_samples_split=78, n_estimators=288; total time= 1.7min\n",
      "[CV] END criterion=entropy, max_depth=31, max_features=sqrt, min_samples_leaf=22, min_samples_split=78, n_estimators=433; total time= 3.7min\n",
      "[CV] END criterion=gini, max_depth=52, max_features=sqrt, min_samples_leaf=6, min_samples_split=78, n_estimators=288; total time= 1.6min\n",
      "[CV] END criterion=gini, max_depth=52, max_features=sqrt, min_samples_leaf=6, min_samples_split=78, n_estimators=288; total time= 1.7min\n",
      "[CV] END criterion=entropy, max_depth=31, max_features=sqrt, min_samples_leaf=22, min_samples_split=78, n_estimators=433; total time= 3.6min\n",
      "[CV] END criterion=gini, max_depth=52, max_features=sqrt, min_samples_leaf=6, min_samples_split=78, n_estimators=288; total time= 1.7min\n",
      "[CV] END criterion=gini, max_depth=52, max_features=sqrt, min_samples_leaf=6, min_samples_split=78, n_estimators=288; total time= 1.7min\n",
      "[CV] END criterion=gini, max_depth=22, max_features=sqrt, min_samples_leaf=17, min_samples_split=34, n_estimators=355; total time= 2.1min\n",
      "[CV] END criterion=gini, max_depth=22, max_features=sqrt, min_samples_leaf=17, min_samples_split=34, n_estimators=355; total time= 2.1min\n",
      "[CV] END criterion=gini, max_depth=22, max_features=sqrt, min_samples_leaf=17, min_samples_split=34, n_estimators=355; total time= 2.1min\n",
      "[CV] END criterion=gini, max_depth=22, max_features=sqrt, min_samples_leaf=17, min_samples_split=34, n_estimators=355; total time= 2.0min\n",
      "[CV] END criterion=gini, max_depth=22, max_features=sqrt, min_samples_leaf=17, min_samples_split=34, n_estimators=355; total time= 2.0min\n",
      "[CV] END criterion=gini, max_depth=73, max_features=auto, min_samples_leaf=11, min_samples_split=78, n_estimators=338; total time= 1.9min\n",
      "[CV] END criterion=gini, max_depth=73, max_features=auto, min_samples_leaf=11, min_samples_split=78, n_estimators=338; total time= 1.9min\n",
      "[CV] END criterion=gini, max_depth=73, max_features=auto, min_samples_leaf=11, min_samples_split=78, n_estimators=338; total time= 1.9min\n",
      "[CV] END criterion=gini, max_depth=79, max_features=sqrt, min_samples_leaf=33, min_samples_split=2, n_estimators=188; total time=  57.5s\n",
      "[CV] END criterion=gini, max_depth=73, max_features=auto, min_samples_leaf=11, min_samples_split=78, n_estimators=338; total time= 1.9min\n",
      "[CV] END criterion=gini, max_depth=73, max_features=auto, min_samples_leaf=11, min_samples_split=78, n_estimators=338; total time= 1.9min\n",
      "[CV] END criterion=gini, max_depth=79, max_features=sqrt, min_samples_leaf=33, min_samples_split=2, n_estimators=188; total time=  57.7s\n",
      "[CV] END criterion=gini, max_depth=79, max_features=sqrt, min_samples_leaf=33, min_samples_split=2, n_estimators=188; total time=  58.5s\n",
      "[CV] END criterion=gini, max_depth=79, max_features=sqrt, min_samples_leaf=33, min_samples_split=2, n_estimators=188; total time=  57.9s\n",
      "[CV] END criterion=gini, max_depth=79, max_features=sqrt, min_samples_leaf=33, min_samples_split=2, n_estimators=188; total time=  56.3s\n",
      "[CV] END criterion=entropy, max_depth=132, max_features=log2, min_samples_leaf=22, min_samples_split=78, n_estimators=544; total time= 3.0min\n",
      "[CV] END criterion=entropy, max_depth=132, max_features=log2, min_samples_leaf=22, min_samples_split=78, n_estimators=544; total time= 3.0min\n",
      "[CV] END criterion=entropy, max_depth=132, max_features=log2, min_samples_leaf=22, min_samples_split=78, n_estimators=544; total time= 3.1min\n",
      "[CV] END criterion=entropy, max_depth=132, max_features=log2, min_samples_leaf=22, min_samples_split=78, n_estimators=544; total time= 3.1min\n",
      "[CV] END criterion=entropy, max_depth=111, max_features=log2, min_samples_leaf=17, min_samples_split=78, n_estimators=272; total time= 1.5min\n",
      "[CV] END criterion=entropy, max_depth=111, max_features=log2, min_samples_leaf=17, min_samples_split=78, n_estimators=272; total time= 1.6min\n",
      "[CV] END criterion=entropy, max_depth=111, max_features=log2, min_samples_leaf=17, min_samples_split=78, n_estimators=272; total time= 1.6min\n",
      "[CV] END criterion=entropy, max_depth=132, max_features=log2, min_samples_leaf=22, min_samples_split=78, n_estimators=544; total time= 3.0min\n",
      "[CV] END criterion=entropy, max_depth=111, max_features=log2, min_samples_leaf=17, min_samples_split=78, n_estimators=272; total time= 1.6min\n",
      "[CV] END criterion=entropy, max_depth=111, max_features=log2, min_samples_leaf=17, min_samples_split=78, n_estimators=272; total time= 1.5min\n",
      "[CV] END criterion=gini, max_depth=75, max_features=sqrt, min_samples_leaf=39, min_samples_split=34, n_estimators=444; total time= 2.2min\n",
      "[CV] END criterion=gini, max_depth=75, max_features=sqrt, min_samples_leaf=39, min_samples_split=34, n_estimators=444; total time= 2.3min\n",
      "[CV] END criterion=gini, max_depth=75, max_features=sqrt, min_samples_leaf=39, min_samples_split=34, n_estimators=444; total time= 2.3min\n",
      "[CV] END criterion=gini, max_depth=75, max_features=sqrt, min_samples_leaf=39, min_samples_split=34, n_estimators=444; total time= 2.3min\n",
      "[CV] END criterion=gini, max_depth=75, max_features=sqrt, min_samples_leaf=39, min_samples_split=34, n_estimators=444; total time= 2.2min\n",
      "[CV] END criterion=gini, max_depth=58, max_features=sqrt, min_samples_leaf=39, min_samples_split=2, n_estimators=272; total time= 1.3min\n",
      "[CV] END criterion=gini, max_depth=58, max_features=sqrt, min_samples_leaf=39, min_samples_split=2, n_estimators=272; total time= 1.3min\n",
      "[CV] END criterion=gini, max_depth=58, max_features=sqrt, min_samples_leaf=39, min_samples_split=2, n_estimators=272; total time= 1.4min\n",
      "[CV] END criterion=gini, max_depth=58, max_features=sqrt, min_samples_leaf=39, min_samples_split=2, n_estimators=272; total time= 1.4min\n",
      "[CV] END criterion=gini, max_depth=58, max_features=sqrt, min_samples_leaf=39, min_samples_split=2, n_estimators=272; total time= 1.3min\n",
      "[CV] END criterion=entropy, max_depth=136, max_features=sqrt, min_samples_leaf=17, min_samples_split=2, n_estimators=416; total time= 3.7min\n",
      "[CV] END criterion=entropy, max_depth=136, max_features=sqrt, min_samples_leaf=17, min_samples_split=2, n_estimators=416; total time= 3.8min\n",
      "[CV] END criterion=entropy, max_depth=136, max_features=sqrt, min_samples_leaf=17, min_samples_split=2, n_estimators=416; total time= 3.8min\n",
      "[CV] END criterion=entropy, max_depth=136, max_features=sqrt, min_samples_leaf=17, min_samples_split=2, n_estimators=416; total time= 3.8min\n",
      "[CV] END criterion=gini, max_depth=117, max_features=auto, min_samples_leaf=17, min_samples_split=89, n_estimators=505; total time= 2.7min\n",
      "[CV] END criterion=gini, max_depth=117, max_features=auto, min_samples_leaf=17, min_samples_split=89, n_estimators=505; total time= 2.6min\n",
      "[CV] END criterion=entropy, max_depth=136, max_features=sqrt, min_samples_leaf=17, min_samples_split=2, n_estimators=416; total time= 3.7min\n",
      "[CV] END criterion=gini, max_depth=117, max_features=auto, min_samples_leaf=17, min_samples_split=89, n_estimators=505; total time= 2.7min\n",
      "[CV] END criterion=entropy, max_depth=39, max_features=log2, min_samples_leaf=1, min_samples_split=45, n_estimators=100; total time=  39.5s\n",
      "[CV] END criterion=entropy, max_depth=39, max_features=log2, min_samples_leaf=1, min_samples_split=45, n_estimators=100; total time=  40.1s\n",
      "[CV] END criterion=entropy, max_depth=39, max_features=log2, min_samples_leaf=1, min_samples_split=45, n_estimators=100; total time=  39.7s\n",
      "[CV] END criterion=entropy, max_depth=39, max_features=log2, min_samples_leaf=1, min_samples_split=45, n_estimators=100; total time=  40.4s\n",
      "[CV] END criterion=gini, max_depth=117, max_features=auto, min_samples_leaf=17, min_samples_split=89, n_estimators=505; total time= 2.7min\n",
      "[CV] END criterion=entropy, max_depth=39, max_features=log2, min_samples_leaf=1, min_samples_split=45, n_estimators=100; total time=  38.2s\n",
      "[CV] END criterion=entropy, max_depth=97, max_features=sqrt, min_samples_leaf=50, min_samples_split=12, n_estimators=133; total time= 1.0min\n",
      "[CV] END criterion=gini, max_depth=117, max_features=auto, min_samples_leaf=17, min_samples_split=89, n_estimators=505; total time= 2.5min\n",
      "[CV] END criterion=entropy, max_depth=97, max_features=sqrt, min_samples_leaf=50, min_samples_split=12, n_estimators=133; total time= 1.0min\n",
      "[CV] END criterion=entropy, max_depth=97, max_features=sqrt, min_samples_leaf=50, min_samples_split=12, n_estimators=133; total time= 1.0min\n",
      "[CV] END criterion=entropy, max_depth=97, max_features=sqrt, min_samples_leaf=50, min_samples_split=12, n_estimators=133; total time= 1.0min\n",
      "[CV] END criterion=entropy, max_depth=97, max_features=sqrt, min_samples_leaf=50, min_samples_split=12, n_estimators=133; total time=  59.9s\n",
      "[CV] END criterion=entropy, max_depth=92, max_features=sqrt, min_samples_leaf=6, min_samples_split=34, n_estimators=266; total time= 2.7min\n",
      "[CV] END criterion=entropy, max_depth=92, max_features=sqrt, min_samples_leaf=6, min_samples_split=34, n_estimators=266; total time= 2.7min\n",
      "[CV] END criterion=entropy, max_depth=92, max_features=sqrt, min_samples_leaf=6, min_samples_split=34, n_estimators=266; total time= 2.7min\n",
      "[CV] END criterion=entropy, max_depth=92, max_features=sqrt, min_samples_leaf=6, min_samples_split=34, n_estimators=266; total time= 2.7min\n",
      "[CV] END criterion=entropy, max_depth=92, max_features=sqrt, min_samples_leaf=6, min_samples_split=34, n_estimators=266; total time= 2.6min\n",
      "[CV] END criterion=entropy, max_depth=97, max_features=sqrt, min_samples_leaf=11, min_samples_split=45, n_estimators=311; total time= 2.9min\n",
      "[CV] END criterion=entropy, max_depth=97, max_features=sqrt, min_samples_leaf=11, min_samples_split=45, n_estimators=311; total time= 2.9min\n",
      "[CV] END criterion=entropy, max_depth=97, max_features=sqrt, min_samples_leaf=11, min_samples_split=45, n_estimators=311; total time= 3.0min\n",
      "[CV] END criterion=gini, max_depth=84, max_features=auto, min_samples_leaf=1, min_samples_split=100, n_estimators=283; total time= 1.7min\n",
      "[CV] END criterion=gini, max_depth=84, max_features=auto, min_samples_leaf=1, min_samples_split=100, n_estimators=283; total time= 1.7min\n",
      "[CV] END criterion=entropy, max_depth=97, max_features=sqrt, min_samples_leaf=11, min_samples_split=45, n_estimators=311; total time= 3.0min\n",
      "[CV] END criterion=entropy, max_depth=97, max_features=sqrt, min_samples_leaf=11, min_samples_split=45, n_estimators=311; total time= 2.9min\n",
      "[CV] END criterion=gini, max_depth=84, max_features=auto, min_samples_leaf=1, min_samples_split=100, n_estimators=283; total time= 1.7min\n",
      "[CV] END criterion=gini, max_depth=84, max_features=auto, min_samples_leaf=1, min_samples_split=100, n_estimators=283; total time= 1.7min\n",
      "[CV] END criterion=gini, max_depth=84, max_features=auto, min_samples_leaf=1, min_samples_split=100, n_estimators=283; total time= 1.7min\n",
      "[CV] END criterion=entropy, max_depth=72, max_features=auto, min_samples_leaf=1, min_samples_split=2, n_estimators=211; total time= 2.4min\n",
      "[CV] END criterion=entropy, max_depth=72, max_features=auto, min_samples_leaf=1, min_samples_split=2, n_estimators=211; total time= 2.5min\n",
      "[CV] END criterion=entropy, max_depth=72, max_features=auto, min_samples_leaf=1, min_samples_split=2, n_estimators=211; total time= 2.5min\n",
      "[CV] END criterion=entropy, max_depth=72, max_features=auto, min_samples_leaf=1, min_samples_split=2, n_estimators=211; total time= 2.4min\n",
      "[CV] END criterion=entropy, max_depth=29, max_features=auto, min_samples_leaf=28, min_samples_split=78, n_estimators=100; total time=  50.4s\n",
      "[CV] END criterion=entropy, max_depth=29, max_features=auto, min_samples_leaf=28, min_samples_split=78, n_estimators=100; total time=  51.2s\n",
      "[CV] END criterion=entropy, max_depth=29, max_features=auto, min_samples_leaf=28, min_samples_split=78, n_estimators=100; total time=  51.6s\n",
      "[CV] END criterion=entropy, max_depth=72, max_features=auto, min_samples_leaf=1, min_samples_split=2, n_estimators=211; total time= 2.3min\n",
      "[CV] END criterion=entropy, max_depth=29, max_features=auto, min_samples_leaf=28, min_samples_split=78, n_estimators=100; total time=  50.1s\n",
      "[CV] END criterion=entropy, max_depth=29, max_features=auto, min_samples_leaf=28, min_samples_split=78, n_estimators=100; total time=  48.5s\n",
      "[CV] END criterion=gini, max_depth=21, max_features=log2, min_samples_leaf=22, min_samples_split=67, n_estimators=350; total time= 1.2min\n",
      "[CV] END criterion=gini, max_depth=21, max_features=log2, min_samples_leaf=22, min_samples_split=67, n_estimators=350; total time= 1.2min\n",
      "[CV] END criterion=gini, max_depth=21, max_features=log2, min_samples_leaf=22, min_samples_split=67, n_estimators=350; total time= 1.2min\n",
      "[CV] END criterion=gini, max_depth=21, max_features=log2, min_samples_leaf=22, min_samples_split=67, n_estimators=350; total time= 1.2min\n",
      "[CV] END criterion=gini, max_depth=21, max_features=log2, min_samples_leaf=22, min_samples_split=67, n_estimators=350; total time= 1.2min\n",
      "[CV] END criterion=entropy, max_depth=110, max_features=sqrt, min_samples_leaf=39, min_samples_split=56, n_estimators=500; total time= 3.9min\n",
      "[CV] END criterion=entropy, max_depth=110, max_features=sqrt, min_samples_leaf=39, min_samples_split=56, n_estimators=500; total time= 4.0min\n",
      "[CV] END criterion=entropy, max_depth=110, max_features=sqrt, min_samples_leaf=39, min_samples_split=56, n_estimators=500; total time= 4.0min\n",
      "[CV] END criterion=entropy, max_depth=110, max_features=sqrt, min_samples_leaf=39, min_samples_split=56, n_estimators=500; total time= 4.0min\n",
      "[CV] END criterion=gini, max_depth=104, max_features=auto, min_samples_leaf=22, min_samples_split=34, n_estimators=350; total time= 1.9min\n",
      "[CV] END criterion=gini, max_depth=104, max_features=auto, min_samples_leaf=22, min_samples_split=34, n_estimators=350; total time= 1.9min\n",
      "[CV] END criterion=gini, max_depth=104, max_features=auto, min_samples_leaf=22, min_samples_split=34, n_estimators=350; total time= 1.9min\n",
      "[CV] END criterion=entropy, max_depth=110, max_features=sqrt, min_samples_leaf=39, min_samples_split=56, n_estimators=500; total time= 3.9min\n",
      "[CV] END criterion=gini, max_depth=104, max_features=auto, min_samples_leaf=22, min_samples_split=34, n_estimators=350; total time= 1.9min\n",
      "[CV] END criterion=gini, max_depth=104, max_features=auto, min_samples_leaf=22, min_samples_split=34, n_estimators=350; total time= 1.9min\n",
      "[CV] END criterion=gini, max_depth=123, max_features=sqrt, min_samples_leaf=33, min_samples_split=12, n_estimators=505; total time= 2.5min\n",
      "[CV] END criterion=gini, max_depth=123, max_features=sqrt, min_samples_leaf=33, min_samples_split=12, n_estimators=505; total time= 2.5min\n",
      "[CV] END criterion=gini, max_depth=123, max_features=sqrt, min_samples_leaf=33, min_samples_split=12, n_estimators=505; total time= 2.6min\n",
      "[CV] END criterion=gini, max_depth=123, max_features=sqrt, min_samples_leaf=33, min_samples_split=12, n_estimators=505; total time= 2.5min\n",
      "[CV] END criterion=gini, max_depth=123, max_features=sqrt, min_samples_leaf=33, min_samples_split=12, n_estimators=505; total time= 2.5min\n",
      "[CV] END criterion=entropy, max_depth=37, max_features=log2, min_samples_leaf=22, min_samples_split=67, n_estimators=466; total time= 2.6min\n",
      "[CV] END criterion=entropy, max_depth=37, max_features=log2, min_samples_leaf=22, min_samples_split=67, n_estimators=466; total time= 2.6min\n",
      "[CV] END criterion=entropy, max_depth=37, max_features=log2, min_samples_leaf=22, min_samples_split=67, n_estimators=466; total time= 2.6min\n",
      "[CV] END criterion=entropy, max_depth=37, max_features=log2, min_samples_leaf=22, min_samples_split=67, n_estimators=466; total time= 2.6min\n",
      "[CV] END criterion=entropy, max_depth=37, max_features=log2, min_samples_leaf=22, min_samples_split=67, n_estimators=466; total time= 2.6min\n",
      "[CV] END criterion=gini, max_depth=134, max_features=sqrt, min_samples_leaf=11, min_samples_split=100, n_estimators=555; total time= 3.0min\n",
      "[CV] END criterion=gini, max_depth=134, max_features=sqrt, min_samples_leaf=11, min_samples_split=100, n_estimators=555; total time= 3.0min\n",
      "[CV] END criterion=gini, max_depth=134, max_features=sqrt, min_samples_leaf=11, min_samples_split=100, n_estimators=555; total time= 3.1min\n",
      "[CV] END criterion=gini, max_depth=123, max_features=log2, min_samples_leaf=44, min_samples_split=34, n_estimators=538; total time= 1.8min\n",
      "[CV] END criterion=gini, max_depth=134, max_features=sqrt, min_samples_leaf=11, min_samples_split=100, n_estimators=555; total time= 3.1min\n",
      "[CV] END criterion=gini, max_depth=134, max_features=sqrt, min_samples_leaf=11, min_samples_split=100, n_estimators=555; total time= 3.0min\n",
      "[CV] END criterion=gini, max_depth=123, max_features=log2, min_samples_leaf=44, min_samples_split=34, n_estimators=538; total time= 1.7min\n",
      "[CV] END criterion=gini, max_depth=123, max_features=log2, min_samples_leaf=44, min_samples_split=34, n_estimators=538; total time= 1.8min\n",
      "[CV] END criterion=gini, max_depth=123, max_features=log2, min_samples_leaf=44, min_samples_split=34, n_estimators=538; total time= 1.7min\n",
      "[CV] END criterion=gini, max_depth=123, max_features=log2, min_samples_leaf=44, min_samples_split=34, n_estimators=538; total time= 1.7min\n",
      "[CV] END criterion=gini, max_depth=41, max_features=sqrt, min_samples_leaf=44, min_samples_split=12, n_estimators=483; total time= 2.4min\n",
      "[CV] END criterion=gini, max_depth=41, max_features=sqrt, min_samples_leaf=44, min_samples_split=12, n_estimators=483; total time= 2.4min\n",
      "[CV] END criterion=gini, max_depth=41, max_features=sqrt, min_samples_leaf=44, min_samples_split=12, n_estimators=483; total time= 2.4min\n",
      "[CV] END criterion=gini, max_depth=134, max_features=log2, min_samples_leaf=17, min_samples_split=2, n_estimators=305; total time= 1.1min\n",
      "[CV] END criterion=gini, max_depth=41, max_features=sqrt, min_samples_leaf=44, min_samples_split=12, n_estimators=483; total time= 2.3min\n",
      "[CV] END criterion=gini, max_depth=134, max_features=log2, min_samples_leaf=17, min_samples_split=2, n_estimators=305; total time= 1.1min\n",
      "[CV] END criterion=gini, max_depth=41, max_features=sqrt, min_samples_leaf=44, min_samples_split=12, n_estimators=483; total time= 2.3min\n",
      "[CV] END criterion=gini, max_depth=134, max_features=log2, min_samples_leaf=17, min_samples_split=2, n_estimators=305; total time= 1.2min\n",
      "[CV] END criterion=gini, max_depth=134, max_features=log2, min_samples_leaf=17, min_samples_split=2, n_estimators=305; total time= 1.2min\n",
      "[CV] END criterion=gini, max_depth=134, max_features=log2, min_samples_leaf=17, min_samples_split=2, n_estimators=305; total time= 1.1min\n",
      "[CV] END criterion=gini, max_depth=131, max_features=auto, min_samples_leaf=33, min_samples_split=67, n_estimators=294; total time= 1.6min\n",
      "[CV] END criterion=gini, max_depth=131, max_features=auto, min_samples_leaf=33, min_samples_split=67, n_estimators=294; total time= 1.5min\n",
      "[CV] END criterion=gini, max_depth=131, max_features=auto, min_samples_leaf=33, min_samples_split=67, n_estimators=294; total time= 1.6min\n",
      "[CV] END criterion=gini, max_depth=131, max_features=auto, min_samples_leaf=33, min_samples_split=67, n_estimators=294; total time= 1.5min\n",
      "[CV] END criterion=gini, max_depth=131, max_features=auto, min_samples_leaf=33, min_samples_split=67, n_estimators=294; total time= 1.5min\n",
      "[CV] END criterion=entropy, max_depth=126, max_features=auto, min_samples_leaf=50, min_samples_split=78, n_estimators=161; total time= 1.2min\n",
      "[CV] END criterion=entropy, max_depth=126, max_features=auto, min_samples_leaf=50, min_samples_split=78, n_estimators=161; total time= 1.2min\n",
      "[CV] END criterion=entropy, max_depth=126, max_features=auto, min_samples_leaf=50, min_samples_split=78, n_estimators=161; total time= 1.3min\n",
      "[CV] END criterion=gini, max_depth=130, max_features=log2, min_samples_leaf=1, min_samples_split=45, n_estimators=83; total time=  22.2s\n",
      "[CV] END criterion=gini, max_depth=130, max_features=log2, min_samples_leaf=1, min_samples_split=45, n_estimators=83; total time=  21.4s\n",
      "[CV] END criterion=gini, max_depth=130, max_features=log2, min_samples_leaf=1, min_samples_split=45, n_estimators=83; total time=  22.3s\n",
      "[CV] END criterion=gini, max_depth=130, max_features=log2, min_samples_leaf=1, min_samples_split=45, n_estimators=83; total time=  21.5s\n",
      "[CV] END criterion=entropy, max_depth=126, max_features=auto, min_samples_leaf=50, min_samples_split=78, n_estimators=161; total time= 1.2min\n",
      "[CV] END criterion=gini, max_depth=130, max_features=log2, min_samples_leaf=1, min_samples_split=45, n_estimators=83; total time=  20.9s\n",
      "[CV] END criterion=entropy, max_depth=126, max_features=auto, min_samples_leaf=50, min_samples_split=78, n_estimators=161; total time= 1.2min\n",
      "[CV] END criterion=entropy, max_depth=34, max_features=log2, min_samples_leaf=33, min_samples_split=67, n_estimators=405; total time= 2.2min\n",
      "[CV] END criterion=entropy, max_depth=34, max_features=log2, min_samples_leaf=33, min_samples_split=67, n_estimators=405; total time= 2.2min\n",
      "[CV] END criterion=entropy, max_depth=34, max_features=log2, min_samples_leaf=33, min_samples_split=67, n_estimators=405; total time= 2.2min\n",
      "[CV] END criterion=entropy, max_depth=34, max_features=log2, min_samples_leaf=33, min_samples_split=67, n_estimators=405; total time= 2.2min\n",
      "[CV] END criterion=entropy, max_depth=33, max_features=log2, min_samples_leaf=28, min_samples_split=67, n_estimators=377; total time= 2.0min\n",
      "[CV] END criterion=entropy, max_depth=34, max_features=log2, min_samples_leaf=33, min_samples_split=67, n_estimators=405; total time= 2.1min\n",
      "[CV] END criterion=entropy, max_depth=33, max_features=log2, min_samples_leaf=28, min_samples_split=67, n_estimators=377; total time= 2.1min\n",
      "[CV] END criterion=entropy, max_depth=33, max_features=log2, min_samples_leaf=28, min_samples_split=67, n_estimators=377; total time= 2.1min\n",
      "[CV] END criterion=entropy, max_depth=33, max_features=log2, min_samples_leaf=28, min_samples_split=67, n_estimators=377; total time= 2.0min\n",
      "[CV] END criterion=entropy, max_depth=33, max_features=log2, min_samples_leaf=28, min_samples_split=34, n_estimators=366; total time= 2.0min\n",
      "[CV] END criterion=entropy, max_depth=33, max_features=log2, min_samples_leaf=28, min_samples_split=67, n_estimators=377; total time= 2.1min\n",
      "[CV] END criterion=entropy, max_depth=33, max_features=log2, min_samples_leaf=28, min_samples_split=34, n_estimators=366; total time= 2.0min\n",
      "[CV] END criterion=gini, max_depth=140, max_features=auto, min_samples_leaf=28, min_samples_split=56, n_estimators=122; total time=  39.3s\n",
      "[CV] END criterion=gini, max_depth=140, max_features=auto, min_samples_leaf=28, min_samples_split=56, n_estimators=122; total time=  39.1s\n",
      "[CV] END criterion=entropy, max_depth=33, max_features=log2, min_samples_leaf=28, min_samples_split=34, n_estimators=366; total time= 2.0min\n",
      "[CV] END criterion=entropy, max_depth=33, max_features=log2, min_samples_leaf=28, min_samples_split=34, n_estimators=366; total time= 2.1min\n",
      "[CV] END criterion=entropy, max_depth=33, max_features=log2, min_samples_leaf=28, min_samples_split=34, n_estimators=366; total time= 2.1min\n",
      "[CV] END criterion=gini, max_depth=140, max_features=auto, min_samples_leaf=28, min_samples_split=56, n_estimators=122; total time=  41.1s\n",
      "[CV] END criterion=gini, max_depth=140, max_features=auto, min_samples_leaf=28, min_samples_split=56, n_estimators=122; total time=  24.3s\n",
      "[CV] END criterion=gini, max_depth=140, max_features=auto, min_samples_leaf=28, min_samples_split=56, n_estimators=122; total time=  23.8s\n"
     ]
    },
    {
     "data": {
      "text/plain": [
       "RandomizedSearchCV(estimator=RandomForestClassifier(n_jobs=-1, random_state=42),\n",
       "                   n_iter=50, n_jobs=-1,\n",
       "                   param_distributions={'criterion': ['gini', 'entropy'],\n",
       "                                        'max_depth': [None, 20, 21, 22, 23, 25,\n",
       "                                                      26, 27, 29, 30, 31, 33,\n",
       "                                                      34, 35, 37, 38, 39, 41,\n",
       "                                                      42, 43, 44, 46, 47, 48,\n",
       "                                                      50, 51, 52, 54, 55, 56, ...],\n",
       "                                        'max_features': ['auto', 'sqrt',\n",
       "                                                         'log2'],\n",
       "                                        'min_samples_leaf': array([ 1,  6, 11, 17, 22, 28, 33, 39, 44,...\n",
       "       338, 344, 350, 355, 361, 366, 372, 377, 383, 388, 394, 400, 405,\n",
       "       411, 416, 422, 427, 433, 438, 444, 450, 455, 461, 466, 472, 477,\n",
       "       483, 488, 494, 500, 505, 511, 516, 522, 527, 533, 538, 544, 550,\n",
       "       555, 561, 566, 572, 577, 583, 588, 594, 600])},\n",
       "                   random_state=42, refit=False,\n",
       "                   scoring={'accuracy': make_scorer(accuracy_score),\n",
       "                            'f1': make_scorer(f1_score, average=micro),\n",
       "                            'precision': make_scorer(precision_score, average=micro)},\n",
       "                   verbose=2)"
      ]
     },
     "execution_count": 36,
     "metadata": {},
     "output_type": "execute_result"
    }
   ],
   "source": [
    "model_forest = RandomForestClassifier(n_jobs=-1, random_state=42)\n",
    "\n",
    "params = {\n",
    "    \"n_estimators\": np.linspace(50, 600, 100, dtype=int),\n",
    "    \"criterion\": [\"gini\", \"entropy\"],\n",
    "    \"max_depth\": [None, *np.linspace(20, 150, 100, dtype=int)],\n",
    "    \"min_samples_split\": np.linspace(2, 100, 10, dtype=int),\n",
    "    \"min_samples_leaf\": np.linspace(1, 50, 10, dtype=int),\n",
    "    \"max_features\": [\"auto\", \"sqrt\", \"log2\"],\n",
    "}\n",
    "\n",
    "scorers = {\n",
    "    \"accuracy\": make_scorer(accuracy_score),\n",
    "    \"precision\": make_scorer(precision_score, average=\"micro\"),\n",
    "    \"f1\": make_scorer(f1_score, average=\"micro\")\n",
    "}\n",
    "\n",
    "clf_forest = RandomizedSearchCV(model_forest, params, refit=False, random_state=42, n_jobs=-1, verbose=2, n_iter=50, scoring=scorers)\n",
    "clf_forest.fit(X, y)"
   ]
  },
  {
   "cell_type": "code",
   "execution_count": 37,
   "metadata": {},
   "outputs": [],
   "source": [
    "pd.DataFrame(clf_forest.cv_results_).to_csv(\"forest_results.csv\")"
   ]
  },
  {
   "cell_type": "code",
   "execution_count": 40,
   "metadata": {},
   "outputs": [
    {
     "name": "stdout",
     "output_type": "stream",
     "text": [
      "Fitting 5 folds for each of 50 candidates, totalling 250 fits\n",
      "[CV] END criterion=gini, max_depth=92, max_features=sqrt, min_samples_leaf=11, min_samples_split=78, n_estimators=288; total time=  25.4s\n",
      "[CV] END criterion=gini, max_depth=92, max_features=sqrt, min_samples_leaf=11, min_samples_split=78, n_estimators=288; total time=  25.6s\n",
      "[CV] END criterion=gini, max_depth=92, max_features=sqrt, min_samples_leaf=11, min_samples_split=78, n_estimators=288; total time=  25.7s\n",
      "[CV] END criterion=gini, max_depth=92, max_features=sqrt, min_samples_leaf=11, min_samples_split=78, n_estimators=288; total time=  25.8s\n",
      "[CV] END criterion=gini, max_depth=92, max_features=sqrt, min_samples_leaf=11, min_samples_split=78, n_estimators=288; total time=  24.0s\n",
      "[CV] END criterion=entropy, max_depth=73, max_features=sqrt, min_samples_leaf=22, min_samples_split=56, n_estimators=450; total time=  37.2s\n",
      "[CV] END criterion=entropy, max_depth=73, max_features=sqrt, min_samples_leaf=22, min_samples_split=56, n_estimators=450; total time=  37.5s\n",
      "[CV] END criterion=entropy, max_depth=73, max_features=sqrt, min_samples_leaf=22, min_samples_split=56, n_estimators=450; total time=  37.8s\n",
      "[CV] END criterion=entropy, max_depth=73, max_features=sqrt, min_samples_leaf=22, min_samples_split=56, n_estimators=450; total time=  35.3s\n",
      "[CV] END criterion=entropy, max_depth=73, max_features=sqrt, min_samples_leaf=22, min_samples_split=56, n_estimators=450; total time=  34.6s\n",
      "[CV] END criterion=entropy, max_depth=101, max_features=auto, min_samples_leaf=33, min_samples_split=45, n_estimators=516; total time=  37.3s\n",
      "[CV] END criterion=entropy, max_depth=101, max_features=auto, min_samples_leaf=33, min_samples_split=45, n_estimators=516; total time=  39.4s\n",
      "[CV] END criterion=entropy, max_depth=101, max_features=auto, min_samples_leaf=33, min_samples_split=45, n_estimators=516; total time=  37.9s\n",
      "[CV] END criterion=entropy, max_depth=101, max_features=auto, min_samples_leaf=33, min_samples_split=45, n_estimators=516; total time=  36.4s\n",
      "[CV] END criterion=entropy, max_depth=101, max_features=auto, min_samples_leaf=33, min_samples_split=45, n_estimators=516; total time=  38.0s\n",
      "[CV] END criterion=gini, max_depth=115, max_features=sqrt, min_samples_leaf=22, min_samples_split=45, n_estimators=544; total time=  41.5s\n",
      "[CV] END criterion=gini, max_depth=115, max_features=sqrt, min_samples_leaf=22, min_samples_split=45, n_estimators=544; total time=  43.7s\n",
      "[CV] END criterion=gini, max_depth=115, max_features=sqrt, min_samples_leaf=22, min_samples_split=45, n_estimators=544; total time=  44.2s\n",
      "[CV] END criterion=gini, max_depth=115, max_features=sqrt, min_samples_leaf=22, min_samples_split=45, n_estimators=544; total time=  46.3s\n",
      "[CV] END criterion=gini, max_depth=115, max_features=sqrt, min_samples_leaf=22, min_samples_split=45, n_estimators=544; total time=  42.1s\n",
      "[CV] END criterion=gini, max_depth=86, max_features=sqrt, min_samples_leaf=1, min_samples_split=2, n_estimators=83; total time=  25.9s\n",
      "[CV] END criterion=gini, max_depth=86, max_features=sqrt, min_samples_leaf=1, min_samples_split=2, n_estimators=83; total time=  16.2s\n",
      "[CV] END criterion=gini, max_depth=86, max_features=sqrt, min_samples_leaf=1, min_samples_split=2, n_estimators=83; total time=  12.7s\n",
      "[CV] END criterion=gini, max_depth=86, max_features=sqrt, min_samples_leaf=1, min_samples_split=2, n_estimators=83; total time=  16.5s\n",
      "[CV] END criterion=gini, max_depth=86, max_features=sqrt, min_samples_leaf=1, min_samples_split=2, n_estimators=83; total time=  11.6s\n",
      "[CV] END criterion=gini, max_depth=67, max_features=log2, min_samples_leaf=33, min_samples_split=2, n_estimators=461; total time=  25.7s\n",
      "[CV] END criterion=gini, max_depth=67, max_features=log2, min_samples_leaf=33, min_samples_split=2, n_estimators=461; total time=  24.2s\n",
      "[CV] END criterion=gini, max_depth=67, max_features=log2, min_samples_leaf=33, min_samples_split=2, n_estimators=461; total time=  24.8s\n",
      "[CV] END criterion=gini, max_depth=67, max_features=log2, min_samples_leaf=33, min_samples_split=2, n_estimators=461; total time=  24.7s\n",
      "[CV] END criterion=gini, max_depth=67, max_features=log2, min_samples_leaf=33, min_samples_split=2, n_estimators=461; total time=  22.9s\n",
      "[CV] END criterion=entropy, max_depth=62, max_features=log2, min_samples_leaf=22, min_samples_split=89, n_estimators=533; total time=  27.8s\n",
      "[CV] END criterion=entropy, max_depth=62, max_features=log2, min_samples_leaf=22, min_samples_split=89, n_estimators=533; total time=  27.8s\n",
      "[CV] END criterion=entropy, max_depth=62, max_features=log2, min_samples_leaf=22, min_samples_split=89, n_estimators=533; total time=  27.3s\n",
      "[CV] END criterion=gini, max_depth=72, max_features=auto, min_samples_leaf=50, min_samples_split=100, n_estimators=111; total time=   7.6s\n",
      "[CV] END criterion=gini, max_depth=72, max_features=auto, min_samples_leaf=50, min_samples_split=100, n_estimators=111; total time=   7.9s\n",
      "[CV] END criterion=entropy, max_depth=62, max_features=log2, min_samples_leaf=22, min_samples_split=89, n_estimators=533; total time=  26.9s\n",
      "[CV] END criterion=gini, max_depth=72, max_features=auto, min_samples_leaf=50, min_samples_split=100, n_estimators=111; total time=   6.8s\n",
      "[CV] END criterion=gini, max_depth=72, max_features=auto, min_samples_leaf=50, min_samples_split=100, n_estimators=111; total time=   7.3s\n",
      "[CV] END criterion=entropy, max_depth=62, max_features=log2, min_samples_leaf=22, min_samples_split=89, n_estimators=533; total time=  25.5s\n",
      "[CV] END criterion=gini, max_depth=72, max_features=auto, min_samples_leaf=50, min_samples_split=100, n_estimators=111; total time=   6.7s\n",
      "[CV] END criterion=entropy, max_depth=81, max_features=auto, min_samples_leaf=11, min_samples_split=45, n_estimators=444; total time=  38.4s\n",
      "[CV] END criterion=entropy, max_depth=81, max_features=auto, min_samples_leaf=11, min_samples_split=45, n_estimators=444; total time=  39.5s\n",
      "[CV] END criterion=entropy, max_depth=81, max_features=auto, min_samples_leaf=11, min_samples_split=45, n_estimators=444; total time=  38.7s\n",
      "[CV] END criterion=entropy, max_depth=81, max_features=auto, min_samples_leaf=11, min_samples_split=45, n_estimators=444; total time=  38.4s\n",
      "[CV] END criterion=gini, max_depth=111, max_features=auto, min_samples_leaf=44, min_samples_split=23, n_estimators=283; total time=  19.3s\n",
      "[CV] END criterion=gini, max_depth=111, max_features=auto, min_samples_leaf=44, min_samples_split=23, n_estimators=283; total time=  19.2s\n",
      "[CV] END criterion=gini, max_depth=111, max_features=auto, min_samples_leaf=44, min_samples_split=23, n_estimators=283; total time=  19.5s\n",
      "[CV] END criterion=entropy, max_depth=81, max_features=auto, min_samples_leaf=11, min_samples_split=45, n_estimators=444; total time=  35.1s\n",
      "[CV] END criterion=gini, max_depth=111, max_features=auto, min_samples_leaf=44, min_samples_split=23, n_estimators=283; total time=  18.4s\n",
      "[CV] END criterion=gini, max_depth=111, max_features=auto, min_samples_leaf=44, min_samples_split=23, n_estimators=283; total time=  17.8s\n",
      "[CV] END criterion=entropy, max_depth=83, max_features=log2, min_samples_leaf=17, min_samples_split=67, n_estimators=433; total time=  23.0s\n",
      "[CV] END criterion=entropy, max_depth=83, max_features=log2, min_samples_leaf=17, min_samples_split=67, n_estimators=433; total time=  22.1s\n",
      "[CV] END criterion=entropy, max_depth=83, max_features=log2, min_samples_leaf=17, min_samples_split=67, n_estimators=433; total time=  22.5s\n",
      "[CV] END criterion=entropy, max_depth=104, max_features=auto, min_samples_leaf=6, min_samples_split=56, n_estimators=77; total time=   6.6s\n",
      "[CV] END criterion=entropy, max_depth=83, max_features=log2, min_samples_leaf=17, min_samples_split=67, n_estimators=433; total time=  22.9s\n",
      "[CV] END criterion=entropy, max_depth=104, max_features=auto, min_samples_leaf=6, min_samples_split=56, n_estimators=77; total time=   6.9s\n",
      "[CV] END criterion=entropy, max_depth=104, max_features=auto, min_samples_leaf=6, min_samples_split=56, n_estimators=77; total time=   6.5s\n",
      "[CV] END criterion=entropy, max_depth=83, max_features=log2, min_samples_leaf=17, min_samples_split=67, n_estimators=433; total time=  22.2s\n",
      "[CV] END criterion=entropy, max_depth=104, max_features=auto, min_samples_leaf=6, min_samples_split=56, n_estimators=77; total time=   6.1s\n",
      "[CV] END criterion=entropy, max_depth=104, max_features=auto, min_samples_leaf=6, min_samples_split=56, n_estimators=77; total time=   6.0s\n",
      "[CV] END criterion=entropy, max_depth=128, max_features=sqrt, min_samples_leaf=22, min_samples_split=78, n_estimators=377; total time=  26.1s\n",
      "[CV] END criterion=entropy, max_depth=128, max_features=sqrt, min_samples_leaf=22, min_samples_split=78, n_estimators=377; total time=  26.4s\n",
      "[CV] END criterion=entropy, max_depth=128, max_features=sqrt, min_samples_leaf=22, min_samples_split=78, n_estimators=377; total time=  27.0s\n",
      "[CV] END criterion=entropy, max_depth=128, max_features=sqrt, min_samples_leaf=22, min_samples_split=78, n_estimators=377; total time=  26.9s\n",
      "[CV] END criterion=entropy, max_depth=128, max_features=sqrt, min_samples_leaf=22, min_samples_split=78, n_estimators=377; total time=  27.0s\n",
      "[CV] END criterion=gini, max_depth=94, max_features=log2, min_samples_leaf=33, min_samples_split=89, n_estimators=555; total time=  26.9s\n",
      "[CV] END criterion=gini, max_depth=94, max_features=log2, min_samples_leaf=33, min_samples_split=89, n_estimators=555; total time=  27.0s\n",
      "[CV] END criterion=gini, max_depth=94, max_features=log2, min_samples_leaf=33, min_samples_split=89, n_estimators=555; total time=  26.8s\n",
      "[CV] END criterion=gini, max_depth=94, max_features=log2, min_samples_leaf=33, min_samples_split=89, n_estimators=555; total time=  26.6s\n",
      "[CV] END criterion=gini, max_depth=94, max_features=log2, min_samples_leaf=33, min_samples_split=89, n_estimators=555; total time=  27.1s\n",
      "[CV] END criterion=entropy, max_depth=83, max_features=log2, min_samples_leaf=6, min_samples_split=34, n_estimators=455; total time=  29.9s\n",
      "[CV] END criterion=entropy, max_depth=83, max_features=log2, min_samples_leaf=6, min_samples_split=34, n_estimators=455; total time=  31.4s\n",
      "[CV] END criterion=entropy, max_depth=83, max_features=log2, min_samples_leaf=6, min_samples_split=34, n_estimators=455; total time=  31.3s\n",
      "[CV] END criterion=entropy, max_depth=83, max_features=log2, min_samples_leaf=6, min_samples_split=34, n_estimators=455; total time=  31.4s\n",
      "[CV] END criterion=entropy, max_depth=83, max_features=log2, min_samples_leaf=6, min_samples_split=34, n_estimators=455; total time=  31.6s\n",
      "[CV] END criterion=entropy, max_depth=148, max_features=sqrt, min_samples_leaf=50, min_samples_split=89, n_estimators=477; total time=  32.8s\n",
      "[CV] END criterion=entropy, max_depth=148, max_features=sqrt, min_samples_leaf=50, min_samples_split=89, n_estimators=477; total time=  31.7s\n",
      "[CV] END criterion=entropy, max_depth=148, max_features=sqrt, min_samples_leaf=50, min_samples_split=89, n_estimators=477; total time=  31.1s\n",
      "[CV] END criterion=entropy, max_depth=148, max_features=sqrt, min_samples_leaf=50, min_samples_split=89, n_estimators=477; total time=  30.7s\n",
      "[CV] END criterion=entropy, max_depth=148, max_features=sqrt, min_samples_leaf=50, min_samples_split=89, n_estimators=477; total time=  31.6s\n",
      "[CV] END criterion=entropy, max_depth=31, max_features=sqrt, min_samples_leaf=22, min_samples_split=78, n_estimators=433; total time=  31.6s\n",
      "[CV] END criterion=entropy, max_depth=31, max_features=sqrt, min_samples_leaf=22, min_samples_split=78, n_estimators=433; total time=  32.3s\n",
      "[CV] END criterion=entropy, max_depth=31, max_features=sqrt, min_samples_leaf=22, min_samples_split=78, n_estimators=433; total time=  32.4s\n",
      "[CV] END criterion=entropy, max_depth=31, max_features=sqrt, min_samples_leaf=22, min_samples_split=78, n_estimators=433; total time=  33.2s\n",
      "[CV] END criterion=gini, max_depth=52, max_features=sqrt, min_samples_leaf=6, min_samples_split=78, n_estimators=288; total time=  23.1s\n",
      "[CV] END criterion=gini, max_depth=52, max_features=sqrt, min_samples_leaf=6, min_samples_split=78, n_estimators=288; total time=  23.7s\n",
      "[CV] END criterion=entropy, max_depth=31, max_features=sqrt, min_samples_leaf=22, min_samples_split=78, n_estimators=433; total time=  30.6s\n",
      "[CV] END criterion=gini, max_depth=52, max_features=sqrt, min_samples_leaf=6, min_samples_split=78, n_estimators=288; total time=  23.1s\n",
      "[CV] END criterion=gini, max_depth=52, max_features=sqrt, min_samples_leaf=6, min_samples_split=78, n_estimators=288; total time=  22.8s\n",
      "[CV] END criterion=gini, max_depth=52, max_features=sqrt, min_samples_leaf=6, min_samples_split=78, n_estimators=288; total time=  22.2s\n",
      "[CV] END criterion=gini, max_depth=22, max_features=sqrt, min_samples_leaf=17, min_samples_split=34, n_estimators=355; total time=  29.9s\n",
      "[CV] END criterion=gini, max_depth=22, max_features=sqrt, min_samples_leaf=17, min_samples_split=34, n_estimators=355; total time=  30.2s\n",
      "[CV] END criterion=gini, max_depth=22, max_features=sqrt, min_samples_leaf=17, min_samples_split=34, n_estimators=355; total time=  29.5s\n",
      "[CV] END criterion=gini, max_depth=22, max_features=sqrt, min_samples_leaf=17, min_samples_split=34, n_estimators=355; total time=  29.4s\n",
      "[CV] END criterion=gini, max_depth=22, max_features=sqrt, min_samples_leaf=17, min_samples_split=34, n_estimators=355; total time=  28.9s\n",
      "[CV] END criterion=gini, max_depth=73, max_features=auto, min_samples_leaf=11, min_samples_split=78, n_estimators=338; total time=  25.8s\n",
      "[CV] END criterion=gini, max_depth=73, max_features=auto, min_samples_leaf=11, min_samples_split=78, n_estimators=338; total time=  25.7s\n",
      "[CV] END criterion=gini, max_depth=73, max_features=auto, min_samples_leaf=11, min_samples_split=78, n_estimators=338; total time=  25.7s\n",
      "[CV] END criterion=gini, max_depth=73, max_features=auto, min_samples_leaf=11, min_samples_split=78, n_estimators=338; total time=  26.0s\n",
      "[CV] END criterion=gini, max_depth=79, max_features=sqrt, min_samples_leaf=33, min_samples_split=2, n_estimators=188; total time=  14.4s\n",
      "[CV] END criterion=gini, max_depth=73, max_features=auto, min_samples_leaf=11, min_samples_split=78, n_estimators=338; total time=  25.2s\n",
      "[CV] END criterion=gini, max_depth=79, max_features=sqrt, min_samples_leaf=33, min_samples_split=2, n_estimators=188; total time=  14.5s\n",
      "[CV] END criterion=gini, max_depth=79, max_features=sqrt, min_samples_leaf=33, min_samples_split=2, n_estimators=188; total time=  14.2s\n",
      "[CV] END criterion=gini, max_depth=79, max_features=sqrt, min_samples_leaf=33, min_samples_split=2, n_estimators=188; total time=  13.6s\n",
      "[CV] END criterion=gini, max_depth=79, max_features=sqrt, min_samples_leaf=33, min_samples_split=2, n_estimators=188; total time=  13.6s\n",
      "[CV] END criterion=entropy, max_depth=132, max_features=log2, min_samples_leaf=22, min_samples_split=78, n_estimators=544; total time=  28.4s\n",
      "[CV] END criterion=entropy, max_depth=132, max_features=log2, min_samples_leaf=22, min_samples_split=78, n_estimators=544; total time=  28.0s\n",
      "[CV] END criterion=entropy, max_depth=132, max_features=log2, min_samples_leaf=22, min_samples_split=78, n_estimators=544; total time=  28.3s\n",
      "[CV] END criterion=entropy, max_depth=132, max_features=log2, min_samples_leaf=22, min_samples_split=78, n_estimators=544; total time=  28.4s\n",
      "[CV] END criterion=entropy, max_depth=111, max_features=log2, min_samples_leaf=17, min_samples_split=78, n_estimators=272; total time=  15.1s\n",
      "[CV] END criterion=entropy, max_depth=111, max_features=log2, min_samples_leaf=17, min_samples_split=78, n_estimators=272; total time=  15.2s\n",
      "[CV] END criterion=entropy, max_depth=111, max_features=log2, min_samples_leaf=17, min_samples_split=78, n_estimators=272; total time=  14.9s\n",
      "[CV] END criterion=entropy, max_depth=132, max_features=log2, min_samples_leaf=22, min_samples_split=78, n_estimators=544; total time=  27.7s\n",
      "[CV] END criterion=entropy, max_depth=111, max_features=log2, min_samples_leaf=17, min_samples_split=78, n_estimators=272; total time=  14.8s\n",
      "[CV] END criterion=entropy, max_depth=111, max_features=log2, min_samples_leaf=17, min_samples_split=78, n_estimators=272; total time=  14.7s\n",
      "[CV] END criterion=gini, max_depth=75, max_features=sqrt, min_samples_leaf=39, min_samples_split=34, n_estimators=444; total time=  31.5s\n",
      "[CV] END criterion=gini, max_depth=75, max_features=sqrt, min_samples_leaf=39, min_samples_split=34, n_estimators=444; total time=  31.6s\n",
      "[CV] END criterion=gini, max_depth=75, max_features=sqrt, min_samples_leaf=39, min_samples_split=34, n_estimators=444; total time=  31.6s\n",
      "[CV] END criterion=gini, max_depth=75, max_features=sqrt, min_samples_leaf=39, min_samples_split=34, n_estimators=444; total time=  31.1s\n",
      "[CV] END criterion=gini, max_depth=58, max_features=sqrt, min_samples_leaf=39, min_samples_split=2, n_estimators=272; total time=  19.7s\n",
      "[CV] END criterion=gini, max_depth=75, max_features=sqrt, min_samples_leaf=39, min_samples_split=34, n_estimators=444; total time=  31.6s\n",
      "[CV] END criterion=gini, max_depth=58, max_features=sqrt, min_samples_leaf=39, min_samples_split=2, n_estimators=272; total time=  20.0s\n",
      "[CV] END criterion=gini, max_depth=58, max_features=sqrt, min_samples_leaf=39, min_samples_split=2, n_estimators=272; total time=  20.1s\n",
      "[CV] END criterion=gini, max_depth=58, max_features=sqrt, min_samples_leaf=39, min_samples_split=2, n_estimators=272; total time=  19.9s\n",
      "[CV] END criterion=gini, max_depth=58, max_features=sqrt, min_samples_leaf=39, min_samples_split=2, n_estimators=272; total time=  19.0s\n",
      "[CV] END criterion=entropy, max_depth=136, max_features=sqrt, min_samples_leaf=17, min_samples_split=2, n_estimators=416; total time=  35.2s\n",
      "[CV] END criterion=entropy, max_depth=136, max_features=sqrt, min_samples_leaf=17, min_samples_split=2, n_estimators=416; total time=  35.3s\n",
      "[CV] END criterion=entropy, max_depth=136, max_features=sqrt, min_samples_leaf=17, min_samples_split=2, n_estimators=416; total time=  35.6s\n",
      "[CV] END criterion=entropy, max_depth=136, max_features=sqrt, min_samples_leaf=17, min_samples_split=2, n_estimators=416; total time=  35.8s\n",
      "[CV] END criterion=entropy, max_depth=136, max_features=sqrt, min_samples_leaf=17, min_samples_split=2, n_estimators=416; total time=  37.1s\n",
      "[CV] END criterion=gini, max_depth=117, max_features=auto, min_samples_leaf=17, min_samples_split=89, n_estimators=505; total time=  39.8s\n",
      "[CV] END criterion=gini, max_depth=117, max_features=auto, min_samples_leaf=17, min_samples_split=89, n_estimators=505; total time=  41.5s\n",
      "[CV] END criterion=entropy, max_depth=39, max_features=log2, min_samples_leaf=1, min_samples_split=45, n_estimators=100; total time=   8.4s\n",
      "[CV] END criterion=gini, max_depth=117, max_features=auto, min_samples_leaf=17, min_samples_split=89, n_estimators=505; total time=  41.2s\n",
      "[CV] END criterion=entropy, max_depth=39, max_features=log2, min_samples_leaf=1, min_samples_split=45, n_estimators=100; total time=   7.8s\n",
      "[CV] END criterion=entropy, max_depth=39, max_features=log2, min_samples_leaf=1, min_samples_split=45, n_estimators=100; total time=   7.7s\n",
      "[CV] END criterion=entropy, max_depth=39, max_features=log2, min_samples_leaf=1, min_samples_split=45, n_estimators=100; total time=   7.5s\n",
      "[CV] END criterion=gini, max_depth=117, max_features=auto, min_samples_leaf=17, min_samples_split=89, n_estimators=505; total time=  38.0s\n",
      "[CV] END criterion=entropy, max_depth=39, max_features=log2, min_samples_leaf=1, min_samples_split=45, n_estimators=100; total time=   7.3s\n",
      "[CV] END criterion=gini, max_depth=117, max_features=auto, min_samples_leaf=17, min_samples_split=89, n_estimators=505; total time=  36.7s\n",
      "[CV] END criterion=entropy, max_depth=97, max_features=sqrt, min_samples_leaf=50, min_samples_split=12, n_estimators=133; total time=   8.9s\n",
      "[CV] END criterion=entropy, max_depth=97, max_features=sqrt, min_samples_leaf=50, min_samples_split=12, n_estimators=133; total time=   9.0s\n",
      "[CV] END criterion=entropy, max_depth=97, max_features=sqrt, min_samples_leaf=50, min_samples_split=12, n_estimators=133; total time=   9.3s\n",
      "[CV] END criterion=entropy, max_depth=97, max_features=sqrt, min_samples_leaf=50, min_samples_split=12, n_estimators=133; total time=   9.1s\n",
      "[CV] END criterion=entropy, max_depth=97, max_features=sqrt, min_samples_leaf=50, min_samples_split=12, n_estimators=133; total time=   8.7s\n",
      "[CV] END criterion=entropy, max_depth=92, max_features=sqrt, min_samples_leaf=6, min_samples_split=34, n_estimators=266; total time=  24.9s\n",
      "[CV] END criterion=entropy, max_depth=92, max_features=sqrt, min_samples_leaf=6, min_samples_split=34, n_estimators=266; total time=  25.3s\n",
      "[CV] END criterion=entropy, max_depth=92, max_features=sqrt, min_samples_leaf=6, min_samples_split=34, n_estimators=266; total time=  24.8s\n",
      "[CV] END criterion=entropy, max_depth=92, max_features=sqrt, min_samples_leaf=6, min_samples_split=34, n_estimators=266; total time=  24.4s\n",
      "[CV] END criterion=entropy, max_depth=92, max_features=sqrt, min_samples_leaf=6, min_samples_split=34, n_estimators=266; total time=  24.3s\n",
      "[CV] END criterion=entropy, max_depth=97, max_features=sqrt, min_samples_leaf=11, min_samples_split=45, n_estimators=311; total time=  26.6s\n",
      "[CV] END criterion=entropy, max_depth=97, max_features=sqrt, min_samples_leaf=11, min_samples_split=45, n_estimators=311; total time=  26.2s\n",
      "[CV] END criterion=entropy, max_depth=97, max_features=sqrt, min_samples_leaf=11, min_samples_split=45, n_estimators=311; total time=  26.4s\n",
      "[CV] END criterion=entropy, max_depth=97, max_features=sqrt, min_samples_leaf=11, min_samples_split=45, n_estimators=311; total time=  26.0s\n",
      "[CV] END criterion=gini, max_depth=84, max_features=auto, min_samples_leaf=1, min_samples_split=100, n_estimators=283; total time=  22.5s\n",
      "[CV] END criterion=entropy, max_depth=97, max_features=sqrt, min_samples_leaf=11, min_samples_split=45, n_estimators=311; total time=  26.0s\n",
      "[CV] END criterion=gini, max_depth=84, max_features=auto, min_samples_leaf=1, min_samples_split=100, n_estimators=283; total time=  22.6s\n",
      "[CV] END criterion=gini, max_depth=84, max_features=auto, min_samples_leaf=1, min_samples_split=100, n_estimators=283; total time=  22.0s\n",
      "[CV] END criterion=gini, max_depth=84, max_features=auto, min_samples_leaf=1, min_samples_split=100, n_estimators=283; total time=  22.3s\n",
      "[CV] END criterion=gini, max_depth=84, max_features=auto, min_samples_leaf=1, min_samples_split=100, n_estimators=283; total time=  22.0s\n",
      "[CV] END criterion=entropy, max_depth=72, max_features=auto, min_samples_leaf=1, min_samples_split=2, n_estimators=211; total time=  32.4s\n",
      "[CV] END criterion=entropy, max_depth=72, max_features=auto, min_samples_leaf=1, min_samples_split=2, n_estimators=211; total time=  32.2s\n",
      "[CV] END criterion=entropy, max_depth=72, max_features=auto, min_samples_leaf=1, min_samples_split=2, n_estimators=211; total time=  32.3s\n",
      "[CV] END criterion=entropy, max_depth=72, max_features=auto, min_samples_leaf=1, min_samples_split=2, n_estimators=211; total time=  32.7s\n",
      "[CV] END criterion=entropy, max_depth=29, max_features=auto, min_samples_leaf=28, min_samples_split=78, n_estimators=100; total time=   7.3s\n",
      "[CV] END criterion=entropy, max_depth=29, max_features=auto, min_samples_leaf=28, min_samples_split=78, n_estimators=100; total time=   8.0s\n",
      "[CV] END criterion=entropy, max_depth=29, max_features=auto, min_samples_leaf=28, min_samples_split=78, n_estimators=100; total time=   8.1s\n",
      "[CV] END criterion=entropy, max_depth=29, max_features=auto, min_samples_leaf=28, min_samples_split=78, n_estimators=100; total time=   7.7s\n",
      "[CV] END criterion=entropy, max_depth=72, max_features=auto, min_samples_leaf=1, min_samples_split=2, n_estimators=211; total time=  31.8s\n",
      "[CV] END criterion=entropy, max_depth=29, max_features=auto, min_samples_leaf=28, min_samples_split=78, n_estimators=100; total time=   7.6s\n",
      "[CV] END criterion=gini, max_depth=21, max_features=log2, min_samples_leaf=22, min_samples_split=67, n_estimators=350; total time=  19.7s\n",
      "[CV] END criterion=gini, max_depth=21, max_features=log2, min_samples_leaf=22, min_samples_split=67, n_estimators=350; total time=  19.4s\n",
      "[CV] END criterion=gini, max_depth=21, max_features=log2, min_samples_leaf=22, min_samples_split=67, n_estimators=350; total time=  19.7s\n",
      "[CV] END criterion=gini, max_depth=21, max_features=log2, min_samples_leaf=22, min_samples_split=67, n_estimators=350; total time=  19.6s\n",
      "[CV] END criterion=gini, max_depth=21, max_features=log2, min_samples_leaf=22, min_samples_split=67, n_estimators=350; total time=  18.6s\n",
      "[CV] END criterion=entropy, max_depth=110, max_features=sqrt, min_samples_leaf=39, min_samples_split=56, n_estimators=500; total time=  37.8s\n",
      "[CV] END criterion=entropy, max_depth=110, max_features=sqrt, min_samples_leaf=39, min_samples_split=56, n_estimators=500; total time=  38.4s\n",
      "[CV] END criterion=entropy, max_depth=110, max_features=sqrt, min_samples_leaf=39, min_samples_split=56, n_estimators=500; total time=  38.4s\n",
      "[CV] END criterion=entropy, max_depth=110, max_features=sqrt, min_samples_leaf=39, min_samples_split=56, n_estimators=500; total time=  38.9s\n",
      "[CV] END criterion=gini, max_depth=104, max_features=auto, min_samples_leaf=22, min_samples_split=34, n_estimators=350; total time=  29.2s\n",
      "[CV] END criterion=gini, max_depth=104, max_features=auto, min_samples_leaf=22, min_samples_split=34, n_estimators=350; total time=  29.3s\n",
      "[CV] END criterion=entropy, max_depth=110, max_features=sqrt, min_samples_leaf=39, min_samples_split=56, n_estimators=500; total time=  34.5s\n",
      "[CV] END criterion=gini, max_depth=104, max_features=auto, min_samples_leaf=22, min_samples_split=34, n_estimators=350; total time=  27.8s\n",
      "[CV] END criterion=gini, max_depth=104, max_features=auto, min_samples_leaf=22, min_samples_split=34, n_estimators=350; total time=  27.3s\n",
      "[CV] END criterion=gini, max_depth=104, max_features=auto, min_samples_leaf=22, min_samples_split=34, n_estimators=350; total time=  27.0s\n",
      "[CV] END criterion=gini, max_depth=123, max_features=sqrt, min_samples_leaf=33, min_samples_split=12, n_estimators=505; total time=  35.8s\n",
      "[CV] END criterion=gini, max_depth=123, max_features=sqrt, min_samples_leaf=33, min_samples_split=12, n_estimators=505; total time=  36.0s\n",
      "[CV] END criterion=gini, max_depth=123, max_features=sqrt, min_samples_leaf=33, min_samples_split=12, n_estimators=505; total time=  42.2s\n",
      "[CV] END criterion=gini, max_depth=123, max_features=sqrt, min_samples_leaf=33, min_samples_split=12, n_estimators=505; total time=  41.9s\n",
      "[CV] END criterion=entropy, max_depth=37, max_features=log2, min_samples_leaf=22, min_samples_split=67, n_estimators=466; total time=  31.3s\n",
      "[CV] END criterion=gini, max_depth=123, max_features=sqrt, min_samples_leaf=33, min_samples_split=12, n_estimators=505; total time=  42.0s\n",
      "[CV] END criterion=entropy, max_depth=37, max_features=log2, min_samples_leaf=22, min_samples_split=67, n_estimators=466; total time=  31.2s\n",
      "[CV] END criterion=entropy, max_depth=37, max_features=log2, min_samples_leaf=22, min_samples_split=67, n_estimators=466; total time=  31.5s\n",
      "[CV] END criterion=entropy, max_depth=37, max_features=log2, min_samples_leaf=22, min_samples_split=67, n_estimators=466; total time=  30.5s\n",
      "[CV] END criterion=entropy, max_depth=37, max_features=log2, min_samples_leaf=22, min_samples_split=67, n_estimators=466; total time=  30.2s\n",
      "[CV] END criterion=gini, max_depth=134, max_features=sqrt, min_samples_leaf=11, min_samples_split=100, n_estimators=555; total time=  48.4s\n",
      "[CV] END criterion=gini, max_depth=134, max_features=sqrt, min_samples_leaf=11, min_samples_split=100, n_estimators=555; total time=  48.8s\n",
      "[CV] END criterion=gini, max_depth=134, max_features=sqrt, min_samples_leaf=11, min_samples_split=100, n_estimators=555; total time=  46.5s\n",
      "[CV] END criterion=gini, max_depth=134, max_features=sqrt, min_samples_leaf=11, min_samples_split=100, n_estimators=555; total time=  46.6s\n",
      "[CV] END criterion=gini, max_depth=123, max_features=log2, min_samples_leaf=44, min_samples_split=34, n_estimators=538; total time=  24.5s\n",
      "[CV] END criterion=gini, max_depth=123, max_features=log2, min_samples_leaf=44, min_samples_split=34, n_estimators=538; total time=  24.1s\n",
      "[CV] END criterion=gini, max_depth=123, max_features=log2, min_samples_leaf=44, min_samples_split=34, n_estimators=538; total time=  24.4s\n",
      "[CV] END criterion=gini, max_depth=134, max_features=sqrt, min_samples_leaf=11, min_samples_split=100, n_estimators=555; total time=  37.8s\n",
      "[CV] END criterion=gini, max_depth=123, max_features=log2, min_samples_leaf=44, min_samples_split=34, n_estimators=538; total time=  26.3s\n",
      "[CV] END criterion=gini, max_depth=123, max_features=log2, min_samples_leaf=44, min_samples_split=34, n_estimators=538; total time=  28.9s\n",
      "[CV] END criterion=gini, max_depth=41, max_features=sqrt, min_samples_leaf=44, min_samples_split=12, n_estimators=483; total time=  37.1s\n",
      "[CV] END criterion=gini, max_depth=41, max_features=sqrt, min_samples_leaf=44, min_samples_split=12, n_estimators=483; total time=  37.2s\n",
      "[CV] END criterion=gini, max_depth=41, max_features=sqrt, min_samples_leaf=44, min_samples_split=12, n_estimators=483; total time=  36.6s\n",
      "[CV] END criterion=gini, max_depth=41, max_features=sqrt, min_samples_leaf=44, min_samples_split=12, n_estimators=483; total time=  33.4s\n",
      "[CV] END criterion=gini, max_depth=134, max_features=log2, min_samples_leaf=17, min_samples_split=2, n_estimators=305; total time=  19.7s\n",
      "[CV] END criterion=gini, max_depth=41, max_features=sqrt, min_samples_leaf=44, min_samples_split=12, n_estimators=483; total time=  33.0s\n",
      "[CV] END criterion=gini, max_depth=134, max_features=log2, min_samples_leaf=17, min_samples_split=2, n_estimators=305; total time=  19.0s\n",
      "[CV] END criterion=gini, max_depth=134, max_features=log2, min_samples_leaf=17, min_samples_split=2, n_estimators=305; total time=  19.2s\n",
      "[CV] END criterion=gini, max_depth=134, max_features=log2, min_samples_leaf=17, min_samples_split=2, n_estimators=305; total time=  19.3s\n",
      "[CV] END criterion=gini, max_depth=134, max_features=log2, min_samples_leaf=17, min_samples_split=2, n_estimators=305; total time=  19.0s\n",
      "[CV] END criterion=gini, max_depth=131, max_features=auto, min_samples_leaf=33, min_samples_split=67, n_estimators=294; total time=  22.2s\n",
      "[CV] END criterion=gini, max_depth=131, max_features=auto, min_samples_leaf=33, min_samples_split=67, n_estimators=294; total time=  22.3s\n",
      "[CV] END criterion=gini, max_depth=131, max_features=auto, min_samples_leaf=33, min_samples_split=67, n_estimators=294; total time=  22.7s\n",
      "[CV] END criterion=gini, max_depth=131, max_features=auto, min_samples_leaf=33, min_samples_split=67, n_estimators=294; total time=  21.4s\n",
      "[CV] END criterion=entropy, max_depth=126, max_features=auto, min_samples_leaf=50, min_samples_split=78, n_estimators=161; total time=  11.4s\n",
      "[CV] END criterion=entropy, max_depth=126, max_features=auto, min_samples_leaf=50, min_samples_split=78, n_estimators=161; total time=  11.5s\n",
      "[CV] END criterion=gini, max_depth=131, max_features=auto, min_samples_leaf=33, min_samples_split=67, n_estimators=294; total time=  21.6s\n",
      "[CV] END criterion=entropy, max_depth=126, max_features=auto, min_samples_leaf=50, min_samples_split=78, n_estimators=161; total time=  11.0s\n",
      "[CV] END criterion=gini, max_depth=130, max_features=log2, min_samples_leaf=1, min_samples_split=45, n_estimators=83; total time=   6.5s\n",
      "[CV] END criterion=entropy, max_depth=126, max_features=auto, min_samples_leaf=50, min_samples_split=78, n_estimators=161; total time=  10.7s\n",
      "[CV] END criterion=entropy, max_depth=126, max_features=auto, min_samples_leaf=50, min_samples_split=78, n_estimators=161; total time=  10.1s\n",
      "[CV] END criterion=gini, max_depth=130, max_features=log2, min_samples_leaf=1, min_samples_split=45, n_estimators=83; total time=   5.9s\n",
      "[CV] END criterion=gini, max_depth=130, max_features=log2, min_samples_leaf=1, min_samples_split=45, n_estimators=83; total time=   5.9s\n",
      "[CV] END criterion=gini, max_depth=130, max_features=log2, min_samples_leaf=1, min_samples_split=45, n_estimators=83; total time=   5.7s\n",
      "[CV] END criterion=gini, max_depth=130, max_features=log2, min_samples_leaf=1, min_samples_split=45, n_estimators=83; total time=   5.7s\n",
      "[CV] END criterion=entropy, max_depth=34, max_features=log2, min_samples_leaf=33, min_samples_split=67, n_estimators=405; total time=  19.4s\n",
      "[CV] END criterion=entropy, max_depth=34, max_features=log2, min_samples_leaf=33, min_samples_split=67, n_estimators=405; total time=  19.6s\n",
      "[CV] END criterion=entropy, max_depth=34, max_features=log2, min_samples_leaf=33, min_samples_split=67, n_estimators=405; total time=  19.2s\n",
      "[CV] END criterion=entropy, max_depth=34, max_features=log2, min_samples_leaf=33, min_samples_split=67, n_estimators=405; total time=  19.4s\n",
      "[CV] END criterion=entropy, max_depth=34, max_features=log2, min_samples_leaf=33, min_samples_split=67, n_estimators=405; total time=  19.3s\n",
      "[CV] END criterion=entropy, max_depth=33, max_features=log2, min_samples_leaf=28, min_samples_split=67, n_estimators=377; total time=  18.3s\n",
      "[CV] END criterion=entropy, max_depth=33, max_features=log2, min_samples_leaf=28, min_samples_split=67, n_estimators=377; total time=  18.3s\n",
      "[CV] END criterion=entropy, max_depth=33, max_features=log2, min_samples_leaf=28, min_samples_split=67, n_estimators=377; total time=  18.7s\n",
      "[CV] END criterion=entropy, max_depth=33, max_features=log2, min_samples_leaf=28, min_samples_split=67, n_estimators=377; total time=  19.6s\n",
      "[CV] END criterion=entropy, max_depth=33, max_features=log2, min_samples_leaf=28, min_samples_split=67, n_estimators=377; total time=  18.6s\n",
      "[CV] END criterion=entropy, max_depth=33, max_features=log2, min_samples_leaf=28, min_samples_split=34, n_estimators=366; total time=  18.4s\n",
      "[CV] END criterion=entropy, max_depth=33, max_features=log2, min_samples_leaf=28, min_samples_split=34, n_estimators=366; total time=  19.2s\n",
      "[CV] END criterion=gini, max_depth=140, max_features=auto, min_samples_leaf=28, min_samples_split=56, n_estimators=122; total time=  10.1s\n",
      "[CV] END criterion=entropy, max_depth=33, max_features=log2, min_samples_leaf=28, min_samples_split=34, n_estimators=366; total time=  19.3s\n",
      "[CV] END criterion=entropy, max_depth=33, max_features=log2, min_samples_leaf=28, min_samples_split=34, n_estimators=366; total time=  19.0s\n",
      "[CV] END criterion=entropy, max_depth=33, max_features=log2, min_samples_leaf=28, min_samples_split=34, n_estimators=366; total time=  19.1s\n",
      "[CV] END criterion=gini, max_depth=140, max_features=auto, min_samples_leaf=28, min_samples_split=56, n_estimators=122; total time=   9.4s\n",
      "[CV] END criterion=gini, max_depth=140, max_features=auto, min_samples_leaf=28, min_samples_split=56, n_estimators=122; total time=   8.5s\n",
      "[CV] END criterion=gini, max_depth=140, max_features=auto, min_samples_leaf=28, min_samples_split=56, n_estimators=122; total time=   7.9s\n",
      "[CV] END criterion=gini, max_depth=140, max_features=auto, min_samples_leaf=28, min_samples_split=56, n_estimators=122; total time=   8.0s\n"
     ]
    },
    {
     "data": {
      "text/plain": [
       "RandomizedSearchCV(estimator=ExtraTreesClassifier(n_jobs=-1, random_state=42),\n",
       "                   n_iter=50, n_jobs=-1,\n",
       "                   param_distributions={'criterion': ['gini', 'entropy'],\n",
       "                                        'max_depth': [None, 20, 21, 22, 23, 25,\n",
       "                                                      26, 27, 29, 30, 31, 33,\n",
       "                                                      34, 35, 37, 38, 39, 41,\n",
       "                                                      42, 43, 44, 46, 47, 48,\n",
       "                                                      50, 51, 52, 54, 55, 56, ...],\n",
       "                                        'max_features': ['auto', 'sqrt',\n",
       "                                                         'log2'],\n",
       "                                        'min_samples_leaf': array([ 1,  6, 11, 17, 22, 28, 33, 39, 44, 50...\n",
       "       338, 344, 350, 355, 361, 366, 372, 377, 383, 388, 394, 400, 405,\n",
       "       411, 416, 422, 427, 433, 438, 444, 450, 455, 461, 466, 472, 477,\n",
       "       483, 488, 494, 500, 505, 511, 516, 522, 527, 533, 538, 544, 550,\n",
       "       555, 561, 566, 572, 577, 583, 588, 594, 600])},\n",
       "                   random_state=42, refit=False,\n",
       "                   scoring={'accuracy': make_scorer(accuracy_score),\n",
       "                            'f1': make_scorer(f1_score, average=micro),\n",
       "                            'precision': make_scorer(precision_score, average=micro)},\n",
       "                   verbose=2)"
      ]
     },
     "execution_count": 40,
     "metadata": {},
     "output_type": "execute_result"
    }
   ],
   "source": [
    "model_extra = ExtraTreesClassifier(n_jobs=-1, random_state=42)\n",
    "\n",
    "params = {\n",
    "    \"n_estimators\": np.linspace(50, 600, 100, dtype=int),\n",
    "    \"criterion\": [\"gini\", \"entropy\"],\n",
    "    \"max_depth\": [None, *np.linspace(20, 150, 100, dtype=int)],\n",
    "    \"min_samples_split\": np.linspace(2, 100, 10, dtype=int),\n",
    "    \"min_samples_leaf\": np.linspace(1, 50, 10, dtype=int),\n",
    "    \"max_features\": [\"auto\", \"sqrt\", \"log2\"],\n",
    "}\n",
    "\n",
    "scorers = {\n",
    "    \"accuracy\": make_scorer(accuracy_score),\n",
    "    \"precision\": make_scorer(precision_score, average=\"micro\"),\n",
    "    \"f1\": make_scorer(f1_score, average=\"micro\")\n",
    "}\n",
    "\n",
    "clf_extra = RandomizedSearchCV(model_extra, params, refit=False, random_state=42, n_jobs=-1, verbose=2, n_iter=50, scoring=scorers)\n",
    "clf_extra.fit(X, y)"
   ]
  },
  {
   "cell_type": "code",
   "execution_count": null,
   "metadata": {},
   "outputs": [],
   "source": [
    "pd.DataFrame(clf_extra.cv_results_).to_csv(\"extra_results.csv\")"
   ]
  },
  {
   "cell_type": "code",
   "execution_count": 9,
   "metadata": {},
   "outputs": [],
   "source": [
    "import json"
   ]
  },
  {
   "cell_type": "code",
   "execution_count": 19,
   "metadata": {},
   "outputs": [
    {
     "data": {
      "text/plain": [
       "mean_test_accuracy     0.454507\n",
       "mean_test_precision    0.454507\n",
       "mean_test_f1           0.454507\n",
       "Name: 0, dtype: object"
      ]
     },
     "execution_count": 19,
     "metadata": {},
     "output_type": "execute_result"
    }
   ],
   "source": [
    "pd.read_csv(\"./sgd_results.csv\").sort_values(by=[\"rank_test_precision\"]).loc[0, [\"mean_test_accuracy\", \"mean_test_precision\", \"mean_test_f1\"]]"
   ]
  },
  {
   "cell_type": "code",
   "execution_count": 16,
   "metadata": {},
   "outputs": [
    {
     "data": {
      "text/plain": [
       "\"{'penalty': 'l1', 'loss': 'squared_hinge', 'learning_rate': 'optimal', 'l1_ratio': 0.33684210526315794, 'alpha': 0.053108163265306124}\""
      ]
     },
     "execution_count": 16,
     "metadata": {},
     "output_type": "execute_result"
    }
   ],
   "source": [
    "pd.read_csv(\"./sgd_results.csv\").sort_values(by=[\"rank_test_precision\"]).iloc[0][\"params\"]"
   ]
  },
  {
   "cell_type": "code",
   "execution_count": 20,
   "metadata": {},
   "outputs": [
    {
     "data": {
      "text/plain": [
       "mean_test_accuracy     0.608369\n",
       "mean_test_precision    0.608369\n",
       "mean_test_f1           0.608369\n",
       "Name: 0, dtype: object"
      ]
     },
     "execution_count": 20,
     "metadata": {},
     "output_type": "execute_result"
    }
   ],
   "source": [
    "pd.read_csv(\"./forest_results.csv\").sort_values(by=[\"rank_test_precision\"]).loc[0, [\"mean_test_accuracy\", \"mean_test_precision\", \"mean_test_f1\"]]"
   ]
  },
  {
   "cell_type": "code",
   "execution_count": 13,
   "metadata": {},
   "outputs": [
    {
     "data": {
      "text/plain": [
       "\"{'n_estimators': 211, 'min_samples_split': 2, 'min_samples_leaf': 1, 'max_features': 'auto', 'max_depth': 72, 'criterion': 'entropy'}\""
      ]
     },
     "execution_count": 13,
     "metadata": {},
     "output_type": "execute_result"
    }
   ],
   "source": [
    "pd.read_csv(\"./forest_results.csv\").sort_values(by=[\"rank_test_precision\"]).iloc[0][\"params\"]"
   ]
  },
  {
   "cell_type": "code",
   "execution_count": 21,
   "metadata": {},
   "outputs": [
    {
     "data": {
      "text/plain": [
       "mean_test_accuracy     0.597936\n",
       "mean_test_precision    0.597936\n",
       "mean_test_f1           0.597936\n",
       "Name: 0, dtype: object"
      ]
     },
     "execution_count": 21,
     "metadata": {},
     "output_type": "execute_result"
    }
   ],
   "source": [
    "pd.read_csv(\"./extra_results.csv\").sort_values(by=[\"rank_test_precision\"]).loc[0, [\"mean_test_accuracy\", \"mean_test_precision\", \"mean_test_f1\"]]"
   ]
  },
  {
   "cell_type": "code",
   "execution_count": 14,
   "metadata": {},
   "outputs": [
    {
     "data": {
      "text/plain": [
       "\"{'n_estimators': 211, 'min_samples_split': 2, 'min_samples_leaf': 1, 'max_features': 'auto', 'max_depth': 72, 'criterion': 'entropy'}\""
      ]
     },
     "execution_count": 14,
     "metadata": {},
     "output_type": "execute_result"
    }
   ],
   "source": [
    "pd.read_csv(\"./extra_results.csv\").sort_values(by=[\"rank_test_precision\"]).iloc[0][\"params\"]"
   ]
  },
  {
   "cell_type": "code",
   "execution_count": 4,
   "metadata": {},
   "outputs": [
    {
     "name": "stderr",
     "output_type": "stream",
     "text": [
      "[Parallel(n_jobs=-1)]: Using backend ThreadingBackend with 4 concurrent workers.\n"
     ]
    },
    {
     "name": "stdout",
     "output_type": "stream",
     "text": [
      "building tree 1 of 211building tree 2 of 211\n",
      "building tree 3 of 211\n",
      "building tree 4 of 211\n",
      "\n",
      "building tree 5 of 211\n",
      "building tree 6 of 211\n",
      "building tree 7 of 211\n",
      "building tree 8 of 211\n",
      "building tree 9 of 211\n",
      "building tree 10 of 211\n",
      "building tree 11 of 211\n",
      "building tree 12 of 211\n",
      "building tree 13 of 211\n",
      "building tree 14 of 211\n",
      "building tree 15 of 211\n",
      "building tree 16 of 211\n",
      "building tree 17 of 211\n",
      "building tree 18 of 211\n",
      "building tree 19 of 211\n",
      "building tree 20 of 211\n",
      "building tree 21 of 211\n",
      "building tree 22 of 211\n",
      "building tree 23 of 211\n",
      "building tree 24 of 211\n",
      "building tree 25 of 211\n",
      "building tree 26 of 211\n",
      "building tree 27 of 211\n",
      "building tree 28 of 211\n",
      "building tree 29 of 211\n",
      "building tree 30 of 211\n",
      "building tree 31 of 211\n",
      "building tree 32 of 211\n",
      "building tree 33 of 211\n",
      "building tree 34 of 211\n",
      "building tree 35 of 211\n",
      "building tree 36 of 211\n",
      "building tree 37 of 211\n",
      "building tree 38 of 211\n"
     ]
    },
    {
     "name": "stderr",
     "output_type": "stream",
     "text": [
      "[Parallel(n_jobs=-1)]: Done  33 tasks      | elapsed:   10.1s\n"
     ]
    },
    {
     "name": "stdout",
     "output_type": "stream",
     "text": [
      "building tree 39 of 211\n",
      "building tree 40 of 211\n",
      "building tree 41 of 211\n",
      "building tree 42 of 211\n",
      "building tree 43 of 211\n",
      "building tree 44 of 211\n",
      "building tree 45 of 211\n",
      "building tree 46 of 211\n",
      "building tree 47 of 211\n",
      "building tree 48 of 211\n",
      "building tree 49 of 211\n",
      "building tree 50 of 211\n",
      "building tree 51 of 211\n",
      "building tree 52 of 211\n",
      "building tree 53 of 211\n",
      "building tree 54 of 211\n",
      "building tree 55 of 211\n",
      "building tree 56 of 211\n",
      "building tree 57 of 211\n",
      "building tree 58 of 211\n",
      "building tree 59 of 211\n",
      "building tree 60 of 211\n",
      "building tree 61 of 211\n",
      "building tree 62 of 211\n",
      "building tree 63 of 211\n",
      "building tree 64 of 211\n",
      "building tree 65 of 211\n",
      "building tree 66 of 211\n",
      "building tree 67 of 211\n",
      "building tree 68 of 211\n",
      "building tree 69 of 211\n",
      "building tree 70 of 211\n",
      "building tree 71 of 211\n",
      "building tree 72 of 211\n",
      "building tree 73 of 211\n",
      "building tree 74 of 211\n",
      "building tree 75 of 211\n",
      "building tree 76 of 211\n",
      "building tree 77 of 211\n",
      "building tree 78 of 211\n",
      "building tree 79 of 211\n",
      "building tree 80 of 211\n",
      "building tree 81 of 211\n",
      "building tree 82 of 211\n",
      "building tree 83 of 211\n",
      "building tree 84 of 211\n",
      "building tree 85 of 211\n",
      "building tree 86 of 211\n",
      "building tree 87 of 211\n",
      "building tree 88 of 211\n",
      "building tree 89 of 211\n",
      "building tree 90 of 211\n",
      "building tree 91 of 211\n",
      "building tree 92 of 211\n",
      "building tree 93 of 211\n",
      "building tree 94 of 211\n",
      "building tree 95 of 211\n",
      "building tree 96 of 211\n",
      "building tree 97 of 211\n",
      "building tree 98 of 211\n",
      "building tree 99 of 211\n",
      "building tree 100 of 211\n",
      "building tree 101 of 211\n",
      "building tree 102 of 211\n",
      "building tree 103 of 211\n",
      "building tree 104 of 211\n",
      "building tree 105 of 211\n",
      "building tree 106 of 211\n",
      "building tree 107 of 211\n",
      "building tree 108 of 211\n",
      "building tree 109 of 211\n",
      "building tree 110 of 211\n",
      "building tree 111 of 211\n",
      "building tree 112 of 211\n",
      "building tree 113 of 211\n",
      "building tree 114 of 211\n",
      "building tree 115 of 211\n",
      "building tree 116 of 211\n",
      "building tree 117 of 211\n",
      "building tree 118 of 211\n",
      "building tree 119 of 211\n",
      "building tree 120 of 211\n",
      "building tree 121 of 211\n",
      "building tree 122 of 211\n",
      "building tree 123 of 211\n",
      "building tree 124 of 211\n",
      "building tree 125 of 211\n",
      "building tree 126 of 211\n",
      "building tree 127 of 211\n",
      "building tree 128 of 211\n",
      "building tree 129 of 211\n",
      "building tree 130 of 211\n",
      "building tree 131 of 211\n",
      "building tree 132 of 211\n",
      "building tree 133 of 211\n",
      "building tree 134 of 211\n",
      "building tree 135 of 211\n",
      "building tree 136 of 211\n",
      "building tree 137 of 211\n",
      "building tree 138 of 211\n",
      "building tree 139 of 211\n",
      "building tree 140 of 211\n",
      "building tree 141 of 211\n",
      "building tree 142 of 211\n",
      "building tree 143 of 211\n",
      "building tree 144 of 211\n",
      "building tree 145 of 211\n",
      "building tree 146 of 211\n",
      "building tree 147 of 211\n",
      "building tree 148 of 211\n",
      "building tree 149 of 211\n",
      "building tree 150 of 211\n",
      "building tree 151 of 211\n",
      "building tree 152 of 211\n",
      "building tree 153 of 211\n",
      "building tree 154 of 211\n",
      "building tree 155 of 211\n",
      "building tree 156 of 211\n",
      "building tree 157 of 211\n",
      "building tree 158 of 211\n",
      "building tree 159 of 211\n"
     ]
    },
    {
     "name": "stderr",
     "output_type": "stream",
     "text": [
      "[Parallel(n_jobs=-1)]: Done 154 tasks      | elapsed:   39.5s\n"
     ]
    },
    {
     "name": "stdout",
     "output_type": "stream",
     "text": [
      "building tree 160 of 211\n",
      "building tree 161 of 211\n",
      "building tree 162 of 211\n",
      "building tree 163 of 211\n",
      "building tree 164 of 211\n",
      "building tree 165 of 211\n",
      "building tree 166 of 211\n",
      "building tree 167 of 211\n",
      "building tree 168 of 211\n",
      "building tree 169 of 211\n",
      "building tree 170 of 211\n",
      "building tree 171 of 211\n",
      "building tree 172 of 211\n",
      "building tree 173 of 211\n",
      "building tree 174 of 211\n",
      "building tree 175 of 211\n",
      "building tree 176 of 211\n",
      "building tree 177 of 211\n",
      "building tree 178 of 211\n",
      "building tree 179 of 211\n",
      "building tree 180 of 211\n",
      "building tree 181 of 211\n",
      "building tree 182 of 211\n",
      "building tree 183 of 211\n",
      "building tree 184 of 211\n",
      "building tree 185 of 211\n",
      "building tree 186 of 211\n",
      "building tree 187 of 211\n",
      "building tree 188 of 211\n",
      "building tree 189 of 211\n",
      "building tree 190 of 211\n",
      "building tree 191 of 211\n",
      "building tree 192 of 211\n",
      "building tree 193 of 211\n",
      "building tree 194 of 211\n",
      "building tree 195 of 211\n",
      "building tree 196 of 211\n",
      "building tree 197 of 211\n",
      "building tree 198 of 211\n",
      "building tree 199 of 211\n",
      "building tree 200 of 211\n",
      "building tree 201 of 211\n",
      "building tree 202 of 211\n",
      "building tree 203 of 211\n",
      "building tree 204 of 211\n",
      "building tree 205 of 211\n",
      "building tree 206 of 211\n",
      "building tree 207 of 211\n",
      "building tree 208 of 211\n",
      "building tree 209 of 211\n",
      "building tree 210 of 211\n",
      "building tree 211 of 211\n"
     ]
    },
    {
     "name": "stderr",
     "output_type": "stream",
     "text": [
      "[Parallel(n_jobs=-1)]: Done 211 out of 211 | elapsed:   53.9s finished\n"
     ]
    },
    {
     "data": {
      "text/plain": [
       "RandomForestClassifier(criterion='entropy', max_depth=72, n_estimators=211,\n",
       "                       n_jobs=-1, random_state=42, verbose=2)"
      ]
     },
     "execution_count": 4,
     "metadata": {},
     "output_type": "execute_result"
    }
   ],
   "source": [
    "model_forest = RandomForestClassifier(\n",
    "    n_estimators=211,\n",
    "    min_samples_split=2,\n",
    "    min_samples_leaf=1,\n",
    "    max_features='auto',\n",
    "    max_depth=72,\n",
    "    criterion='entropy',\n",
    "    n_jobs=-1,\n",
    "    random_state=42,\n",
    "    verbose=2\n",
    ")\n",
    "\n",
    "model_forest.fit(X, y)"
   ]
  },
  {
   "cell_type": "code",
   "execution_count": 12,
   "metadata": {},
   "outputs": [
    {
     "data": {
      "text/plain": [
       "['random_forest.joblib']"
      ]
     },
     "execution_count": 12,
     "metadata": {},
     "output_type": "execute_result"
    }
   ],
   "source": [
    "joblib.dump(model_forest, \"random_forest.joblib\", compress=3)"
   ]
  },
  {
   "cell_type": "code",
   "execution_count": null,
   "metadata": {},
   "outputs": [],
   "source": []
  }
 ],
 "metadata": {
  "interpreter": {
   "hash": "6adb3fac7b6c326fcfcf78b951f67a644579a6cd62edb664761ae5ba8b94da53"
  },
  "kernelspec": {
   "display_name": "Python 3.9.7 64-bit ('conda-tf': conda)",
   "name": "python3"
  },
  "language_info": {
   "codemirror_mode": {
    "name": "ipython",
    "version": 3
   },
   "file_extension": ".py",
   "mimetype": "text/x-python",
   "name": "python",
   "nbconvert_exporter": "python",
   "pygments_lexer": "ipython3",
   "version": "3.9.7"
  },
  "orig_nbformat": 4
 },
 "nbformat": 4,
 "nbformat_minor": 2
}
